{
  "nbformat": 4,
  "nbformat_minor": 0,
  "metadata": {
    "colab": {
      "provenance": [],
      "authorship_tag": "ABX9TyOqqGRz4FdjPDeJYOm0Gn6t",
      "include_colab_link": true
    },
    "kernelspec": {
      "name": "python3",
      "display_name": "Python 3"
    },
    "language_info": {
      "name": "python"
    }
  },
  "cells": [
    {
      "cell_type": "markdown",
      "metadata": {
        "id": "view-in-github",
        "colab_type": "text"
      },
      "source": [
        "<a href=\"https://colab.research.google.com/github/rubyvanrooyen/notebooks/blob/main/getting_started/time_sampled_signals.ipynb\" target=\"_parent\"><img src=\"https://colab.research.google.com/assets/colab-badge.svg\" alt=\"Open In Colab\"/></a>"
      ]
    },
    {
      "cell_type": "markdown",
      "source": [
        "Max Scheel & Tim Molteno (2018-2019)    \n",
        "max@max.ac.nz\n",
        "\n",
        "About:\n",
        "   Simple script demonstrate how to extract raw data samples for each antenna.\n",
        "\n",
        "Requires:\n",
        "  - tart python package to be installed (sudo pip install tart)\n",
        "  - raw data HDF file from the telescope\n",
        "\n",
        "Usage:  `python3 time_sampled_signals.py --file  ~/Downloads/data_2019-07-24_22_47_14.353231.hdf`"
      ],
      "metadata": {
        "id": "cSf11CCZ92n2"
      }
    },
    {
      "cell_type": "markdown",
      "source": [
        "## Installation"
      ],
      "metadata": {
        "id": "VGLnDe8w6vYe"
      }
    },
    {
      "cell_type": "code",
      "execution_count": null,
      "metadata": {
        "id": "SfDIANh7qjQq"
      },
      "outputs": [],
      "source": [
        "!pip install tart tart-tools"
      ]
    },
    {
      "cell_type": "markdown",
      "source": [
        "## Script"
      ],
      "metadata": {
        "id": "3FQ8UsfV-eHe"
      }
    },
    {
      "cell_type": "code",
      "source": [
        "# The raw data data file: data_2019-07-24_22_47_14.353231.hd\n",
        "from google.colab import files\n",
        "files.upload()"
      ],
      "metadata": {
        "id": "l8M2SyGWnynE"
      },
      "execution_count": null,
      "outputs": []
    },
    {
      "cell_type": "code",
      "source": [
        "filename = 'data_2019-07-24_22_47_14.353231.hdf'"
      ],
      "metadata": {
        "id": "EnHaktee9ZbX"
      },
      "execution_count": null,
      "outputs": []
    },
    {
      "cell_type": "code",
      "source": [
        "from tart.operation import observation"
      ],
      "metadata": {
        "id": "dvliaHPG9ZYl"
      },
      "execution_count": null,
      "outputs": []
    },
    {
      "cell_type": "code",
      "source": [
        "# Load the Observation file\n",
        "obs = observation.Observation_Load(filename)\n",
        "\n",
        "# Antennas are indexed from 0..23. Get the samples first one.\n",
        "samples_ant_0 = obs.get_antenna(0)\n",
        "print(samples_ant_0)"
      ],
      "metadata": {
        "id": "XcX_EEGa9ZVN"
      },
      "execution_count": null,
      "outputs": []
    },
    {
      "cell_type": "code",
      "source": [],
      "metadata": {
        "id": "uvTdWxrX9ZRk"
      },
      "execution_count": null,
      "outputs": []
    }
  ]
}