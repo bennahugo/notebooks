{
  "nbformat": 4,
  "nbformat_minor": 0,
  "metadata": {
    "colab": {
      "provenance": [],
      "authorship_tag": "ABX9TyM9lvjDXVHc2a7ErAx4Vp7k",
      "include_colab_link": true
    },
    "kernelspec": {
      "name": "python3",
      "display_name": "Python 3"
    },
    "language_info": {
      "name": "python"
    }
  },
  "cells": [
    {
      "cell_type": "markdown",
      "metadata": {
        "id": "view-in-github",
        "colab_type": "text"
      },
      "source": [
        "<a href=\"https://colab.research.google.com/github/rubyvanrooyen/notebooks/blob/main/getting_started/TART_cmd_calibrate.ipynb\" target=\"_parent\"><img src=\"https://colab.research.google.com/assets/colab-badge.svg\" alt=\"Open In Colab\"/></a>"
      ]
    },
    {
      "cell_type": "markdown",
      "source": [
        "# TART command line tools\n",
        "\n",
        "Using the command line tools from the `tart-tools` package to interface with a TART telescope and obtain calibration data\n",
        "\n",
        "Extracted from the TART continuous calibration script `tart_calibrate.sh` authored by Tim Molteno.\n",
        "\n",
        "Reference\n",
        "Molteno et al. \"Continuous Calibration of the Transient Array Radio Telescope using Satellites\" from ENZCon 2017"
      ],
      "metadata": {
        "id": "cJ634KeQyUJf"
      }
    },
    {
      "cell_type": "markdown",
      "source": [
        "## Installation\n",
        "\n",
        "PyPI links for installation instructions and package information:\n",
        "* https://pypi.org/project/tart/\n",
        "* https://pypi.org/project/tart-tools/"
      ],
      "metadata": {
        "id": "IRJnTgFcwTbh"
      }
    },
    {
      "cell_type": "code",
      "source": [
        "!pip install tart-tools==999"
      ],
      "metadata": {
        "colab": {
          "base_uri": "https://localhost:8080/"
        },
        "id": "pY997G0889U2",
        "outputId": "5934de61-61ea-434b-c0b0-beaabe8a187d"
      },
      "execution_count": 1,
      "outputs": [
        {
          "output_type": "stream",
          "name": "stdout",
          "text": [
            "Looking in indexes: https://pypi.org/simple, https://us-python.pkg.dev/colab-wheels/public/simple/\n",
            "\u001b[31mERROR: Could not find a version that satisfies the requirement tart-tools==999 (from versions: 0.2.0b4, 0.2.0b5, 0.2.0b7, 0.2.0b8, 0.2.0b10, 0.2.0b11, 0.2.0b12, 0.2.0b13, 1.1.0b8, 1.1.0b9, 1.1.2b0, 1.1.2b2, 1.1.2b3, 1.1.2b4, 1.1.2b5)\u001b[0m\u001b[31m\n",
            "\u001b[0m\u001b[31mERROR: No matching distribution found for tart-tools==999\u001b[0m\u001b[31m\n",
            "\u001b[0m"
          ]
        }
      ]
    },
    {
      "cell_type": "code",
      "source": [
        "!pip install tart tart-tools"
      ],
      "metadata": {
        "colab": {
          "base_uri": "https://localhost:8080/"
        },
        "id": "hdo8gXX3orqF",
        "outputId": "9fb0181e-92b2-4549-c38e-45f7b5752ca6"
      },
      "execution_count": 1,
      "outputs": [
        {
          "output_type": "stream",
          "name": "stdout",
          "text": [
            "Looking in indexes: https://pypi.org/simple, https://us-python.pkg.dev/colab-wheels/public/simple/\n",
            "Requirement already satisfied: tart in /usr/local/lib/python3.8/dist-packages (1.1.2b5)\n",
            "Requirement already satisfied: tart-tools in /usr/local/lib/python3.8/dist-packages (1.1.2b5)\n",
            "Requirement already satisfied: numpy in /usr/local/lib/python3.8/dist-packages (from tart) (1.21.6)\n",
            "Requirement already satisfied: healpy in /usr/local/lib/python3.8/dist-packages (from tart) (1.16.2)\n",
            "Requirement already satisfied: python-dateutil in /usr/local/lib/python3.8/dist-packages (from tart) (2.8.2)\n",
            "Requirement already satisfied: astropy in /usr/local/lib/python3.8/dist-packages (from tart) (4.3.1)\n",
            "Requirement already satisfied: matplotlib in /usr/local/lib/python3.8/dist-packages (from tart) (3.2.2)\n",
            "Requirement already satisfied: h5py in /usr/local/lib/python3.8/dist-packages (from tart) (3.1.0)\n",
            "Requirement already satisfied: requests in /usr/local/lib/python3.8/dist-packages (from tart-tools) (2.25.1)\n",
            "Requirement already satisfied: pyerfa>=1.7.3 in /usr/local/lib/python3.8/dist-packages (from astropy->tart) (2.0.0.1)\n",
            "Requirement already satisfied: scipy in /usr/local/lib/python3.8/dist-packages (from healpy->tart) (1.7.3)\n",
            "Requirement already satisfied: pyparsing!=2.0.4,!=2.1.2,!=2.1.6,>=2.0.1 in /usr/local/lib/python3.8/dist-packages (from matplotlib->tart) (3.0.9)\n",
            "Requirement already satisfied: cycler>=0.10 in /usr/local/lib/python3.8/dist-packages (from matplotlib->tart) (0.11.0)\n",
            "Requirement already satisfied: kiwisolver>=1.0.1 in /usr/local/lib/python3.8/dist-packages (from matplotlib->tart) (1.4.4)\n",
            "Requirement already satisfied: six>=1.5 in /usr/local/lib/python3.8/dist-packages (from python-dateutil->tart) (1.15.0)\n",
            "Requirement already satisfied: idna<3,>=2.5 in /usr/local/lib/python3.8/dist-packages (from requests->tart-tools) (2.10)\n",
            "Requirement already satisfied: urllib3<1.27,>=1.21.1 in /usr/local/lib/python3.8/dist-packages (from requests->tart-tools) (1.24.3)\n",
            "Requirement already satisfied: chardet<5,>=3.0.2 in /usr/local/lib/python3.8/dist-packages (from requests->tart-tools) (4.0.0)\n",
            "Requirement already satisfied: certifi>=2017.4.17 in /usr/local/lib/python3.8/dist-packages (from requests->tart-tools) (2022.12.7)\n"
          ]
        }
      ]
    },
    {
      "cell_type": "markdown",
      "source": [
        "## TART calibration"
      ],
      "metadata": {
        "id": "_v8tNkBT2If3"
      }
    },
    {
      "cell_type": "markdown",
      "source": [
        "### Get calibration data"
      ],
      "metadata": {
        "id": "MP3vHUJS2md2"
      }
    },
    {
      "cell_type": "code",
      "source": [
        "!tart_calibration_data -h"
      ],
      "metadata": {
        "colab": {
          "base_uri": "https://localhost:8080/"
        },
        "id": "SIeaWrVw2CNV",
        "outputId": "f0a8cf1d-04af-48d7-bc0d-e9d20d0db7af"
      },
      "execution_count": 2,
      "outputs": [
        {
          "output_type": "stream",
          "name": "stdout",
          "text": [
            "usage: tart_calibration_data\n",
            "       [-h]\n",
            "       [--api API]\n",
            "       [--file FILE]\n",
            "       [--n N]\n",
            "       [--interval INTERVAL]\n",
            "       [--catalog CATALOG]\n",
            "\n",
            "Generate\n",
            "Calibration\n",
            "Data.\n",
            "\n",
            "optional arguments:\n",
            "  -h, --help\n",
            "    show this\n",
            "    help\n",
            "    message and\n",
            "    exit\n",
            "  --api API\n",
            "    Telescope\n",
            "    API server\n",
            "    URL.\n",
            "    (default: h\n",
            "    ttps://tart\n",
            "    .elec.ac.nz\n",
            "    /signal)\n",
            "  --file FILE\n",
            "    Calibration\n",
            "    Output JSON\n",
            "    file.\n",
            "    (default: c\n",
            "    alibration_\n",
            "    data.json)\n",
            "  --n N\n",
            "    Number of\n",
            "    samples in\n",
            "    the JSON\n",
            "    data file.\n",
            "    (default:\n",
            "    5)\n",
            "  --interval INTERVAL\n",
            "    Interval\n",
            "    (in\n",
            "    minutes)\n",
            "    between\n",
            "    samples in\n",
            "    the JSON\n",
            "    data file.\n",
            "    (default:\n",
            "    5)\n",
            "  --catalog CATALOG\n",
            "    Catalog API\n",
            "    URL.\n",
            "    (default: h\n",
            "    ttps://tart\n",
            "    .elec.ac.nz\n",
            "    /catalog)\n"
          ]
        }
      ]
    },
    {
      "cell_type": "markdown",
      "source": [
        "E.g. `tart_calibration_data --api <API> --n 3 --i 25 --file <CALIB_DATA_FILE>`"
      ],
      "metadata": {
        "id": "2s0Oc4pDt9Kq"
      }
    },
    {
      "cell_type": "code",
      "source": [
        "API = \"https://tart.elec.ac.nz/signal/\"\n",
        "CALIB_DATA = \"calib_data.json\""
      ],
      "metadata": {
        "id": "hNT_D1q5tMUY"
      },
      "execution_count": 3,
      "outputs": []
    },
    {
      "cell_type": "code",
      "source": [
        "!tart_calibration_data --api {API} --file {CALIB_DATA} --n 1 --i 25"
      ],
      "metadata": {
        "colab": {
          "base_uri": "https://localhost:8080/"
        },
        "id": "2D82XIFuplh8",
        "outputId": "4498ba59-105f-46f5-c9c9-4d6c1a58775a"
      },
      "execution_count": 4,
      "outputs": [
        {
          "output_type": "stream",
          "name": "stdout",
          "text": [
            "Loading new data from https://tart.elec.ac.nz/signal/...\n",
            "Traceback (most recent call last):\n",
            "  File \"/usr/local/bin/tart_calibration_data\", line 85, in <module>\n",
            "    vis_json, src_json = load_data(api, config)\n",
            "  File \"/usr/local/bin/tart_calibration_data\", line 34, in load_data\n",
            "    print(f\"Getting catalog from {api.catalog_url(config, datestr=ts.isoformat())}\")\n",
            "TypeError: catalog_url() missing 1 required positional argument: 'lat'\n"
          ]
        }
      ]
    },
    {
      "cell_type": "markdown",
      "source": [
        "### Perform optimization"
      ],
      "metadata": {
        "id": "8vfBHAtgvhKM"
      }
    },
    {
      "cell_type": "code",
      "source": [
        "!tart_calibrate -h"
      ],
      "metadata": {
        "id": "6oHQmlnGv63B"
      },
      "execution_count": null,
      "outputs": []
    },
    {
      "cell_type": "markdown",
      "source": [
        "E.g. `tart_calibrate --api <API> --file <CALIB_DATA> --method <METHOD>`"
      ],
      "metadata": {
        "id": "-C3gL46bvpg1"
      }
    },
    {
      "cell_type": "code",
      "source": [
        "METHOD = \"BH\"\n",
        "# calibration output file produced by tart_calibrate\n",
        "CALIB_OUTPUT = f\"{METHOD}_opt_json.json\""
      ],
      "metadata": {
        "id": "oLJE3M3ewNUC"
      },
      "execution_count": 6,
      "outputs": []
    },
    {
      "cell_type": "code",
      "source": [
        "!tart_calibrate --api {API} --file {CALIB_DATA} --method {METHOD}"
      ],
      "metadata": {
        "id": "uapby0KtwUUG"
      },
      "execution_count": null,
      "outputs": []
    },
    {
      "cell_type": "code",
      "source": [
        "import os\n",
        "import shutil  \n",
        "print(os.getcwd())"
      ],
      "metadata": {
        "colab": {
          "base_uri": "https://localhost:8080/"
        },
        "id": "co-0JVtq6uWd",
        "outputId": "50ec1d4f-e8de-46d7-91a8-4b5059e9ce33"
      },
      "execution_count": 8,
      "outputs": [
        {
          "output_type": "stream",
          "name": "stdout",
          "text": [
            "/content\n"
          ]
        }
      ]
    },
    {
      "cell_type": "code",
      "source": [
        "from datetime import datetime\n",
        "t = datetime.now()\n",
        "DATESTR = t.strftime('%Y_%m_%d_%H_%M_%S')"
      ],
      "metadata": {
        "id": "buvVyU_ur77Y"
      },
      "execution_count": 9,
      "outputs": []
    },
    {
      "cell_type": "code",
      "source": [
        "source = CALIB_OUTPUT\n",
        "destination = f\"cal_{DATESTR}.json\"\n",
        "shutil.move(source, destination)\n",
        "print(f\"Calibration output is in {destination}\")"
      ],
      "metadata": {
        "id": "AJqrdODq4j7f"
      },
      "execution_count": null,
      "outputs": []
    },
    {
      "cell_type": "markdown",
      "source": [
        "### Upload gains to telescope\n",
        "\n",
        "E.g. `tart_upload_gains --api <API> --gains <destination> --pw <password>`\n",
        "\n",
        "NOTE. Modify the <password> to be the password for your telescope to allow the gains and phases to be saved."
      ],
      "metadata": {
        "id": "UeozpfFI9pQh"
      }
    },
    {
      "cell_type": "code",
      "source": [
        "!tart_upload_gains -h"
      ],
      "metadata": {
        "id": "ZbA4bPot96Fd"
      },
      "execution_count": null,
      "outputs": []
    },
    {
      "cell_type": "code",
      "execution_count": null,
      "metadata": {
        "id": "n-5EiHd0yMqc"
      },
      "outputs": [],
      "source": []
    }
  ]
}