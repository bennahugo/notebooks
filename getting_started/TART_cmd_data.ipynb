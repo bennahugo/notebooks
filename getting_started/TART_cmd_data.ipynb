{
  "nbformat": 4,
  "nbformat_minor": 0,
  "metadata": {
    "colab": {
      "provenance": [],
      "authorship_tag": "ABX9TyP6M9/hnFD6qgdquW4bpWAF",
      "include_colab_link": true
    },
    "kernelspec": {
      "name": "python3",
      "display_name": "Python 3"
    },
    "language_info": {
      "name": "python"
    }
  },
  "cells": [
    {
      "cell_type": "markdown",
      "metadata": {
        "id": "view-in-github",
        "colab_type": "text"
      },
      "source": [
        "<a href=\"https://colab.research.google.com/github/rubyvanrooyen/notebooks/blob/main/getting_started/TART_cmd_data.ipynb\" target=\"_parent\"><img src=\"https://colab.research.google.com/assets/colab-badge.svg\" alt=\"Open In Colab\"/></a>"
      ]
    },
    {
      "cell_type": "markdown",
      "source": [
        "# TART command line tools"
      ],
      "metadata": {
        "id": "iKSLHY2OJiR1"
      }
    },
    {
      "cell_type": "markdown",
      "source": [
        "The `tart_tools` package provides some command line tools for downloading data from the TART via API requests.    \n",
        "\n",
        "For the example notebooks we will use the API for the TART telescope on top of Signal-Hill near Dunedin New Zealand.    \n",
        "The API for the telescope is documented online (https://tart.elec.ac.nz/signal/doc/) and shows the restful API calls that can be made.\n",
        "\n",
        "Users should note that no password is needed to download data.    \n",
        "Password access is a requirement only for uploading information to modify the telescope properties."
      ],
      "metadata": {
        "id": "UzlwCcwTIbPE"
      }
    },
    {
      "cell_type": "markdown",
      "source": [
        "## Installation"
      ],
      "metadata": {
        "id": "LK0zLU8WJmIl"
      }
    },
    {
      "cell_type": "code",
      "source": [
        "!pip install --upgrade pip wheel"
      ],
      "metadata": {
        "colab": {
          "base_uri": "https://localhost:8080/"
        },
        "id": "ZcXW4ixxYBb-",
        "outputId": "ad4132ba-ee2f-49f2-a228-d4bdc8b4375c"
      },
      "execution_count": 1,
      "outputs": [
        {
          "output_type": "stream",
          "name": "stdout",
          "text": [
            "Looking in indexes: https://pypi.org/simple, https://us-python.pkg.dev/colab-wheels/public/simple/\n",
            "Requirement already satisfied: pip in /usr/local/lib/python3.7/dist-packages (21.1.3)\n",
            "Collecting pip\n",
            "  Downloading pip-22.3-py3-none-any.whl (2.1 MB)\n",
            "\u001b[K     |████████████████████████████████| 2.1 MB 4.2 MB/s \n",
            "\u001b[?25hRequirement already satisfied: wheel in /usr/local/lib/python3.7/dist-packages (0.37.1)\n",
            "Installing collected packages: pip\n",
            "  Attempting uninstall: pip\n",
            "    Found existing installation: pip 21.1.3\n",
            "    Uninstalling pip-21.1.3:\n",
            "      Successfully uninstalled pip-21.1.3\n",
            "Successfully installed pip-22.3\n"
          ]
        }
      ]
    },
    {
      "cell_type": "code",
      "execution_count": 2,
      "metadata": {
        "colab": {
          "base_uri": "https://localhost:8080/"
        },
        "id": "JpA1CU_MBNrR",
        "outputId": "7c014d11-c4d8-4a92-f745-82295d4657d4"
      },
      "outputs": [
        {
          "output_type": "stream",
          "name": "stdout",
          "text": [
            "Looking in indexes: https://pypi.org/simple, https://us-python.pkg.dev/colab-wheels/public/simple/\n",
            "Collecting tart\n",
            "  Downloading tart-1.1.0b9-py3-none-any.whl (105 kB)\n",
            "\u001b[2K     \u001b[90m━━━━━━━━━━━━━━━━━━━━━━━━━━━━━━━━━━━━━━━\u001b[0m \u001b[32m105.8/105.8 kB\u001b[0m \u001b[31m3.7 MB/s\u001b[0m eta \u001b[36m0:00:00\u001b[0m\n",
            "\u001b[?25hCollecting tart-tools\n",
            "  Downloading tart_tools-1.1.0b9-py3-none-any.whl (36 kB)\n",
            "Collecting healpy\n",
            "  Downloading healpy-1.16.1-cp37-cp37m-manylinux_2_17_x86_64.manylinux2014_x86_64.whl (23.7 MB)\n",
            "\u001b[2K     \u001b[90m━━━━━━━━━━━━━━━━━━━━━━━━━━━━━━━━━━━━━━━━\u001b[0m \u001b[32m23.7/23.7 MB\u001b[0m \u001b[31m46.8 MB/s\u001b[0m eta \u001b[36m0:00:00\u001b[0m\n",
            "\u001b[?25hRequirement already satisfied: astropy in /usr/local/lib/python3.7/dist-packages (from tart) (4.3.1)\n",
            "Requirement already satisfied: matplotlib in /usr/local/lib/python3.7/dist-packages (from tart) (3.2.2)\n",
            "Requirement already satisfied: numpy in /usr/local/lib/python3.7/dist-packages (from tart) (1.21.6)\n",
            "Requirement already satisfied: h5py in /usr/local/lib/python3.7/dist-packages (from tart) (3.1.0)\n",
            "Requirement already satisfied: importlib-metadata in /usr/local/lib/python3.7/dist-packages (from astropy->tart) (5.0.0)\n",
            "Requirement already satisfied: pyerfa>=1.7.3 in /usr/local/lib/python3.7/dist-packages (from astropy->tart) (2.0.0.1)\n",
            "Requirement already satisfied: cached-property in /usr/local/lib/python3.7/dist-packages (from h5py->tart) (1.5.2)\n",
            "Requirement already satisfied: scipy in /usr/local/lib/python3.7/dist-packages (from healpy->tart) (1.7.3)\n",
            "Requirement already satisfied: cycler>=0.10 in /usr/local/lib/python3.7/dist-packages (from matplotlib->tart) (0.11.0)\n",
            "Requirement already satisfied: python-dateutil>=2.1 in /usr/local/lib/python3.7/dist-packages (from matplotlib->tart) (2.8.2)\n",
            "Requirement already satisfied: kiwisolver>=1.0.1 in /usr/local/lib/python3.7/dist-packages (from matplotlib->tart) (1.4.4)\n",
            "Requirement already satisfied: pyparsing!=2.0.4,!=2.1.2,!=2.1.6,>=2.0.1 in /usr/local/lib/python3.7/dist-packages (from matplotlib->tart) (3.0.9)\n",
            "Requirement already satisfied: typing-extensions in /usr/local/lib/python3.7/dist-packages (from kiwisolver>=1.0.1->matplotlib->tart) (4.1.1)\n",
            "Requirement already satisfied: six>=1.5 in /usr/local/lib/python3.7/dist-packages (from python-dateutil>=2.1->matplotlib->tart) (1.15.0)\n",
            "Requirement already satisfied: zipp>=0.5 in /usr/local/lib/python3.7/dist-packages (from importlib-metadata->astropy->tart) (3.9.0)\n",
            "Installing collected packages: healpy, tart, tart-tools\n",
            "Successfully installed healpy-1.16.1 tart-1.1.0b9 tart-tools-1.1.0b9\n",
            "\u001b[33mWARNING: Running pip as the 'root' user can result in broken permissions and conflicting behaviour with the system package manager. It is recommended to use a virtual environment instead: https://pip.pypa.io/warnings/venv\u001b[0m\u001b[33m\n",
            "\u001b[0m"
          ]
        }
      ],
      "source": [
        "!pip install tart tart-tools"
      ]
    },
    {
      "cell_type": "markdown",
      "source": [
        "## Antenna positions\n",
        "\n",
        "Antenna position information for the TART can be found online via the API at    \n",
        "https://tart.elec.ac.nz/signal/api/v1/imaging/antenna_positions"
      ],
      "metadata": {
        "id": "N09fxlh6LNhl"
      }
    },
    {
      "cell_type": "code",
      "source": [
        "!tart_download_antenna_positions -h"
      ],
      "metadata": {
        "colab": {
          "base_uri": "https://localhost:8080/"
        },
        "id": "PVNEoS3RLQCa",
        "outputId": "73094ad0-8247-48de-9fd6-94e85071ff11"
      },
      "execution_count": 15,
      "outputs": [
        {
          "output_type": "stream",
          "name": "stdout",
          "text": [
            "usage: tart_download_antenna_positions [-h] [--api API] [--file FILE]\n",
            "\n",
            "Save antenna positions from api to local file\n",
            "\n",
            "optional arguments:\n",
            "  -h, --help   show this help message and exit\n",
            "  --api API    Telescope API server URL. (default:\n",
            "               https://tart.elec.ac.nz/signal)\n",
            "  --file FILE  local file to dump antenna positions (default:\n",
            "               antenna_positions.json)\n"
          ]
        }
      ]
    },
    {
      "cell_type": "code",
      "source": [
        "API=\"https://tart.elec.ac.nz/signal\"\n",
        "ANT_POS = \"antenna_positions.json\""
      ],
      "metadata": {
        "id": "5g6Ra21SLP_g"
      },
      "execution_count": 3,
      "outputs": []
    },
    {
      "cell_type": "code",
      "source": [
        "!tart_download_antenna_positions --api {API} --file {ANT_POS}"
      ],
      "metadata": {
        "id": "j86mHm_vLP78"
      },
      "execution_count": 4,
      "outputs": []
    },
    {
      "cell_type": "code",
      "source": [
        "import json\n",
        "import pprint\n",
        "\n",
        "json_data = None\n",
        "with open(ANT_POS, 'r') as f:\n",
        "    data = f.read()\n",
        "    json_data = json.loads(data)\n",
        "\n",
        "pprint.pprint(json_data)"
      ],
      "metadata": {
        "colab": {
          "base_uri": "https://localhost:8080/"
        },
        "id": "eeWhT1VoPUi7",
        "outputId": "91c55cc6-a8c0-4311-8688-45b08d884440"
      },
      "execution_count": 5,
      "outputs": [
        {
          "output_type": "stream",
          "name": "stdout",
          "text": [
            "{'antenna_positions': [[-0.21528604037456617, 0.8281484895958217, 0.0],\n",
            "                       [0.10535783351569493, 0.8189015367654884, 0.0],\n",
            "                       [-0.3375233150391809, 0.6866280010347388, 0.0],\n",
            "                       [0.4980452256520159, 1.2801136485504838, 0.0],\n",
            "                       [-0.21964027212405243, 1.4043212420458762, 0.0],\n",
            "                       [0.24045336031120934, 1.3895276828890628, 0.0],\n",
            "                       [1.0421031116562751, -0.40889375719899235, 0.0],\n",
            "                       [1.1939233821463993, -0.12542311415406313, 0.0],\n",
            "                       [1.1161978345836907, -0.5876532941034877, 0.0],\n",
            "                       [0.9726146101121786, 0.43267403457607084, 0.0],\n",
            "                       [0.5298300847486005, -0.13725917563241607, 0.0],\n",
            "                       [0.7624296891770803, 0.26153578925519994, 0.0],\n",
            "                       [-0.40256146338366056, -1.03578630431108, 0.0],\n",
            "                       [-0.12794286818057973, -1.1856983690980296, 0.0],\n",
            "                       [-0.5784683707772291, -1.1045086437010525, 0.0],\n",
            "                       [0.4342764661175745, -0.9552240318252214, 0.0],\n",
            "                       [-0.15464975391937347, -0.5282276532070972, 0.0],\n",
            "                       [0.2501756022394374, -0.7428096445551406, 0.0],\n",
            "                       [-0.8647679955102403, 0.3527042868199944, 0.0],\n",
            "                       [-1.1255377062348428, 0.19111481325006516, 0.0],\n",
            "                       [-0.8341825016139667, 0.5386089063514117, 0.0],\n",
            "                       [-1.1929829972032369, -0.3979353821715039, 0.0],\n",
            "                       [-0.5500695045524783, -0.1217067794389067, 0.0],\n",
            "                       [-0.9370941418362948, -0.3486008739749496, 0.0]]}\n"
          ]
        }
      ]
    },
    {
      "cell_type": "markdown",
      "source": [
        "## Gains\n",
        "\n",
        "Channel based complex gains for calibration via the API at\n",
        "https://tart.elec.ac.nz/signal/api/v1/calibration/gain"
      ],
      "metadata": {
        "id": "fZxi9651WprW"
      }
    },
    {
      "cell_type": "code",
      "source": [
        "!tart_download_gains -h"
      ],
      "metadata": {
        "colab": {
          "base_uri": "https://localhost:8080/"
        },
        "id": "jlAJgMLhWqHb",
        "outputId": "4962e4cb-7241-4ac9-80da-50c7965687b7"
      },
      "execution_count": 10,
      "outputs": [
        {
          "output_type": "stream",
          "name": "stdout",
          "text": [
            "usage: tart_download_gains [-h] [--api API] [--file FILE]\n",
            "\n",
            "Save gains from api to local file\n",
            "\n",
            "optional arguments:\n",
            "  -h, --help   show this help message and exit\n",
            "  --api API    Telescope API server URL. (default:\n",
            "               https://tart.elec.ac.nz/signal)\n",
            "  --file FILE  local file to dump gains (default: gains.json)\n"
          ]
        }
      ]
    },
    {
      "cell_type": "code",
      "source": [
        "API=\"https://tart.elec.ac.nz/signal\"\n",
        "ANT_GAINS = \"gains.json\""
      ],
      "metadata": {
        "id": "yYM9UNDmZJde"
      },
      "execution_count": 11,
      "outputs": []
    },
    {
      "cell_type": "code",
      "source": [
        "!tart_download_gains --api {API} --file {ANT_POS}"
      ],
      "metadata": {
        "id": "V2IAlRxZZQ9N"
      },
      "execution_count": 14,
      "outputs": []
    },
    {
      "cell_type": "code",
      "source": [
        "import json\n",
        "import pprint\n",
        "\n",
        "json_data = None\n",
        "with open(ANT_POS, 'r') as f:\n",
        "    data = f.read()\n",
        "    json_data = json.loads(data)\n",
        "\n",
        "pprint.pprint(json_data)"
      ],
      "metadata": {
        "colab": {
          "base_uri": "https://localhost:8080/"
        },
        "outputId": "a37f15d0-17fc-43c3-d5b7-167a760a6b50",
        "id": "uZXx-K78Z59r"
      },
      "execution_count": 15,
      "outputs": [
        {
          "output_type": "stream",
          "name": "stdout",
          "text": [
            "{'gain': [1.0,\n",
            "          1.0297,\n",
            "          0.8549,\n",
            "          0.9877,\n",
            "          0.8991,\n",
            "          0.9606,\n",
            "          1.0317,\n",
            "          1.0357,\n",
            "          1.0873,\n",
            "          1.4286,\n",
            "          0.9973,\n",
            "          0.9568,\n",
            "          0.9612,\n",
            "          1.0631,\n",
            "          0.9841,\n",
            "          0.9991,\n",
            "          1.0259,\n",
            "          1.0871,\n",
            "          1.0053,\n",
            "          1.0022,\n",
            "          0.9999,\n",
            "          1.0032,\n",
            "          1.0004,\n",
            "          1.0263],\n",
            " 'phase_offset': [0.0,\n",
            "                  1.3999,\n",
            "                  -2.5835,\n",
            "                  0.4723,\n",
            "                  2.9144,\n",
            "                  -0.1106,\n",
            "                  -3.5719,\n",
            "                  -1.9462,\n",
            "                  3.7635,\n",
            "                  -2.8453,\n",
            "                  0.2421,\n",
            "                  2.0948,\n",
            "                  -2.6985,\n",
            "                  0.7966,\n",
            "                  -2.762,\n",
            "                  -0.9641,\n",
            "                  2.0979,\n",
            "                  0.2008,\n",
            "                  2.4518,\n",
            "                  -1.5328,\n",
            "                  0.7987,\n",
            "                  3.1676,\n",
            "                  3.4711,\n",
            "                  0.8714]}\n"
          ]
        }
      ]
    },
    {
      "cell_type": "markdown",
      "source": [
        "## Data"
      ],
      "metadata": {
        "id": "6A-VibPgaisb"
      }
    },
    {
      "cell_type": "code",
      "source": [
        "!tart_download_data -h"
      ],
      "metadata": {
        "colab": {
          "base_uri": "https://localhost:8080/"
        },
        "id": "oj8TVBPcBP_-",
        "outputId": "33566a71-b469-488a-f283-00c79a9bc6c7"
      },
      "execution_count": 16,
      "outputs": [
        {
          "output_type": "stream",
          "name": "stdout",
          "text": [
            "usage: tart_download_data [-h] [--api API] [--pw PW] [--dir DIR] [--n N]\n",
            "                          [--raw] [--vis]\n",
            "\n",
            "Download data from the telescope\n",
            "\n",
            "optional arguments:\n",
            "  -h, --help  show this help message and exit\n",
            "  --api API   Telescope API server URL. (default:\n",
            "              https://tart.elec.ac.nz/signal)\n",
            "  --pw PW     API password (default: password)\n",
            "  --dir DIR   local directory to download (default: .)\n",
            "  --n N       Stop after downloading this many files. (default: -1)\n",
            "  --raw       Download Raw Data in HDF format (default: False)\n",
            "  --vis       Download Visibility Data in HDF format (default: False)\n"
          ]
        }
      ]
    },
    {
      "cell_type": "code",
      "source": [
        "API=\"https://tart.elec.ac.nz/signal\""
      ],
      "metadata": {
        "id": "pImT9x1YBtKg"
      },
      "execution_count": 17,
      "outputs": []
    },
    {
      "cell_type": "markdown",
      "source": [
        "### Raw HDF5 data\n",
        "\n",
        "List of latest raw data files via the API at https://tart.elec.ac.nz/signal/api/v1/raw/data"
      ],
      "metadata": {
        "id": "KRk7o4U7alOH"
      }
    },
    {
      "cell_type": "code",
      "source": [
        "!tart_download_data --api {API} --n 1 --raw"
      ],
      "metadata": {
        "colab": {
          "base_uri": "https://localhost:8080/"
        },
        "id": "KnKm8uIOCQtH",
        "outputId": "5f0d55dc-80c0-44d7-92b2-32f7c46aec7d"
      },
      "execution_count": 18,
      "outputs": [
        {
          "output_type": "stream",
          "name": "stdout",
          "text": [
            "2022-10-18 14:11:14,820 - root - INFO - Downloading Raw Data from https://tart.elec.ac.nz/signal\n",
            "2022-10-18 14:11:15,712 - root - INFO - Download_file(https://tart.elec.ac.nz/signal/raw/2022/10/18/data_2022-10-18_14_00_16.997874.hdf, b0ab70ecab68f3967bedf32c8c7185850576c715880f420c4db10362ca61316f) -> ./data_2022-10-18_14_00_16.997874.hdf\n"
          ]
        }
      ]
    },
    {
      "cell_type": "markdown",
      "source": [
        "### Vis HDF5 data\n",
        "\n",
        "List of latest vis data files via the API at https://tart.elec.ac.nz/signal/api/v1/vis/data"
      ],
      "metadata": {
        "id": "GLkl22sUbEgf"
      }
    },
    {
      "cell_type": "code",
      "source": [
        "!tart_download_data --api {API} --n 1 --vis"
      ],
      "metadata": {
        "colab": {
          "base_uri": "https://localhost:8080/"
        },
        "id": "iwd_NTysbHZP",
        "outputId": "1ef13681-a082-404d-8f69-4a98582253bd"
      },
      "execution_count": 19,
      "outputs": [
        {
          "output_type": "stream",
          "name": "stdout",
          "text": [
            "2022-10-18 14:14:28,353 - root - INFO - Downloading Raw Data from https://tart.elec.ac.nz/signal\n",
            "2022-10-18 14:14:29,249 - root - INFO - Download_file(https://tart.elec.ac.nz/signal/vis/vis_2022-10-18_14_13_39.066441.hdf, e9693be981fa401a46f6168a1d8e6cedbdad29361f191d757872e664ce4c3278) -> ./vis_2022-10-18_14_13_39.066441.hdf\n"
          ]
        }
      ]
    },
    {
      "cell_type": "markdown",
      "source": [
        "## Visibilities\n",
        "Convert a vis data file to JSON"
      ],
      "metadata": {
        "id": "ZzM9KsaFc6Gm"
      }
    },
    {
      "cell_type": "code",
      "source": [
        "!tart_vis2json -h"
      ],
      "metadata": {
        "colab": {
          "base_uri": "https://localhost:8080/"
        },
        "id": "Jp5POthmc6sw",
        "outputId": "5a4e741a-7a4a-484d-b150-93923cce1285"
      },
      "execution_count": 20,
      "outputs": [
        {
          "output_type": "stream",
          "name": "stdout",
          "text": [
            "usage: tart_vis2json [-h] [--vis [VIS [VIS ...]]]\n",
            "\n",
            "Generate offline json files from a list of visibility objects files.\n",
            "\n",
            "optional arguments:\n",
            "  -h, --help            show this help message and exit\n",
            "  --vis [VIS [VIS ...]]\n",
            "                        Visibilities data file.\n"
          ]
        }
      ]
    },
    {
      "cell_type": "code",
      "source": [
        "VIS=\"vis_2022-10-18_14_13_39.066441.hdf\""
      ],
      "metadata": {
        "id": "TBIZIYO2de7b"
      },
      "execution_count": 21,
      "outputs": []
    },
    {
      "cell_type": "code",
      "source": [
        "!tart_vis2json --vis {VIS}"
      ],
      "metadata": {
        "colab": {
          "base_uri": "https://localhost:8080/"
        },
        "id": "0eh_ac__dqPv",
        "outputId": "54ac7b95-2d48-4a05-c7e5-92586d26cf0d"
      },
      "execution_count": 22,
      "outputs": [
        {
          "output_type": "stream",
          "name": "stdout",
          "text": [
            "Traceback (most recent call last):\n",
            "  File \"/usr/local/bin/tart_vis2json\", line 38, in <module>\n",
            "    vis_dict = create_direct_vis_dict(vis)\n",
            "  File \"/usr/local/bin/tart_vis2json\", line 15, in create_direct_vis_dict\n",
            "    for (b, v) in zip(vis.baselines, vis.v):\n",
            "AttributeError: 'str' object has no attribute 'baselines'\n"
          ]
        }
      ]
    },
    {
      "cell_type": "markdown",
      "source": [
        "## Sky view\n",
        "Generate an image of the current view from a telescope"
      ],
      "metadata": {
        "id": "rCMNYTyrQWsj"
      }
    },
    {
      "cell_type": "code",
      "source": [
        "!tart_image -h"
      ],
      "metadata": {
        "colab": {
          "base_uri": "https://localhost:8080/"
        },
        "id": "eISaFvAzRLI8",
        "outputId": "43d62dbc-bd04-4b48-c231-eccadca2123d"
      },
      "execution_count": 6,
      "outputs": [
        {
          "output_type": "stream",
          "name": "stdout",
          "text": [
            "usage: tart_image [-h] [--api API] [--catalog CATALOG] [--file FILE]\n",
            "                  [--gains GAINS] [--vis VIS] [--dir DIR]\n",
            "                  [--rotation ROTATION] [--nfft NFFT] [--dirty] [--difmap]\n",
            "                  [--aipy] [--moresane] [--beam] [--healpix] [--display]\n",
            "                  [--log] [--fits] [--PNG] [--show-sources]\n",
            "\n",
            "Generate an image using the web api ofs a TART radio telescope.\n",
            "\n",
            "optional arguments:\n",
            "  -h, --help           show this help message and exit\n",
            "  --api API            Telescope API server URL. (default:\n",
            "                       https://tart.elec.ac.nz/signal)\n",
            "  --catalog CATALOG    Catalog API URL. (default:\n",
            "                       https://tart.elec.ac.nz/catalog)\n",
            "  --file FILE          Get data from a calibration JSON file. (default: None)\n",
            "  --gains GAINS        Use a local JSON file containing antenna gains to\n",
            "                       create the image image. (default: None)\n",
            "  --vis VIS            Use a local JSON file containing the visibilities to\n",
            "                       create the image image. (default: None)\n",
            "  --dir DIR            Output directory. (default: .)\n",
            "  --rotation ROTATION  Apply rotation (in degrees) to the antenna positions.\n",
            "                       (default: 0.0)\n",
            "  --nfft NFFT          Log(2) of the number of points in the fft. (default:\n",
            "                       10)\n",
            "  --dirty              Create a direct IFFT dirty image. (default: False)\n",
            "  --difmap             Use difmap to generate a CLEAN image (requires extenal\n",
            "                       difmap executable). (default: False)\n",
            "  --aipy               Use AIPY to generate a CLEAN image. (default: False)\n",
            "  --moresane           Use MORESANE to generate a wavelet based compressed\n",
            "                       representation (requires extenal difmap executable).\n",
            "                       (default: False)\n",
            "  --beam               Generate beam image (default: False)\n",
            "  --healpix            Use HealPIX to map the resulting image onto a projected\n",
            "                       circle. (default: False)\n",
            "  --display            Display Image to the user (default: False)\n",
            "  --log                Output the log of the image (default: False)\n",
            "  --fits               Generate a FITS format image (default: False)\n",
            "  --PNG                Generate a PNG format image (default: False)\n",
            "  --show-sources       Show known sources on images (only works on PNG).\n",
            "                       (default: False)\n"
          ]
        }
      ]
    },
    {
      "cell_type": "code",
      "source": [
        " # download the latest visibilties into a file called test.json\n",
        " !wget -O test.json  https://tart.elec.ac.nz/signal/api/v1/imaging/vis"
      ],
      "metadata": {
        "colab": {
          "base_uri": "https://localhost:8080/"
        },
        "id": "0H0M4wRCW9QH",
        "outputId": "5bb12e55-9d56-439e-f746-6c6d5d1fc23e"
      },
      "execution_count": 7,
      "outputs": [
        {
          "output_type": "stream",
          "name": "stdout",
          "text": [
            "--2022-10-18 13:56:01--  https://tart.elec.ac.nz/signal/api/v1/imaging/vis\n",
            "Resolving tart.elec.ac.nz (tart.elec.ac.nz)... 44.232.14.101\n",
            "Connecting to tart.elec.ac.nz (tart.elec.ac.nz)|44.232.14.101|:443... connected.\n",
            "HTTP request sent, awaiting response... 200 OK\n",
            "Length: 18404 (18K) [application/json]\n",
            "Saving to: ‘test.json’\n",
            "\n",
            "test.json           100%[===================>]  17.97K  88.4KB/s    in 0.2s    \n",
            "\n",
            "2022-10-18 13:56:02 (88.4 KB/s) - ‘test.json’ saved [18404/18404]\n",
            "\n"
          ]
        }
      ]
    },
    {
      "cell_type": "code",
      "source": [
        "!tart_image --PNG --vis test.json --display"
      ],
      "metadata": {
        "colab": {
          "base_uri": "https://localhost:8080/"
        },
        "id": "x7tF_rxpRrrD",
        "outputId": "6d9680dd-6ec3-49ea-afd8-5fa60c763e84"
      },
      "execution_count": 8,
      "outputs": [
        {
          "output_type": "stream",
          "name": "stdout",
          "text": [
            "2022-10-18 13:56:31,784 - root - INFO - Getting Data from API: https://tart.elec.ac.nz/signal\n",
            "2022-10-18 13:56:34,971 - root - INFO - Data Download Complete\n"
          ]
        }
      ]
    },
    {
      "cell_type": "code",
      "source": [],
      "metadata": {
        "id": "JpvFJO1Dc4AM"
      },
      "execution_count": null,
      "outputs": []
    }
  ]
}