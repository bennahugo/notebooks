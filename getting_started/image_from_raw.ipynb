{
  "nbformat": 4,
  "nbformat_minor": 0,
  "metadata": {
    "colab": {
      "provenance": [],
      "toc_visible": true,
      "authorship_tag": "ABX9TyNwbQ/jwaPMynCKys14yIep",
      "include_colab_link": true
    },
    "kernelspec": {
      "name": "python3",
      "display_name": "Python 3"
    },
    "language_info": {
      "name": "python"
    }
  },
  "cells": [
    {
      "cell_type": "markdown",
      "metadata": {
        "id": "view-in-github",
        "colab_type": "text"
      },
      "source": [
        "<a href=\"https://colab.research.google.com/github/rubyvanrooyen/notebooks/blob/main/getting_started/image_from_raw.ipynb\" target=\"_parent\"><img src=\"https://colab.research.google.com/assets/colab-badge.svg\" alt=\"Open In Colab\"/></a>"
      ]
    },
    {
      "cell_type": "markdown",
      "source": [
        "# Antenna Position Measurement\n",
        "\n",
        "Tim Molteno (2018-2019)   \n",
        "tim@elec.ac.nz\n",
        "\n",
        "Simple script demonstrate how to image from raw data\n",
        "\n",
        "Requires:\n",
        "  * tart python package to be installed (sudo pip3 install tart)\n",
        "  * raw data HDF file downloaded from the telescope web front end\n",
        "\n",
        "Usage:\n",
        "  `python3 image_from_raw.py --file  ~/Downloads/data_2019-07-24_22_47_14.353231.hdf`"
      ],
      "metadata": {
        "id": "ln_GiAPaq2nL"
      }
    },
    {
      "cell_type": "markdown",
      "source": [
        "## Installation"
      ],
      "metadata": {
        "id": "VGLnDe8w6vYe"
      }
    },
    {
      "cell_type": "code",
      "execution_count": null,
      "metadata": {
        "id": "SfDIANh7qjQq"
      },
      "outputs": [],
      "source": [
        "!pip install tart tart-tools"
      ]
    },
    {
      "cell_type": "code",
      "source": [
        "#@title ## Acquire data from the TART telescope.\n",
        "#@markdown Telescope API URL\n",
        "API_SERVER = \"https://tart.elec.ac.nz/signal\" #@param {type:\"string\""
      ],
      "metadata": {
        "id": "NOkbD7fn8O8C"
      },
      "execution_count": 2,
      "outputs": []
    },
    {
      "cell_type": "code",
      "source": [
        "# The raw data data file: data_2019-07-24_22_47_14.353231.hd\n",
        "from google.colab import files\n",
        "files.upload()"
      ],
      "metadata": {
        "id": "l8M2SyGWnynE"
      },
      "execution_count": null,
      "outputs": []
    },
    {
      "cell_type": "markdown",
      "source": [
        "## Script"
      ],
      "metadata": {
        "id": "6PJ3BykY659V"
      }
    },
    {
      "cell_type": "code",
      "source": [
        "import numpy as np\n",
        "import numpy.fft as fft\n",
        "\n",
        "import matplotlib.pyplot as plt\n",
        "\n",
        "from tart.operation import observation\n",
        "from tart.imaging import correlator\n",
        "from tart.util import constants\n",
        "\n",
        "from tart_tools import api_handler"
      ],
      "metadata": {
        "id": "V_AsWzwoquUW"
      },
      "execution_count": 4,
      "outputs": []
    },
    {
      "cell_type": "markdown",
      "source": [
        "### Step 0. Use the API to get information"
      ],
      "metadata": {
        "id": "d15WkKSs7WKb"
      }
    },
    {
      "cell_type": "code",
      "source": [
        "api = api_handler.APIhandler(API_SERVER)\n",
        "\n",
        "ant_pos = np.array(api.get('imaging/antenna_positions'))\n",
        "\n",
        "calibration_gains = api.get('calibration/gain')\n",
        "gains = np.array(calibration_gains['gain'])\n",
        "phases = np.array(calibration_gains['phase_offset'])"
      ],
      "metadata": {
        "id": "jw5-BAflquPv"
      },
      "execution_count": 5,
      "outputs": []
    },
    {
      "cell_type": "markdown",
      "source": [
        "### Step 1. Correlate the data"
      ],
      "metadata": {
        "id": "FSf33dAu7gTe"
      }
    },
    {
      "cell_type": "code",
      "source": [
        "# Load the Observation file\n",
        "obs = observation.Observation_Load(filename)\n",
        "\n",
        "corr = correlator.Correlator()\n",
        "vis = corr.correlate(obs)\n",
        "\n",
        "print(\"Timestamp: {}\".format(vis.timestamp))\n",
        "print(\"Config: {}\".format(vis.config.Dict))\n",
        "print(\"Baselines: {}\".format(vis.baselines))\n",
        "print(\"visibilities: {}\".format(vis.v))\n",
        "\n",
        "baselines = np.asarray(vis.baselines)\n",
        "v_arr = np.asarray(vis.v)"
      ],
      "metadata": {
        "id": "yxBb0QfE7gxr"
      },
      "execution_count": null,
      "outputs": []
    },
    {
      "cell_type": "markdown",
      "source": [
        "### Step 2. Apply the calibration gains and phases"
      ],
      "metadata": {
        "id": "s5wUjOzvxi-j"
      }
    },
    {
      "cell_type": "code",
      "source": [
        "## Multiply the visiblities by the complex gains\n",
        "bl = baselines\n",
        "vis_l = v_arr * gains[bl[:,0]] * gains[bl[:,1]] * np.exp(-1j*(phases[bl[:,0]]-phases[bl[:,1]]))"
      ],
      "metadata": {
        "id": "yyeyiU7VxjdR"
      },
      "execution_count": null,
      "outputs": []
    },
    {
      "cell_type": "markdown",
      "source": [
        "### Step 3. Perform the inverse FFT imaging."
      ],
      "metadata": {
        "id": "UF2k-2eOyXLw"
      }
    },
    {
      "cell_type": "code",
      "source": [
        "num_bin = 2**9  # Image resolution\n",
        "nw=num_bin/4\n",
        "\n",
        "bl_pos = ant_pos[baselines]\n",
        "uu_a, vv_a, ww_a = (bl_pos[:,0] - bl_pos[:,1]).T/constants.L1_WAVELENGTH\n",
        "\n",
        "# Grid the visibilities in the UV plane.\n",
        "uu_edges = np.linspace(-nw, nw, num_bin+1)\n",
        "vv_edges = np.linspace(-nw, nw, num_bin+1)\n",
        "\n",
        "uv_plane = np.zeros((num_bin, num_bin), dtype=np.complex64)\n",
        "uu_comb = np.concatenate((uu_a, -uu_a))\n",
        "vv_comb = np.concatenate((vv_a, -vv_a))\n",
        "all_v     = np.concatenate((vis_l, np.conjugate(vis_l)))\n",
        "h_real,_,_ = np.histogram2d(vv_comb, uu_comb, weights = all_v.real, bins=[vv_edges, uu_edges])\n",
        "h_imag,_,_ = np.histogram2d(vv_comb, uu_comb, weights = all_v.imag, bins=[vv_edges, uu_edges])\n",
        "num_entries,_,_ = np.histogram2d(vv_comb, uu_comb, bins=[vv_edges, uu_edges])\n",
        "uv_plane[:,:] = (h_real+(1j*h_imag))\n",
        "pos = np.where(num_entries.__gt__(1))\n",
        "uv_plane[pos] /= num_entries[pos]\n",
        "\n",
        "cal_ift = np.fft.fftshift(fft.ifft2(np.fft.ifftshift(uv_plane)))\n",
        "\n",
        "# Take the absolute value to make an intensity image\n",
        "img = np.abs(cal_ift)\n",
        "# Scale it to multiples of the image standard deviation\n",
        "img /= np.std(img)"
      ],
      "metadata": {
        "id": "Ivzl8_3EyW6p"
      },
      "execution_count": null,
      "outputs": []
    },
    {
      "cell_type": "markdown",
      "source": [
        "### Step 4. Plot the image."
      ],
      "metadata": {
        "id": "CYiE1S43yz6F"
      }
    },
    {
      "cell_type": "code",
      "source": [
        "plt.figure(figsize=(8, 6), dpi=num_bin/6)\n",
        "plt.title(\"Inverse FFT image\")\n",
        "\n",
        "print(\"Dynamic Range: {}\".format(np.max(img)))\n",
        "\n",
        "plt.imshow(img, extent=[-1, 1, -1, 1])\n",
        "\n",
        "plt.xlim(-1, 1)\n",
        "plt.ylim(-1, 1)\n",
        "cb = plt.colorbar()\n",
        "plt.savefig('raw_image.jpg')\n",
        "plt.show()"
      ],
      "metadata": {
        "id": "XBoPBvNmquJU"
      },
      "execution_count": null,
      "outputs": []
    },
    {
      "cell_type": "code",
      "source": [],
      "metadata": {
        "id": "Dti9O3UEqt0Z"
      },
      "execution_count": null,
      "outputs": []
    }
  ]
}