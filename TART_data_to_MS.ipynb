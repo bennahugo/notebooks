{
  "nbformat": 4,
  "nbformat_minor": 0,
  "metadata": {
    "colab": {
      "name": "TART data to MS.ipynb",
      "provenance": [],
      "toc_visible": true,
      "authorship_tag": "ABX9TyNQ949VJsCqlS7l3DsEaUmu",
      "include_colab_link": true
    },
    "kernelspec": {
      "name": "python3",
      "display_name": "Python 3"
    },
    "language_info": {
      "name": "python"
    }
  },
  "cells": [
    {
      "cell_type": "markdown",
      "metadata": {
        "id": "view-in-github",
        "colab_type": "text"
      },
      "source": [
        "<a href=\"https://colab.research.google.com/github/rubyvanrooyen/ratt-tart/blob/master/notebooks/TART_data_to_MS.ipynb\" target=\"_parent\"><img src=\"https://colab.research.google.com/assets/colab-badge.svg\" alt=\"Open In Colab\"/></a>"
      ]
    },
    {
      "cell_type": "markdown",
      "source": [
        "# Create a Measurement Set from a TART JSON file\n",
        "\n",
        "Example implementation presented in the `doc/misc/measurement_set` folder of the https://github.com/tmolteno/TART repo"
      ],
      "metadata": {
        "id": "WIjQ3O0xvpe4"
      }
    },
    {
      "cell_type": "markdown",
      "source": [
        "## Installations"
      ],
      "metadata": {
        "id": "IRJnTgFcwTbh"
      }
    },
    {
      "cell_type": "markdown",
      "source": [
        "### CASA tools"
      ],
      "metadata": {
        "id": "Aj-VfN_5FPeP"
      }
    },
    {
      "cell_type": "code",
      "source": [
        "!pip install python-casacore"
      ],
      "metadata": {
        "colab": {
          "base_uri": "https://localhost:8080/"
        },
        "id": "nkhTVsfCorvn",
        "outputId": "7289d4d3-276e-4fc1-9db8-4183b6f14e76"
      },
      "execution_count": 1,
      "outputs": [
        {
          "output_type": "stream",
          "name": "stdout",
          "text": [
            "Looking in indexes: https://pypi.org/simple, https://us-python.pkg.dev/colab-wheels/public/simple/\n",
            "Requirement already satisfied: python-casacore in /usr/local/lib/python3.7/dist-packages (3.5.0)\n",
            "Requirement already satisfied: six in /usr/local/lib/python3.7/dist-packages (from python-casacore) (1.15.0)\n",
            "Requirement already satisfied: numpy in /usr/local/lib/python3.7/dist-packages (from python-casacore) (1.21.6)\n"
          ]
        }
      ]
    },
    {
      "cell_type": "markdown",
      "source": [
        "### DaskMS tools"
      ],
      "metadata": {
        "id": "-3ZXaQe4FXJn"
      }
    },
    {
      "cell_type": "code",
      "source": [
        "!pip install fsspec\n",
        "!pip install dask-ms[xarray]"
      ],
      "metadata": {
        "colab": {
          "base_uri": "https://localhost:8080/"
        },
        "id": "borGgcvEors-",
        "outputId": "deeedfc5-cd83-4dba-f089-a8ede429a60d"
      },
      "execution_count": 2,
      "outputs": [
        {
          "output_type": "stream",
          "name": "stdout",
          "text": [
            "Looking in indexes: https://pypi.org/simple, https://us-python.pkg.dev/colab-wheels/public/simple/\n",
            "Requirement already satisfied: fsspec in /usr/local/lib/python3.7/dist-packages (2022.5.0)\n",
            "Looking in indexes: https://pypi.org/simple, https://us-python.pkg.dev/colab-wheels/public/simple/\n",
            "Requirement already satisfied: dask-ms[xarray] in /usr/local/lib/python3.7/dist-packages (0.2.9)\n",
            "Requirement already satisfied: numpy>=1.14.0 in /usr/local/lib/python3.7/dist-packages (from dask-ms[xarray]) (1.21.6)\n",
            "Requirement already satisfied: python-casacore>=3.4.0 in /usr/local/lib/python3.7/dist-packages (from dask-ms[xarray]) (3.5.0)\n",
            "Requirement already satisfied: dask[array]>=2.2.0 in /usr/local/lib/python3.7/dist-packages (from dask-ms[xarray]) (2.12.0)\n",
            "Requirement already satisfied: xarray>0.12.0 in /usr/local/lib/python3.7/dist-packages (from dask-ms[xarray]) (0.20.2)\n",
            "Requirement already satisfied: toolz>=0.7.3 in /usr/local/lib/python3.7/dist-packages (from dask[array]>=2.2.0->dask-ms[xarray]) (0.12.0)\n",
            "Requirement already satisfied: six in /usr/local/lib/python3.7/dist-packages (from python-casacore>=3.4.0->dask-ms[xarray]) (1.15.0)\n",
            "Requirement already satisfied: typing-extensions>=3.7 in /usr/local/lib/python3.7/dist-packages (from xarray>0.12.0->dask-ms[xarray]) (4.1.1)\n",
            "Requirement already satisfied: pandas>=1.1 in /usr/local/lib/python3.7/dist-packages (from xarray>0.12.0->dask-ms[xarray]) (1.3.5)\n",
            "Requirement already satisfied: importlib-metadata in /usr/local/lib/python3.7/dist-packages (from xarray>0.12.0->dask-ms[xarray]) (4.12.0)\n",
            "Requirement already satisfied: pytz>=2017.3 in /usr/local/lib/python3.7/dist-packages (from pandas>=1.1->xarray>0.12.0->dask-ms[xarray]) (2022.1)\n",
            "Requirement already satisfied: python-dateutil>=2.7.3 in /usr/local/lib/python3.7/dist-packages (from pandas>=1.1->xarray>0.12.0->dask-ms[xarray]) (2.8.2)\n",
            "Requirement already satisfied: zipp>=0.5 in /usr/local/lib/python3.7/dist-packages (from importlib-metadata->xarray>0.12.0->dask-ms[xarray]) (3.8.0)\n"
          ]
        }
      ]
    },
    {
      "cell_type": "markdown",
      "source": [
        "## TART tools"
      ],
      "metadata": {
        "id": "CHTsRu1JFbvW"
      }
    },
    {
      "cell_type": "code",
      "source": [
        "!pip install tart2ms tart tart-tools"
      ],
      "metadata": {
        "colab": {
          "base_uri": "https://localhost:8080/"
        },
        "id": "hdo8gXX3orqF",
        "outputId": "12e140ca-43d2-4ab2-9fcf-b072c8eb4746"
      },
      "execution_count": 3,
      "outputs": [
        {
          "output_type": "stream",
          "name": "stdout",
          "text": [
            "Looking in indexes: https://pypi.org/simple, https://us-python.pkg.dev/colab-wheels/public/simple/\n",
            "Requirement already satisfied: tart2ms in /usr/local/lib/python3.7/dist-packages (0.2.0b2)\n",
            "Requirement already satisfied: tart in /usr/local/lib/python3.7/dist-packages (1.1.0b9)\n",
            "Requirement already satisfied: tart-tools in /usr/local/lib/python3.7/dist-packages (1.1.0b9)\n",
            "Requirement already satisfied: numpy in /usr/local/lib/python3.7/dist-packages (from tart2ms) (1.21.6)\n",
            "Requirement already satisfied: dask-ms in /usr/local/lib/python3.7/dist-packages (from tart2ms) (0.2.9)\n",
            "Requirement already satisfied: h5py in /usr/local/lib/python3.7/dist-packages (from tart2ms) (3.1.0)\n",
            "Requirement already satisfied: python-casacore in /usr/local/lib/python3.7/dist-packages (from tart2ms) (3.5.0)\n",
            "Requirement already satisfied: astropy in /usr/local/lib/python3.7/dist-packages (from tart2ms) (4.3.1)\n",
            "Requirement already satisfied: matplotlib in /usr/local/lib/python3.7/dist-packages (from tart) (3.2.2)\n",
            "Requirement already satisfied: healpy in /usr/local/lib/python3.7/dist-packages (from tart) (1.16.0)\n",
            "Requirement already satisfied: pyerfa>=1.7.3 in /usr/local/lib/python3.7/dist-packages (from astropy->tart2ms) (2.0.0.1)\n",
            "Requirement already satisfied: importlib-metadata in /usr/local/lib/python3.7/dist-packages (from astropy->tart2ms) (4.12.0)\n",
            "Requirement already satisfied: dask[array]>=2.2.0 in /usr/local/lib/python3.7/dist-packages (from dask-ms->tart2ms) (2.12.0)\n",
            "Requirement already satisfied: toolz>=0.7.3 in /usr/local/lib/python3.7/dist-packages (from dask[array]>=2.2.0->dask-ms->tart2ms) (0.12.0)\n",
            "Requirement already satisfied: six in /usr/local/lib/python3.7/dist-packages (from python-casacore->tart2ms) (1.15.0)\n",
            "Requirement already satisfied: cached-property in /usr/local/lib/python3.7/dist-packages (from h5py->tart2ms) (1.5.2)\n",
            "Requirement already satisfied: scipy in /usr/local/lib/python3.7/dist-packages (from healpy->tart) (1.7.3)\n",
            "Requirement already satisfied: zipp>=0.5 in /usr/local/lib/python3.7/dist-packages (from importlib-metadata->astropy->tart2ms) (3.8.0)\n",
            "Requirement already satisfied: typing-extensions>=3.6.4 in /usr/local/lib/python3.7/dist-packages (from importlib-metadata->astropy->tart2ms) (4.1.1)\n",
            "Requirement already satisfied: pyparsing!=2.0.4,!=2.1.2,!=2.1.6,>=2.0.1 in /usr/local/lib/python3.7/dist-packages (from matplotlib->tart) (3.0.9)\n",
            "Requirement already satisfied: kiwisolver>=1.0.1 in /usr/local/lib/python3.7/dist-packages (from matplotlib->tart) (1.4.3)\n",
            "Requirement already satisfied: cycler>=0.10 in /usr/local/lib/python3.7/dist-packages (from matplotlib->tart) (0.11.0)\n",
            "Requirement already satisfied: python-dateutil>=2.1 in /usr/local/lib/python3.7/dist-packages (from matplotlib->tart) (2.8.2)\n"
          ]
        }
      ]
    },
    {
      "cell_type": "code",
      "source": [
        "import daskms"
      ],
      "metadata": {
        "id": "i6_lOs73FIB7"
      },
      "execution_count": 4,
      "outputs": []
    },
    {
      "cell_type": "markdown",
      "source": [
        "## Example TART data"
      ],
      "metadata": {
        "id": "L0_4OJ8lxmqz"
      }
    },
    {
      "cell_type": "markdown",
      "source": [
        "### Generate example JSON data file"
      ],
      "metadata": {
        "id": "8Q-gpusOl7fe"
      }
    },
    {
      "cell_type": "code",
      "source": [
        "!tart_calibration_data --file tart_data.json --n 1"
      ],
      "metadata": {
        "colab": {
          "base_uri": "https://localhost:8080/"
        },
        "id": "2D82XIFuplh8",
        "outputId": "c9f669a8-098b-4f5b-b297-306ef12d9c2e"
      },
      "execution_count": 5,
      "outputs": [
        {
          "output_type": "stream",
          "name": "stdout",
          "text": [
            "Loading new data from https://tart.elec.ac.nz/signal...\n",
            "Getting catalog from https://tart.elec.ac.nz/catalog/catalog?lat=-45.85177&lon=170.5456&date=2022-07-19T13:20:32.072000+00:00\n",
            "Loading Complete\n"
          ]
        }
      ]
    },
    {
      "cell_type": "markdown",
      "source": [
        "### Convert JSON to MS"
      ],
      "metadata": {
        "id": "U-gdPGbxl_PN"
      }
    },
    {
      "cell_type": "code",
      "source": [
        "!tart2ms --json tart_data.json --ms tart_data.ms"
      ],
      "metadata": {
        "colab": {
          "base_uri": "https://localhost:8080/"
        },
        "id": "ntetZ0oUplbA",
        "outputId": "1d1d2e91-8f21-4561-cd7d-f8a988951498"
      },
      "execution_count": 6,
      "outputs": [
        {
          "output_type": "stream",
          "name": "stdout",
          "text": [
            "Getting Data from file: tart_data.json\n",
            "Writing measurement set 'tart_data.ms'...\n",
            "2022-07-19 13:20:36,020 - root - INFO - Time 5164953632.0720005\n",
            "/usr/local/lib/python3.7/dist-packages/astropy/time/utils.py:179: RuntimeWarning: overflow encountered in double_scalars\n",
            "  c = 134217729. * a  # 2**27+1.\n",
            "/usr/local/lib/python3.7/dist-packages/astropy/time/utils.py:181: RuntimeWarning: invalid value encountered in double_scalars\n",
            "  ah = c - abig\n",
            "\u001b[0;39mDownloading https://hpiers.obspm.fr/iers/bul/bulc/Leap_Second.dat\u001b[0m\n",
            "|\u001b[0;34m===========================================\u001b[0m| 1.3k/1.3k (100.00%)         0s\n",
            "\u001b[0;39mDownloading https://www.ietf.org/timezones/data/leap-seconds.list\u001b[0m\n",
            "|\u001b[0;34m===========================================\u001b[0m|  10k/ 10k (100.00%)         0s\n",
            "\u001b[0;33mWARNING\u001b[0m: Tried to get polar motions for times after IERS data is valid. Defaulting to polar motion from the 50-yr mean for those. This may affect precision at the arcsec level [astropy.coordinates.builtin_frames.utils]\n",
            "2022-07-19 13:20:38,727 - astropy - WARNING - Tried to get polar motions for times after IERS data is valid. Defaulting to polar motion from the 50-yr mean for those. This may affect precision at the arcsec level\n",
            "2022-07-19 13:20:38,732 - root - INFO - Pol Feeds ['RR']\n",
            "2022-07-19 13:20:38,732 - root - INFO - Correlation Types [[5]]\n",
            "2022-07-19 13:20:38,849 - root - INFO - Pol Types ['RR']\n",
            "2022-07-19 13:20:38,849 - root - INFO - Pol Responses [[0.7071067811865475, (-0-0.7071067811865475j)]]\n",
            "\u001b[0;33mWARNING\u001b[0m: Tried to get polar motions for times after IERS data is valid. Defaulting to polar motion from the 50-yr mean for those. This may affect precision at the arcsec level [astropy.coordinates.builtin_frames.utils]\n",
            "2022-07-19 13:20:38,860 - astropy - WARNING - Tried to get polar motions for times after IERS data is valid. Defaulting to polar motion from the 50-yr mean for those. This may affect precision at the arcsec level\n",
            "2022-07-19 13:20:39,302 - root - INFO - Corr Prod [[0 0]]\n",
            "2022-07-19 13:20:39,302 - root - INFO - Corr Type [5]\n",
            "2022-07-19 13:20:39,302 - root - INFO - NUM_CORR dask.array<full, shape=(1,), dtype=int32, chunksize=(1,), chunktype=numpy.ndarray>\n",
            "2022-07-19 13:20:39,303 - root - INFO - Dask Corr Prod (1, 1, 2)\n",
            "2022-07-19 13:20:39,303 - root - INFO - Dask Corr Type (1, 1)\n",
            "2022-07-19 13:20:39,305 - root - INFO - Data size 276 1 1\n",
            "Measurement set writing complete.\n"
          ]
        }
      ]
    },
    {
      "cell_type": "markdown",
      "source": [
        "## Save MS to Google drive"
      ],
      "metadata": {
        "id": "oM__ctsXGVa9"
      }
    },
    {
      "cell_type": "code",
      "source": [
        "from google.colab import drive\n",
        "drive.mount('/content/drive')"
      ],
      "metadata": {
        "colab": {
          "base_uri": "https://localhost:8080/"
        },
        "id": "mk1f55z6plSr",
        "outputId": "71999751-dcfa-44fd-9e09-314fb54b81b5"
      },
      "execution_count": 7,
      "outputs": [
        {
          "output_type": "stream",
          "name": "stdout",
          "text": [
            "Drive already mounted at /content/drive; to attempt to forcibly remount, call drive.mount(\"/content/drive\", force_remount=True).\n"
          ]
        }
      ]
    },
    {
      "cell_type": "code",
      "source": [
        "import os\n",
        "import shutil  \n",
        "print(os.getcwd())"
      ],
      "metadata": {
        "colab": {
          "base_uri": "https://localhost:8080/"
        },
        "id": "_P7dDqnCEib0",
        "outputId": "ce159e62-ab9d-4092-bcbc-22b134d1cf25"
      },
      "execution_count": 8,
      "outputs": [
        {
          "output_type": "stream",
          "name": "stdout",
          "text": [
            "/content\n"
          ]
        }
      ]
    },
    {
      "cell_type": "code",
      "source": [
        "source = os.path.join('tart_data.ms')\n",
        "destination = os.path.join('drive/MyDrive/RARG/TART', 'tart_data.ms')\n",
        "shutil.move(source, destination)"
      ],
      "metadata": {
        "colab": {
          "base_uri": "https://localhost:8080/",
          "height": 35
        },
        "id": "ol3iR4OxH3bd",
        "outputId": "e2ffb62d-a9ef-443a-d0ee-06b3d64e70cb"
      },
      "execution_count": 9,
      "outputs": [
        {
          "output_type": "execute_result",
          "data": {
            "text/plain": [
              "'drive/MyDrive/RARG/TART/tart_data.ms'"
            ],
            "application/vnd.google.colaboratory.intrinsic+json": {
              "type": "string"
            }
          },
          "metadata": {},
          "execution_count": 9
        }
      ]
    },
    {
      "cell_type": "markdown",
      "source": [
        "## Convert example JSON file"
      ],
      "metadata": {
        "id": "zY-UojWlpL0Y"
      }
    },
    {
      "cell_type": "code",
      "source": [
        "!ln -s \"/content/drive/MyDrive/RARG/TART/data_2019_08_04_21_38_31_UTC.json\""
      ],
      "metadata": {
        "id": "5ywTgws7o6KD"
      },
      "execution_count": 10,
      "outputs": []
    },
    {
      "cell_type": "code",
      "source": [
        "infile='data_2019_08_04_21_38_31_UTC.json'\n",
        "outfile='data_2019_08_04_21_38_31_UTC.ms'"
      ],
      "metadata": {
        "id": "_tR6Q5GJo6Pj"
      },
      "execution_count": 11,
      "outputs": []
    },
    {
      "cell_type": "code",
      "source": [
        "!tart2ms --json {infile} --ms {outfile}"
      ],
      "metadata": {
        "colab": {
          "base_uri": "https://localhost:8080/"
        },
        "id": "2brJsB4to6E7",
        "outputId": "53dfecc3-70ec-4f00-9808-186d37a7ecc5"
      },
      "execution_count": 12,
      "outputs": [
        {
          "output_type": "stream",
          "name": "stdout",
          "text": [
            "Getting Data from file: data_2019_08_04_21_38_31_UTC.json\n",
            "Writing measurement set 'data_2019_08_04_21_38_31_UTC.ms'...\n",
            "2022-07-19 13:30:14,960 - root - INFO - Time 5071671511.991\n",
            "/usr/local/lib/python3.7/dist-packages/astropy/time/utils.py:179: RuntimeWarning: overflow encountered in double_scalars\n",
            "  c = 134217729. * a  # 2**27+1.\n",
            "/usr/local/lib/python3.7/dist-packages/astropy/time/utils.py:181: RuntimeWarning: invalid value encountered in double_scalars\n",
            "  ah = c - abig\n",
            "\u001b[0;39mDownloading https://hpiers.obspm.fr/iers/bul/bulc/Leap_Second.dat\u001b[0m\n",
            "|\u001b[0;34m===========================================\u001b[0m| 1.3k/1.3k (100.00%)         0s\n",
            "\u001b[0;39mDownloading https://www.ietf.org/timezones/data/leap-seconds.list\u001b[0m\n",
            "|\u001b[0;34m===========================================\u001b[0m|  10k/ 10k (100.00%)         0s\n",
            "2022-07-19 13:30:16,612 - root - INFO - Pol Feeds ['RR']\n",
            "2022-07-19 13:30:16,612 - root - INFO - Correlation Types [[5]]\n",
            "2022-07-19 13:30:16,642 - root - INFO - Pol Types ['RR']\n",
            "2022-07-19 13:30:16,642 - root - INFO - Pol Responses [[0.7071067811865475, (-0-0.7071067811865475j)]]\n",
            "2022-07-19 13:30:17,180 - root - INFO - Corr Prod [[0 0]]\n",
            "2022-07-19 13:30:17,180 - root - INFO - Corr Type [5]\n",
            "2022-07-19 13:30:17,180 - root - INFO - NUM_CORR dask.array<full, shape=(1,), dtype=int32, chunksize=(1,), chunktype=numpy.ndarray>\n",
            "2022-07-19 13:30:17,181 - root - INFO - Dask Corr Prod (1, 1, 2)\n",
            "2022-07-19 13:30:17,181 - root - INFO - Dask Corr Type (1, 1)\n",
            "2022-07-19 13:30:17,183 - root - INFO - Data size 276 1 1\n",
            "Measurement set writing complete.\n"
          ]
        }
      ]
    },
    {
      "cell_type": "code",
      "source": [
        "source = outfile\n",
        "destination = os.path.join('drive/MyDrive/RARG/TART', outfile)\n",
        "shutil.move(source, destination)"
      ],
      "metadata": {
        "colab": {
          "base_uri": "https://localhost:8080/",
          "height": 35
        },
        "id": "kLJILKHfo6M-",
        "outputId": "6572e652-65ae-49df-9368-a49e40c442fe"
      },
      "execution_count": 13,
      "outputs": [
        {
          "output_type": "execute_result",
          "data": {
            "text/plain": [
              "'drive/MyDrive/RARG/TART/data_2019_08_04_21_38_31_UTC.ms'"
            ],
            "application/vnd.google.colaboratory.intrinsic+json": {
              "type": "string"
            }
          },
          "metadata": {},
          "execution_count": 13
        }
      ]
    },
    {
      "cell_type": "code",
      "source": [
        ""
      ],
      "metadata": {
        "id": "eBm5pQ1yo58M"
      },
      "execution_count": null,
      "outputs": []
    }
  ]
}