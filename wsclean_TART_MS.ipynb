{
  "nbformat": 4,
  "nbformat_minor": 0,
  "metadata": {
    "colab": {
      "name": "wsclean_TART_MS.ipynb",
      "provenance": [],
      "toc_visible": true,
      "authorship_tag": "ABX9TyPMQxzFsqLEKIoHTjuYpNdR",
      "include_colab_link": true
    },
    "kernelspec": {
      "name": "python3",
      "display_name": "Python 3"
    },
    "language_info": {
      "name": "python"
    }
  },
  "cells": [
    {
      "cell_type": "markdown",
      "metadata": {
        "id": "view-in-github",
        "colab_type": "text"
      },
      "source": [
        "<a href=\"https://colab.research.google.com/github/rubyvanrooyen/notebooks/blob/main/wsclean_TART_MS.ipynb\" target=\"_parent\"><img src=\"https://colab.research.google.com/assets/colab-badge.svg\" alt=\"Open In Colab\"/></a>"
      ]
    },
    {
      "cell_type": "markdown",
      "source": [
        "# Imaging TART MS using wsclean\n",
        "\n",
        "Specific example from `doc/misc/measurement_set` folder README from the https://github.com/tmolteno/TART repo"
      ],
      "metadata": {
        "id": "WIjQ3O0xvpe4"
      }
    },
    {
      "cell_type": "markdown",
      "source": [
        "## Operating system\n",
        "\n",
        "Note colab runs 18.04 and indicated a reluctance to 20.04.   \n",
        "Keep this in mind during development"
      ],
      "metadata": {
        "id": "lVxTeuqs_lun"
      }
    },
    {
      "cell_type": "code",
      "source": [
        "!!cat /etc/*release "
      ],
      "metadata": {
        "colab": {
          "base_uri": "https://localhost:8080/"
        },
        "id": "jSAt9B7q-UgF",
        "outputId": "10d8cebb-3756-46bb-a3cb-6d6a038cbcca"
      },
      "execution_count": 1,
      "outputs": [
        {
          "output_type": "execute_result",
          "data": {
            "text/plain": [
              "['DISTRIB_ID=Ubuntu',\n",
              " 'DISTRIB_RELEASE=18.04',\n",
              " 'DISTRIB_CODENAME=bionic',\n",
              " 'DISTRIB_DESCRIPTION=\"Ubuntu 18.04.6 LTS\"',\n",
              " 'NAME=\"Ubuntu\"',\n",
              " 'VERSION=\"18.04.6 LTS (Bionic Beaver)\"',\n",
              " 'ID=ubuntu',\n",
              " 'ID_LIKE=debian',\n",
              " 'PRETTY_NAME=\"Ubuntu 18.04.6 LTS\"',\n",
              " 'VERSION_ID=\"18.04\"',\n",
              " 'HOME_URL=\"https://www.ubuntu.com/\"',\n",
              " 'SUPPORT_URL=\"https://help.ubuntu.com/\"',\n",
              " 'BUG_REPORT_URL=\"https://bugs.launchpad.net/ubuntu/\"',\n",
              " 'PRIVACY_POLICY_URL=\"https://www.ubuntu.com/legal/terms-and-policies/privacy-policy\"',\n",
              " 'VERSION_CODENAME=bionic',\n",
              " 'UBUNTU_CODENAME=bionic']"
            ]
          },
          "metadata": {},
          "execution_count": 1
        }
      ]
    },
    {
      "cell_type": "markdown",
      "source": [
        "### Include KERN repository"
      ],
      "metadata": {
        "id": "0LkgZWlPBpDi"
      }
    },
    {
      "cell_type": "code",
      "source": [
        "!apt-get install software-properties-common\n",
        "!add-apt-repository -s ppa:kernsuite/kern-7"
      ],
      "metadata": {
        "colab": {
          "base_uri": "https://localhost:8080/"
        },
        "id": "NUTTkZhT2G4Z",
        "outputId": "9d0ec70f-cf5f-4eab-c74b-4a6506400e47"
      },
      "execution_count": 2,
      "outputs": [
        {
          "output_type": "stream",
          "name": "stdout",
          "text": [
            "Reading package lists... Done\n",
            "Building dependency tree       \n",
            "Reading state information... Done\n",
            "software-properties-common is already the newest version (0.96.24.32.18).\n",
            "The following package was automatically installed and is no longer required:\n",
            "  libnvidia-common-460\n",
            "Use 'apt autoremove' to remove it.\n",
            "0 upgraded, 0 newly installed, 0 to remove and 20 not upgraded.\n",
            " This is version 7 of KERN, the radio astronomy software suite.\n",
            "\n",
            "  http://kernsuite.info\n",
            "\n",
            "To enable this repository you need Ubuntu 20.04 (Focal) and run:\n",
            "\n",
            " $ sudo apt-add-repository -s ppa:kernsuite/kern-7\n",
            "\n",
            "You also need to the multiverse and restricted repositories for some packages:\n",
            "\n",
            " $ sudo apt-add-repository multiverse\n",
            " $ sudo apt-add-repository restricted\n",
            "\n",
            "Now update your apt cache:\n",
            "\n",
            " $ sudo apt-get update\n",
            "\n",
            "You are now ready to install KERN packages.\n",
            "\n",
            "Report issues with the packages on our issue tracker:\n",
            "\n",
            "  https://github.com/kernsuite/packaging/issues\n",
            " More info: https://launchpad.net/~kernsuite/+archive/ubuntu/kern-7\n",
            "Press [ENTER] to continue or Ctrl-c to cancel adding it.\n",
            "\n",
            "Get:1 https://cloud.r-project.org/bin/linux/ubuntu bionic-cran40/ InRelease [3,626 B]\n",
            "Ign:2 https://developer.download.nvidia.com/compute/machine-learning/repos/ubuntu1804/x86_64  InRelease\n",
            "Hit:3 https://developer.download.nvidia.com/compute/cuda/repos/ubuntu1804/x86_64  InRelease\n",
            "Hit:4 https://developer.download.nvidia.com/compute/machine-learning/repos/ubuntu1804/x86_64  Release\n",
            "Hit:5 http://archive.ubuntu.com/ubuntu bionic InRelease\n",
            "Get:6 http://archive.ubuntu.com/ubuntu bionic-updates InRelease [88.7 kB]\n",
            "Get:7 http://security.ubuntu.com/ubuntu bionic-security InRelease [88.7 kB]\n",
            "Get:8 http://ppa.launchpad.net/c2d4u.team/c2d4u4.0+/ubuntu bionic InRelease [15.9 kB]\n",
            "Get:10 http://archive.ubuntu.com/ubuntu bionic-backports InRelease [74.6 kB]\n",
            "Hit:11 http://ppa.launchpad.net/cran/libgit2/ubuntu bionic InRelease\n",
            "Hit:12 http://ppa.launchpad.net/deadsnakes/ppa/ubuntu bionic InRelease\n",
            "Get:13 http://archive.ubuntu.com/ubuntu bionic-updates/main amd64 Packages [3,369 kB]\n",
            "Hit:14 http://ppa.launchpad.net/graphics-drivers/ppa/ubuntu bionic InRelease\n",
            "Get:15 http://archive.ubuntu.com/ubuntu bionic-updates/universe amd64 Packages [2,310 kB]\n",
            "Get:16 http://ppa.launchpad.net/kernsuite/kern-7/ubuntu bionic InRelease [21.3 kB]\n",
            "Get:17 http://ppa.launchpad.net/c2d4u.team/c2d4u4.0+/ubuntu bionic/main Sources [2,095 kB]\n",
            "Get:18 http://security.ubuntu.com/ubuntu bionic-security/main amd64 Packages [2,937 kB]\n",
            "Get:19 http://security.ubuntu.com/ubuntu bionic-security/universe amd64 Packages [1,533 kB]\n",
            "Get:20 http://ppa.launchpad.net/c2d4u.team/c2d4u4.0+/ubuntu bionic/main amd64 Packages [1,073 kB]\n",
            "Fetched 13.6 MB in 4s (3,249 kB/s)\n",
            "Reading package lists... Done\n"
          ]
        }
      ]
    },
    {
      "cell_type": "code",
      "source": [
        "!apt-add-repository multiverse\n",
        "!apt-add-repository restricted\n",
        "!apt-get update"
      ],
      "metadata": {
        "colab": {
          "base_uri": "https://localhost:8080/"
        },
        "id": "U4Zc8bME3mPq",
        "outputId": "8419cf6b-d4de-4b32-ab7a-08330dc70fc4"
      },
      "execution_count": 3,
      "outputs": [
        {
          "output_type": "stream",
          "name": "stdout",
          "text": [
            "'multiverse' distribution component is already enabled for all sources.\n",
            "'restricted' distribution component is already enabled for all sources.\n",
            "Hit:1 https://cloud.r-project.org/bin/linux/ubuntu bionic-cran40/ InRelease\n",
            "Ign:2 https://developer.download.nvidia.com/compute/machine-learning/repos/ubuntu1804/x86_64  InRelease\n",
            "Hit:3 https://developer.download.nvidia.com/compute/cuda/repos/ubuntu1804/x86_64  InRelease\n",
            "Hit:4 https://developer.download.nvidia.com/compute/machine-learning/repos/ubuntu1804/x86_64  Release\n",
            "Hit:5 http://archive.ubuntu.com/ubuntu bionic InRelease\n",
            "Hit:6 http://archive.ubuntu.com/ubuntu bionic-updates InRelease\n",
            "Hit:7 http://security.ubuntu.com/ubuntu bionic-security InRelease\n",
            "Hit:8 http://ppa.launchpad.net/c2d4u.team/c2d4u4.0+/ubuntu bionic InRelease\n",
            "Hit:9 http://archive.ubuntu.com/ubuntu bionic-backports InRelease\n",
            "Hit:11 http://ppa.launchpad.net/cran/libgit2/ubuntu bionic InRelease\n",
            "Hit:12 http://ppa.launchpad.net/deadsnakes/ppa/ubuntu bionic InRelease\n",
            "Hit:13 http://ppa.launchpad.net/graphics-drivers/ppa/ubuntu bionic InRelease\n",
            "Hit:14 http://ppa.launchpad.net/kernsuite/kern-7/ubuntu bionic InRelease\n",
            "Reading package lists... Done\n"
          ]
        }
      ]
    },
    {
      "cell_type": "markdown",
      "source": [
        "## Installations"
      ],
      "metadata": {
        "id": "IRJnTgFcwTbh"
      }
    },
    {
      "cell_type": "markdown",
      "source": [
        "### CASA tools"
      ],
      "metadata": {
        "id": "Aj-VfN_5FPeP"
      }
    },
    {
      "cell_type": "code",
      "source": [
        "!pip install python-casacore"
      ],
      "metadata": {
        "colab": {
          "base_uri": "https://localhost:8080/"
        },
        "id": "nkhTVsfCorvn",
        "outputId": "d5b7b772-1bad-46f4-e39b-6d4455597066"
      },
      "execution_count": 4,
      "outputs": [
        {
          "output_type": "stream",
          "name": "stdout",
          "text": [
            "Looking in indexes: https://pypi.org/simple, https://us-python.pkg.dev/colab-wheels/public/simple/\n",
            "Collecting python-casacore\n",
            "  Downloading python_casacore-3.5.1-cp37-cp37m-manylinux_2_17_x86_64.manylinux2014_x86_64.whl (35.0 MB)\n",
            "\u001b[K     |████████████████████████████████| 35.0 MB 375 kB/s \n",
            "\u001b[?25hRequirement already satisfied: six in /usr/local/lib/python3.7/dist-packages (from python-casacore) (1.15.0)\n",
            "Requirement already satisfied: numpy in /usr/local/lib/python3.7/dist-packages (from python-casacore) (1.21.6)\n",
            "Installing collected packages: python-casacore\n",
            "Successfully installed python-casacore-3.5.1\n"
          ]
        }
      ]
    },
    {
      "cell_type": "markdown",
      "source": [
        "### DASKMS tools"
      ],
      "metadata": {
        "id": "-3ZXaQe4FXJn"
      }
    },
    {
      "cell_type": "code",
      "source": [
        "!pip install fsspec\n",
        "!pip install dask-ms[xarray]"
      ],
      "metadata": {
        "colab": {
          "base_uri": "https://localhost:8080/"
        },
        "id": "borGgcvEors-",
        "outputId": "5e7a6146-e841-4bd4-9a24-d50afe3507cc"
      },
      "execution_count": 5,
      "outputs": [
        {
          "output_type": "stream",
          "name": "stdout",
          "text": [
            "Looking in indexes: https://pypi.org/simple, https://us-python.pkg.dev/colab-wheels/public/simple/\n",
            "Collecting fsspec\n",
            "  Downloading fsspec-2022.7.1-py3-none-any.whl (141 kB)\n",
            "\u001b[K     |████████████████████████████████| 141 kB 8.2 MB/s \n",
            "\u001b[?25hInstalling collected packages: fsspec\n",
            "Successfully installed fsspec-2022.7.1\n",
            "Looking in indexes: https://pypi.org/simple, https://us-python.pkg.dev/colab-wheels/public/simple/\n",
            "Collecting dask-ms[xarray]\n",
            "  Downloading dask_ms-0.2.9-py3-none-any.whl (120 kB)\n",
            "\u001b[K     |████████████████████████████████| 120 kB 8.4 MB/s \n",
            "\u001b[?25hRequirement already satisfied: dask[array]>=2.2.0 in /usr/local/lib/python3.7/dist-packages (from dask-ms[xarray]) (2.12.0)\n",
            "Requirement already satisfied: numpy>=1.14.0 in /usr/local/lib/python3.7/dist-packages (from dask-ms[xarray]) (1.21.6)\n",
            "Requirement already satisfied: python-casacore>=3.4.0 in /usr/local/lib/python3.7/dist-packages (from dask-ms[xarray]) (3.5.1)\n",
            "Requirement already satisfied: xarray>0.12.0 in /usr/local/lib/python3.7/dist-packages (from dask-ms[xarray]) (0.20.2)\n",
            "Requirement already satisfied: toolz>=0.7.3 in /usr/local/lib/python3.7/dist-packages (from dask[array]>=2.2.0->dask-ms[xarray]) (0.12.0)\n",
            "Requirement already satisfied: six in /usr/local/lib/python3.7/dist-packages (from python-casacore>=3.4.0->dask-ms[xarray]) (1.15.0)\n",
            "Requirement already satisfied: pandas>=1.1 in /usr/local/lib/python3.7/dist-packages (from xarray>0.12.0->dask-ms[xarray]) (1.3.5)\n",
            "Requirement already satisfied: importlib-metadata in /usr/local/lib/python3.7/dist-packages (from xarray>0.12.0->dask-ms[xarray]) (4.12.0)\n",
            "Requirement already satisfied: typing-extensions>=3.7 in /usr/local/lib/python3.7/dist-packages (from xarray>0.12.0->dask-ms[xarray]) (4.1.1)\n",
            "Requirement already satisfied: pytz>=2017.3 in /usr/local/lib/python3.7/dist-packages (from pandas>=1.1->xarray>0.12.0->dask-ms[xarray]) (2022.1)\n",
            "Requirement already satisfied: python-dateutil>=2.7.3 in /usr/local/lib/python3.7/dist-packages (from pandas>=1.1->xarray>0.12.0->dask-ms[xarray]) (2.8.2)\n",
            "Requirement already satisfied: zipp>=0.5 in /usr/local/lib/python3.7/dist-packages (from importlib-metadata->xarray>0.12.0->dask-ms[xarray]) (3.8.1)\n",
            "Installing collected packages: dask-ms\n",
            "Successfully installed dask-ms-0.2.9\n"
          ]
        }
      ]
    },
    {
      "cell_type": "code",
      "source": [
        "import daskms"
      ],
      "metadata": {
        "id": "i6_lOs73FIB7"
      },
      "execution_count": 6,
      "outputs": []
    },
    {
      "cell_type": "markdown",
      "source": [
        "### WSClean "
      ],
      "metadata": {
        "id": "-eCZurlmFe_E"
      }
    },
    {
      "cell_type": "code",
      "source": [
        "!apt-get install wsclean"
      ],
      "metadata": {
        "colab": {
          "base_uri": "https://localhost:8080/"
        },
        "id": "i1OPWs7o3mIU",
        "outputId": "e0d4bad1-e720-416c-d6aa-8ad572ed7c02"
      },
      "execution_count": 7,
      "outputs": [
        {
          "output_type": "stream",
          "name": "stdout",
          "text": [
            "Reading package lists... Done\n",
            "Building dependency tree       \n",
            "Reading state information... Done\n",
            "The following package was automatically installed and is no longer required:\n",
            "  libnvidia-common-460\n",
            "Use 'apt autoremove' to remove it.\n",
            "The following additional packages will be installed:\n",
            "  casacore-data casacore-data-igrf casacore-data-lines\n",
            "  casacore-data-observatories casacore-data-sources casacore-data-tai-utc\n",
            "  libcasa-casa2 libcasa-coordinates2 libcasa-fits2 libcasa-images2\n",
            "  libcasa-lattices2 libcasa-measures2 libcasa-mirlib2 libcasa-ms2\n",
            "  libcasa-python3-2 libcasa-scimath-f2 libcasa-scimath2 libcasa-tables2\n",
            "  libcfitsio5 libfftw3-single3 libgsl23 libgslcblas0 libwcs5 libwsclean0\n",
            "  python3-casacore python3-numpy python3-six\n",
            "Suggested packages:\n",
            "  casacore-data-eop casacore-data-jplde casacore-data-predict libfftw3-bin\n",
            "  libfftw3-dev gsl-ref-psdoc | gsl-doc-pdf | gsl-doc-info | gsl-ref-html\n",
            "  python-numpy-doc python3-nose python3-numpy-dbg wsclean-dev\n",
            "The following NEW packages will be installed:\n",
            "  casacore-data casacore-data-igrf casacore-data-lines\n",
            "  casacore-data-observatories casacore-data-sources casacore-data-tai-utc\n",
            "  libcasa-casa2 libcasa-coordinates2 libcasa-fits2 libcasa-images2\n",
            "  libcasa-lattices2 libcasa-measures2 libcasa-mirlib2 libcasa-ms2\n",
            "  libcasa-python3-2 libcasa-scimath-f2 libcasa-scimath2 libcasa-tables2\n",
            "  libcfitsio5 libfftw3-single3 libgsl23 libgslcblas0 libwcs5 libwsclean0\n",
            "  python3-casacore python3-numpy python3-six wsclean\n",
            "0 upgraded, 28 newly installed, 0 to remove and 20 not upgraded.\n",
            "Need to get 12.1 MB of archives.\n",
            "After this operation, 52.0 MB of additional disk space will be used.\n",
            "Get:1 http://archive.ubuntu.com/ubuntu bionic/universe amd64 casacore-data-igrf all 12-1 [13.4 kB]\n",
            "Get:2 http://archive.ubuntu.com/ubuntu bionic/universe amd64 casacore-data-lines all 0+git2016.11.26-2 [5,474 B]\n",
            "Get:3 http://archive.ubuntu.com/ubuntu bionic/universe amd64 casacore-data-observatories all 0+git2016.11.02-1 [7,286 B]\n",
            "Get:4 http://archive.ubuntu.com/ubuntu bionic/universe amd64 casacore-data-sources all 2-2 [73.9 kB]\n",
            "Get:5 http://archive.ubuntu.com/ubuntu bionic/main amd64 python3-numpy amd64 1:1.13.3-2ubuntu1 [1,943 kB]\n",
            "Get:6 http://archive.ubuntu.com/ubuntu bionic/main amd64 python3-six all 1.11.0-2 [11.4 kB]\n",
            "Get:7 http://archive.ubuntu.com/ubuntu bionic/universe amd64 libcasa-casa2 amd64 2.4.1-1 [859 kB]\n",
            "Get:8 http://archive.ubuntu.com/ubuntu bionic/universe amd64 libcasa-tables2 amd64 2.4.1-1 [1,494 kB]\n",
            "Get:9 http://archive.ubuntu.com/ubuntu bionic/universe amd64 libcasa-measures2 amd64 2.4.1-1 [407 kB]\n",
            "Get:10 http://archive.ubuntu.com/ubuntu bionic/universe amd64 libcfitsio5 amd64 3.430-2 [446 kB]\n",
            "Get:11 http://archive.ubuntu.com/ubuntu bionic/universe amd64 libcasa-fits2 amd64 2.4.1-1 [309 kB]\n",
            "Get:12 http://archive.ubuntu.com/ubuntu bionic/universe amd64 libwcs5 amd64 5.18-1 [220 kB]\n",
            "Get:13 http://archive.ubuntu.com/ubuntu bionic/universe amd64 libcasa-coordinates2 amd64 2.4.1-1 [321 kB]\n",
            "Get:14 http://archive.ubuntu.com/ubuntu bionic/universe amd64 libcasa-scimath-f2 amd64 2.4.1-1 [179 kB]\n",
            "Get:15 http://archive.ubuntu.com/ubuntu bionic/main amd64 libfftw3-single3 amd64 3.3.7-1 [764 kB]\n",
            "Get:16 http://archive.ubuntu.com/ubuntu bionic/universe amd64 libcasa-scimath2 amd64 2.4.1-1 [360 kB]\n",
            "Get:17 http://archive.ubuntu.com/ubuntu bionic/universe amd64 libcasa-lattices2 amd64 2.4.1-1 [680 kB]\n",
            "Get:18 http://archive.ubuntu.com/ubuntu bionic/universe amd64 libcasa-mirlib2 amd64 2.4.1-1 [63.4 kB]\n",
            "Get:19 http://archive.ubuntu.com/ubuntu bionic/universe amd64 libcasa-images2 amd64 2.4.1-1 [721 kB]\n",
            "Get:20 http://archive.ubuntu.com/ubuntu bionic/universe amd64 libcasa-ms2 amd64 2.4.1-1 [1,126 kB]\n",
            "Get:21 http://archive.ubuntu.com/ubuntu bionic/universe amd64 libcasa-python3-2 amd64 2.4.1-1 [60.2 kB]\n",
            "Get:22 http://archive.ubuntu.com/ubuntu bionic/universe amd64 python3-casacore amd64 2.2.1-1 [492 kB]\n",
            "Get:23 http://archive.ubuntu.com/ubuntu bionic/universe amd64 casacore-data-tai-utc all 1.2 [5,000 B]\n",
            "Get:24 http://archive.ubuntu.com/ubuntu bionic/universe amd64 casacore-data all 1.0 [4,262 B]\n",
            "Get:25 http://archive.ubuntu.com/ubuntu bionic/universe amd64 libgslcblas0 amd64 2.4+dfsg-6 [79.7 kB]\n",
            "Get:26 http://archive.ubuntu.com/ubuntu bionic/universe amd64 libgsl23 amd64 2.4+dfsg-6 [823 kB]\n",
            "Get:27 http://archive.ubuntu.com/ubuntu bionic/universe amd64 libwsclean0 amd64 2.5-1 [595 kB]\n",
            "Get:28 http://archive.ubuntu.com/ubuntu bionic/universe amd64 wsclean amd64 2.5-1 [18.0 kB]\n",
            "Fetched 12.1 MB in 1s (10.8 MB/s)\n",
            "Selecting previously unselected package casacore-data-igrf.\n",
            "(Reading database ... 155676 files and directories currently installed.)\n",
            "Preparing to unpack .../00-casacore-data-igrf_12-1_all.deb ...\n",
            "Unpacking casacore-data-igrf (12-1) ...\n",
            "Selecting previously unselected package casacore-data-lines.\n",
            "Preparing to unpack .../01-casacore-data-lines_0+git2016.11.26-2_all.deb ...\n",
            "Unpacking casacore-data-lines (0+git2016.11.26-2) ...\n",
            "Selecting previously unselected package casacore-data-observatories.\n",
            "Preparing to unpack .../02-casacore-data-observatories_0+git2016.11.02-1_all.deb ...\n",
            "Unpacking casacore-data-observatories (0+git2016.11.02-1) ...\n",
            "Selecting previously unselected package casacore-data-sources.\n",
            "Preparing to unpack .../03-casacore-data-sources_2-2_all.deb ...\n",
            "Unpacking casacore-data-sources (2-2) ...\n",
            "Selecting previously unselected package python3-numpy.\n",
            "Preparing to unpack .../04-python3-numpy_1%3a1.13.3-2ubuntu1_amd64.deb ...\n",
            "Unpacking python3-numpy (1:1.13.3-2ubuntu1) ...\n",
            "Selecting previously unselected package python3-six.\n",
            "Preparing to unpack .../05-python3-six_1.11.0-2_all.deb ...\n",
            "Unpacking python3-six (1.11.0-2) ...\n",
            "Selecting previously unselected package libcasa-casa2:amd64.\n",
            "Preparing to unpack .../06-libcasa-casa2_2.4.1-1_amd64.deb ...\n",
            "Unpacking libcasa-casa2:amd64 (2.4.1-1) ...\n",
            "Selecting previously unselected package libcasa-tables2:amd64.\n",
            "Preparing to unpack .../07-libcasa-tables2_2.4.1-1_amd64.deb ...\n",
            "Unpacking libcasa-tables2:amd64 (2.4.1-1) ...\n",
            "Selecting previously unselected package libcasa-measures2:amd64.\n",
            "Preparing to unpack .../08-libcasa-measures2_2.4.1-1_amd64.deb ...\n",
            "Unpacking libcasa-measures2:amd64 (2.4.1-1) ...\n",
            "Selecting previously unselected package libcfitsio5:amd64.\n",
            "Preparing to unpack .../09-libcfitsio5_3.430-2_amd64.deb ...\n",
            "Unpacking libcfitsio5:amd64 (3.430-2) ...\n",
            "Selecting previously unselected package libcasa-fits2:amd64.\n",
            "Preparing to unpack .../10-libcasa-fits2_2.4.1-1_amd64.deb ...\n",
            "Unpacking libcasa-fits2:amd64 (2.4.1-1) ...\n",
            "Selecting previously unselected package libwcs5:amd64.\n",
            "Preparing to unpack .../11-libwcs5_5.18-1_amd64.deb ...\n",
            "Unpacking libwcs5:amd64 (5.18-1) ...\n",
            "Selecting previously unselected package libcasa-coordinates2:amd64.\n",
            "Preparing to unpack .../12-libcasa-coordinates2_2.4.1-1_amd64.deb ...\n",
            "Unpacking libcasa-coordinates2:amd64 (2.4.1-1) ...\n",
            "Selecting previously unselected package libcasa-scimath-f2:amd64.\n",
            "Preparing to unpack .../13-libcasa-scimath-f2_2.4.1-1_amd64.deb ...\n",
            "Unpacking libcasa-scimath-f2:amd64 (2.4.1-1) ...\n",
            "Selecting previously unselected package libfftw3-single3:amd64.\n",
            "Preparing to unpack .../14-libfftw3-single3_3.3.7-1_amd64.deb ...\n",
            "Unpacking libfftw3-single3:amd64 (3.3.7-1) ...\n",
            "Selecting previously unselected package libcasa-scimath2:amd64.\n",
            "Preparing to unpack .../15-libcasa-scimath2_2.4.1-1_amd64.deb ...\n",
            "Unpacking libcasa-scimath2:amd64 (2.4.1-1) ...\n",
            "Selecting previously unselected package libcasa-lattices2:amd64.\n",
            "Preparing to unpack .../16-libcasa-lattices2_2.4.1-1_amd64.deb ...\n",
            "Unpacking libcasa-lattices2:amd64 (2.4.1-1) ...\n",
            "Selecting previously unselected package libcasa-mirlib2:amd64.\n",
            "Preparing to unpack .../17-libcasa-mirlib2_2.4.1-1_amd64.deb ...\n",
            "Unpacking libcasa-mirlib2:amd64 (2.4.1-1) ...\n",
            "Selecting previously unselected package libcasa-images2:amd64.\n",
            "Preparing to unpack .../18-libcasa-images2_2.4.1-1_amd64.deb ...\n",
            "Unpacking libcasa-images2:amd64 (2.4.1-1) ...\n",
            "Selecting previously unselected package libcasa-ms2:amd64.\n",
            "Preparing to unpack .../19-libcasa-ms2_2.4.1-1_amd64.deb ...\n",
            "Unpacking libcasa-ms2:amd64 (2.4.1-1) ...\n",
            "Selecting previously unselected package libcasa-python3-2:amd64.\n",
            "Preparing to unpack .../20-libcasa-python3-2_2.4.1-1_amd64.deb ...\n",
            "Unpacking libcasa-python3-2:amd64 (2.4.1-1) ...\n",
            "Selecting previously unselected package python3-casacore.\n",
            "Preparing to unpack .../21-python3-casacore_2.2.1-1_amd64.deb ...\n",
            "Unpacking python3-casacore (2.2.1-1) ...\n",
            "Selecting previously unselected package casacore-data-tai-utc.\n",
            "Preparing to unpack .../22-casacore-data-tai-utc_1.2_all.deb ...\n",
            "Unpacking casacore-data-tai-utc (1.2) ...\n",
            "Selecting previously unselected package casacore-data.\n",
            "Preparing to unpack .../23-casacore-data_1.0_all.deb ...\n",
            "Unpacking casacore-data (1.0) ...\n",
            "Selecting previously unselected package libgslcblas0:amd64.\n",
            "Preparing to unpack .../24-libgslcblas0_2.4+dfsg-6_amd64.deb ...\n",
            "Unpacking libgslcblas0:amd64 (2.4+dfsg-6) ...\n",
            "Selecting previously unselected package libgsl23:amd64.\n",
            "Preparing to unpack .../25-libgsl23_2.4+dfsg-6_amd64.deb ...\n",
            "Unpacking libgsl23:amd64 (2.4+dfsg-6) ...\n",
            "Selecting previously unselected package libwsclean0:amd64.\n",
            "Preparing to unpack .../26-libwsclean0_2.5-1_amd64.deb ...\n",
            "Unpacking libwsclean0:amd64 (2.5-1) ...\n",
            "Selecting previously unselected package wsclean.\n",
            "Preparing to unpack .../27-wsclean_2.5-1_amd64.deb ...\n",
            "Unpacking wsclean (2.5-1) ...\n",
            "Setting up libcfitsio5:amd64 (3.430-2) ...\n",
            "Setting up libcasa-casa2:amd64 (2.4.1-1) ...\n",
            "Setting up libcasa-scimath-f2:amd64 (2.4.1-1) ...\n",
            "Setting up casacore-data-sources (2-2) ...\n",
            "Setting up libcasa-python3-2:amd64 (2.4.1-1) ...\n",
            "Setting up python3-numpy (1:1.13.3-2ubuntu1) ...\n",
            "Setting up python3-six (1.11.0-2) ...\n",
            "Setting up libcasa-tables2:amd64 (2.4.1-1) ...\n",
            "Setting up casacore-data-observatories (0+git2016.11.02-1) ...\n",
            "Setting up libcasa-mirlib2:amd64 (2.4.1-1) ...\n",
            "Setting up casacore-data-igrf (12-1) ...\n",
            "Setting up libfftw3-single3:amd64 (3.3.7-1) ...\n",
            "Setting up libgslcblas0:amd64 (2.4+dfsg-6) ...\n",
            "Setting up casacore-data-lines (0+git2016.11.26-2) ...\n",
            "Setting up libwcs5:amd64 (5.18-1) ...\n",
            "Setting up libgsl23:amd64 (2.4+dfsg-6) ...\n",
            "Setting up libcasa-measures2:amd64 (2.4.1-1) ...\n",
            "Setting up libcasa-scimath2:amd64 (2.4.1-1) ...\n",
            "Setting up libcasa-lattices2:amd64 (2.4.1-1) ...\n",
            "Setting up libcasa-ms2:amd64 (2.4.1-1) ...\n",
            "Setting up libcasa-fits2:amd64 (2.4.1-1) ...\n",
            "Setting up libcasa-coordinates2:amd64 (2.4.1-1) ...\n",
            "Setting up libcasa-images2:amd64 (2.4.1-1) ...\n",
            "Setting up libwsclean0:amd64 (2.5-1) ...\n",
            "Setting up python3-casacore (2.2.1-1) ...\n",
            "Setting up casacore-data-tai-utc (1.2) ...\n",
            "Creating new table /var/lib/casacore/data/geodetic/TAI_UTC\n",
            "Successful creation of default-locked table /var/lib/casacore/data/geodetic/TAI_UTC: 4 columns, 41 rows\n",
            "Setting up casacore-data (1.0) ...\n",
            "Setting up wsclean (2.5-1) ...\n",
            "Processing triggers for man-db (2.8.3-2ubuntu0.1) ...\n",
            "Processing triggers for libc-bin (2.27-3ubuntu1.5) ...\n"
          ]
        }
      ]
    },
    {
      "cell_type": "code",
      "source": [
        "!wsclean --help"
      ],
      "metadata": {
        "colab": {
          "base_uri": "https://localhost:8080/"
        },
        "id": "VrnUhh5a7kmp",
        "outputId": "5a103d98-40b6-4dd4-f32e-f9402a3535b3"
      },
      "execution_count": 8,
      "outputs": [
        {
          "output_type": "stream",
          "name": "stdout",
          "text": [
            "\n",
            "WSClean version 2.5 (2017-12-01)\n",
            "This software package is released under the GPL version 3.\n",
            "Author: André Offringa (offringa@gmail.com).\n",
            "\n",
            "Syntax: wsclean [options] <input-ms> [<2nd-ms> [..]]\n",
            "Will create cleaned images of the input ms(es).\n",
            "If multiple mses are specified, they need to be phase-rotated to the same point on the sky.\n",
            "\n",
            "Options can be:\n",
            "\n",
            "  ** GENERAL OPTIONS **\n",
            "-version\n",
            "   Print WSClean's version and exit.\n",
            "-j <threads>\n",
            "   Specify number of computing threads to use, i.e., number of cpu cores that will be used.\n",
            "   Default: use all cpu cores.\n",
            "-mem <percentage>\n",
            "   Limit memory usage to the given fraction of the total system memory. This is an approximate value.\n",
            "   Default: 100.\n",
            "-abs-mem <memory limit>\n",
            "   Like -mem, but this specifies a fixed amount of memory in gigabytes.\n",
            "-verbose (or -v)\n",
            "   Increase verbosity of output.\n",
            "-log-time\n",
            "   Add date and time to each line in the output.\n",
            "-quiet\n",
            "   Do not output anything but errors.\n",
            "-reorder\n",
            "-no-reorder\n",
            "   Force or disable reordering of Measurement Set. This can be faster when the measurement set needs to\n",
            "   be iterated several times, such as with many major iterations or in channel imaging mode.\n",
            "   Default: only reorder when in channel imaging mode.\n",
            "-temp-dir <directory>\n",
            "   Set the temporary directory used when reordering files. Default: same directory as input measurement set.\n",
            "-update-model-required (default), and\n",
            "-no-update-model-required\n",
            "   These two options specify wether the model data column is required to\n",
            "   contain valid model data after imaging. It can save time to not update\n",
            "   the model data column.\n",
            "-no-dirty\n",
            "   Do not save the dirty image.\n",
            "-save-weights\n",
            "   Save the gridded weights in the a fits file named <image-prefix>-weights.fits.\n",
            "-save-uv\n",
            "   Save the gridded uv plane, i.e., the FFT of the residual image. The UV plane is complex, hence\n",
            "   two images will be output: <prefix>-uv-real.fits and <prefix>-uv-imag.fits.\n",
            "-apply-primary-beam\n",
            "   Calculate and apply the primary beam and save images for the Jones components, with weighting identical to the\n",
            "   weighting as used by the imager. Only available for LOFAR.\n",
            "-reuse-primary-beam\n",
            "   If a primary beam image exists on disk, reuse those images.\n",
            "-use-differential-lofar-beam\n",
            "   Assume the visibilities have already been beam-corrected for the reference direction.\n",
            "-save-psf-pb\n",
            "   When applying beam correction, also save the primary-beam corrected PSF image.\n",
            "\n",
            "  ** WEIGHTING OPTIONS **\n",
            "-weight <weightmode>\n",
            "   Weightmode can be: natural, uniform, briggs. Default: uniform. When using Briggs' weighting,\n",
            "   add the robustness parameter, like: \"-weight briggs 0.5\".\n",
            "-super-weight <factor>\n",
            "   Increase the weight gridding box size, similar to Casa's superuniform weighting scheme. Default: 1.0\n",
            "   The factor can be rational and can be less than one for subpixel weighting.\n",
            "-mfs-weighting\n",
            "   In spectral mode, calculate the weights as if the image was made using MFS. This makes sure that the sum of\n",
            "   channel images equals the MFS weights. Otherwise, the channel image will become a bit more naturally weighted.\n",
            "   This is only relevant for weighting modes that require gridding (i.e., Uniform, Briggs').\n",
            "   Default: off, unless -join-channels is specified.\n",
            "-no-mfs-weighting\n",
            "   Opposite of -mfs-weighting; can be used to turn off MFS weighting in -join-channels mode.\n",
            "-weighting-rank-filter <level>\n",
            "   Filter the weights and set high weights to the local mean. The level parameter specifies\n",
            "   the filter level; any value larger than level*localmean will be set to level*localmean.\n",
            "-weighting-rank-filter-size <size>\n",
            "   Set size of weighting rank filter. Default: 16.\n",
            "-taper-gaussian <beamsize>\n",
            "   Taper the weights with a Gaussian function. This will reduce the contribution of long baselines.\n",
            "   The beamsize is by default in asec, but a unit can be specified (\"2amin\").\n",
            "-taper-tukey <lambda>\n",
            "   Taper the outer weights with a Tukey transition. Lambda specifies the size of the transition; use in\n",
            "   combination with -maxuv-l.\n",
            "-taper-inner-tukey <lambda>\n",
            "   Taper the weights with a Tukey transition. Lambda specifies the size of the transition; use in\n",
            "   combination with -minuv-l.\n",
            "-taper-edge <lambda>\n",
            "   Taper the weights with a rectangle, to keep a space of lambda between the edge and gridded visibilities.\n",
            "-taper-edge-tukey <lambda>\n",
            "   Taper the edge weights with a Tukey window. Lambda is the size of the Tukey transition. When -taper-edge\n",
            "   is also specified, the Tukey transition starts inside the inner rectangle.\n",
            "-store-imaging-weights\n",
            "   Will store the imaging weights in a column named 'IMAGING_WEIGHT_SPECTRUM'.\n",
            "\n",
            "  ** INVERSION OPTIONS **\n",
            "-name <image-prefix>\n",
            "   Use image-prefix as prefix for output files. Default is 'wsclean'.\n",
            "-size <width> <height>\n",
            "   Set the output image size in number of pixels (without padding).\n",
            "-padding <factor>\n",
            "   Pad images by the given factor during inversion to avoid aliasing. Default: 1.2 (=20%).\n",
            "-scale <pixel-scale>\n",
            "   Scale of a pixel. Default unit is degrees, but can be specificied, e.g. -scale 20asec. Default: 0.01deg.\n",
            "-predict\n",
            "   Only perform a single prediction for an existing image. Doesn't do any imaging or cleaning.\n",
            "   The input images should have the same name as the model output images would have in normal imaging mode.\n",
            "-predict-channels <nchannels>\n",
            "   Interpolate from a given number of images to the number of channels that are predicted\n",
            "   as specified by -channelsout. Will interpolate using the frequencies of the images.\n",
            "   Use one of the -fit-spectral-... options to specify the interpolation method / freedom.\n",
            "   Only used when -predict is specified.\n",
            "-continue\n",
            "   Will continue an earlier WSClean run. Earlier model images will be read and model visibilities will be\n",
            "   subtracted to create the first dirty residual. CS should have been used in the earlier run, and model data   should have been written to the measurement set for this to work. Default: off.\n",
            "-subtract-model\n",
            "   Subtract the model from the data column in the first iteration. This can be used to reimage\n",
            "   an already cleaned image, e.g. at a different resolution.\n",
            "-channels-out <count>\n",
            "   Splits the bandwidth and makes count nr. of images. Default: 1.\n",
            "-nwlayers <nwlayers>\n",
            "   Number of w-layers to use. Default: minimum suggested #w-layers for first MS.\n",
            "-nwlayers-for-size <width> <height>\n",
            "   Use the minimum suggested w-layers for an image of the given size. Can e.g. be used to increase\n",
            "   accuracy when predicting small part of full image. \n",
            "-no-small-inversion and -small-inversion\n",
            "   Perform inversion at the Nyquist resolution and upscale the image to the requested image size afterwards.\n",
            "   This speeds up inversion considerably, but makes aliasing slightly worse. This effect is\n",
            "   in most cases <1%. Default: on.\n",
            "-grid-mode <\"nn\", \"kb\" or \"rect\">\n",
            "   Kernel and mode used for gridding: kb = Kaiser-Bessel (default with 7 pixels), nn = nearest\n",
            "   neighbour (no kernel), rect = rectangular window. Default: kb.\n",
            "-kernel-size <size>\n",
            "   Gridding antialiasing kernel size. Default: 7.\n",
            "-oversampling <factor>\n",
            "   Oversampling factor used during gridding. Default: 63.\n",
            "-make-psf\n",
            "   Always make the psf, even when no cleaning is performed.\n",
            "-make-psf-only\n",
            "   Only make the psf, no images are made.\n",
            "-save-gridding\n",
            "   Save the gridding correction image. This shows the effect of the antialiasing filter. Default: not saved.\n",
            "-dft-prediction\n",
            "   Predict via a direct Fourier transform. This is slow, but can account for direction-dependent effects. This has\n",
            "   only effect when -mgain is set or -predict is given.\n",
            "-dft-with-beam\n",
            "   Apply the beam during DFT. Currently only works for LOFAR.\n",
            "-visibility-weighting-mode [normal/squared/unit]\n",
            "   Specify visibility weighting modi. Affects how the weights (normally) stored in\n",
            "   WEIGHT_SPECTRUM column are applied. Useful for estimating e.g. EoR power spectra errors.\n",
            "   Normally one would use this in combination with -no-normalize-for-weighting.\n",
            "-no-normalize-for-weighting\n",
            "   Disable the normalization for the weights, which makes the PSF's peak one. See\n",
            "   -visibility-weighting-mode. Only useful with natural weighting.\n",
            "-baseline-averaging <size-in-wavelengths>\n",
            "   Enable baseline-dependent averaging. The specified size is in number of wavelengths (i.e., uvw-units). One way\n",
            "   to calculate this is with <baseline in nr. of lambdas> * 2pi * <acceptable integration in s> / (24*60*60).\n",
            "-simulate-noise <stddev-in-jy>\n",
            "   Will replace every visibility by a Gaussian distributed value with given standard deviation before imaging.\n",
            "-grid-with-beam\n",
            "   Apply a-terms to correct for the primary beam. This is only possible when IDG is enabled.\n",
            "\n",
            "  ** DATA SELECTION OPTIONS **\n",
            "-pol <list>\n",
            "   Default: 'I'. Possible values: XX, XY, YX, YY, I, Q, U, V, RR, RL, LR or LL (case insensitive).\n",
            "   Multiple values can be separated with commas, e.g.: 'xx,xy,yx,yy'. Two or four polarizations can be\n",
            "   joinedly cleaned (see '-joinpolarizations'), but this is not the default. I, Q, U and V\n",
            "   polarizations will be directly calculated from the visibilities, which is not appropriate for\n",
            "   telescopes with non-orthogonal feeds, such as MWA and LOFAR. The 'xy' polarization will output both\n",
            "   a real and an imaginary image, which allows calculating true Stokes polarizations for those\n",
            "   telescopes.\n",
            "-interval <start-index> <end-index>\n",
            "   Only image the given time interval. Indices specify the timesteps, end index is exclusive.\n",
            "   Default: image all time steps.\n",
            "-intervals-out <count>\n",
            "   Number of intervals to image inside the selected global interval. Default: 1\n",
            "-channel-range <start-channel> <end-channel>\n",
            "   Only image the given channel range. Indices specify channel indices, end index is exclusive.\n",
            "   Default: image all channels.\n",
            "-field <fieldid>\n",
            "   Image the given field id. Default: first field (id 0).\n",
            "-spws <list>\n",
            "   Selects only the spws given in the list. list should be a comma-separated list of integers. Default: all spws.\n",
            "-data-column <columnname>\n",
            "   Default: CORRECTED_DATA if it exists, otherwise DATA will be used.\n",
            "-maxuvw-m <meters>\n",
            "-minuvw-m <meters>\n",
            "   Set the min/max baseline distance in meters.\n",
            "-maxuv-l <lambda>\n",
            "-minuv-l <lambda>\n",
            "   Set the min/max uv distance in lambda.\n",
            "-maxw <percentage>\n",
            "   Do not grid visibilities with a w-value higher than the given percentage of the max w, to save speed.\n",
            "   Default: grid everything\n",
            "\n",
            "  ** DECONVOLUTION OPTIONS **\n",
            "-niter <niter>\n",
            "   Maximum number of clean iterations to perform. Default: 0 (=no cleaning)\n",
            "-nmiter <nmiter>\n",
            "   Maximum number of major clean (inversion/prediction) iterations. Default: 20.   A value of 0 means no limit.\n",
            "-threshold <threshold>\n",
            "   Stopping clean thresholding in Jy. Default: 0.0\n",
            "-auto-threshold <sigma>\n",
            "   Estimate noise level using a robust estimator and stop at sigma x stddev.\n",
            "-auto-mask <sigma>\n",
            "   Construct a mask from found components and when a threshold of sigma is reached, continue\n",
            "   cleaning with the mask down to the normal threshold. \n",
            "-local-rms\n",
            "   Instead of using a single RMS for auto thresholding/masking, use a spatially varying\n",
            "   RMS image.\n",
            "-local-rms-window\n",
            "   Size of window for creating the RMS background map, in number of PSFs. Default: 25 psfs.\n",
            "-local-rms-method\n",
            "   Either 'rms' (default, uses sliding window RMS) or 'rms-with-min' (use max(window rms, 0.3 x window min)).\n",
            "-gain <gain>\n",
            "   Cleaning gain: Ratio of peak that will be subtracted in each iteration. Default: 0.1\n",
            "-mgain <gain>\n",
            "   Cleaning gain for major iterations: Ratio of peak that will be subtracted in each major\n",
            "   iteration. To use major iterations, 0.85 is a good value. Default: 1.0\n",
            "-join-polarizations\n",
            "   Perform cleaning by searching for peaks in the sum of squares of the polarizations, but\n",
            "   subtract components from the individual images. Only possible when imaging two or four Stokes\n",
            "   or linear parameters. Default: off.\n",
            "-join-channels\n",
            "   Perform cleaning by searching for peaks in the MFS image, but subtract components from individual channels.\n",
            "   This will turn on mfsweighting by default. Default: off.\n",
            "-multiscale\n",
            "   Clean on different scales. This is a new algorithm. Default: off.\n",
            "   This parameter invokes the v1.9 multiscale algorithm, which is slower but more accurate\n",
            "   compared to the older algorithm, and therefore the recommended one to use.\n",
            "-multiscale-threshold-bias\n",
            "   Parameter to lower the threshold for larger scales. The used threshold for a scale\n",
            "   is threshold(scale)=pointsource_threshold x tbias^scale. A lower bias will clean\n",
            "   larger scales deeper. Default: 0.7\n",
            "-multiscale-scale-bias\n",
            "   Parameter to prevent cleaning small scales in the large-scale iterations. A higher\n",
            "   bias will give more focus to larger scales. Default: 0.6\n",
            "-multiscale-scales <comma-separated list of sizes in pixels>\n",
            "   Sets a list of scales to use in multi-scale cleaning. If unset, WSClean will select the delta\n",
            "   (zero) scale, scales starting at four times the synthesized PSF, and increase by a factor of\n",
            "   two until the maximum scale is reached. Example: -multiscale-scales 0,5,12.5\n",
            "-multiscale-shape <shape>\n",
            "   Sets the shape function used during multi-scale clean. Either 'tapered-quadratic' (default) or 'gaussian'.\n",
            "-multiscale-gain <gain>\n",
            "   Size of step made in the subminor loop of multi-scale. Default currently 0.2, but shows sign of instability.\n",
            "   A value of 0.1 might be more stable.\n",
            "-multiscale-convolution-padding <padding>\n",
            "   Size of zero-padding for convolutions during the multi-scale cleaning.\n",
            "-no-multiscale-fast-subminor\n",
            "   Disable the 'fast subminor loop' optimization, that will only search a part of the\n",
            "   image during the multi-scale subminor loop. The optimization is on by default.\n",
            "-iuwt\n",
            "   Use the IUWT deconvolution algorithm.\n",
            "-iuwt-snr-test / -no-iuwt-snr-test\n",
            "   Stop (/do not stop) IUWT when the SNR decreases. This might help limitting divergence, but can\n",
            "   occasionally also stop the algorithm too early. Default: no SNR test.\n",
            "-moresane-ext <location>\n",
            "   Use the MoreSane deconvolution algorithm, installed at the specified location.\n",
            "-moresane-arg <arguments>\n",
            "   Pass the specified arguments to moresane. Note that multiple parameters have to be\n",
            "   enclosed in quotes.\n",
            "-moresane-sl <sl1,sl2,...>\n",
            "   MoreSane --sigmalevel setting for each major loop iteration. Useful to start at high\n",
            "   levels and go down with subsequent loops, e.g. 20,10,5\n",
            "-save-source-list\n",
            "   Saves the found clean components as a BBS/NDPPP text sky model. This parameter \n",
            "   enables Gaussian shapes during multi-scale cleaning (-multiscale-shape gaussian).\n",
            "-clean-border <percentage>\n",
            "   Set the border size in which no cleaning is performed, in percentage of the width/height of the image.\n",
            "   With an image size of 1000 and clean border of 1%, each border is 10 pixels. Default: 0%\n",
            "-fits-mask <mask>\n",
            "   Use the specified fits-file as mask during cleaning.\n",
            "-casa-mask <mask>\n",
            "   Use the specified CASA mask as mask during cleaning.\n",
            "-no-negative\n",
            "   Do not allow negative components during cleaning. Not the default.\n",
            "-negative\n",
            "   Default on: opposite of -nonegative.\n",
            "-stop-negative\n",
            "   Stop on negative components. Not the default.\n",
            "-fit-spectral-pol <nterms>\n",
            "   Fit a polynomial over frequency to each clean component. This has only effect\n",
            "   when the channels are joined with -join-channels.\n",
            "-fit-spectral-log-pol <nterms>\n",
            "   Like fit-spectral-pol, but fits a logarithmic polynomial over frequency instead.\n",
            "-deconvolution-channels <nchannels>\n",
            "   Decrease the number of channels as specified by -channels-out to the given number for\n",
            "   deconvolution. Only possible in combination with one of the -fit-spectral options.\n",
            "   Proper residuals/restored images will only be returned when mgain < 1.\n",
            "-squared-channel-joining\n",
            "   Use with -join-channels to perform peak finding in the sum of squared values over\n",
            "   channels, instead of the normal sum. This is useful for imaging QU polarizations\n",
            "   with non-zero rotation measures, for which the normal sum is insensitive.\n",
            "-force-dynamic-join\n",
            "   Use alternative joined clean algorithm (feature for testing).\n",
            "\n",
            "  ** RESTORATION OPTIONS **\n",
            "-restore <input residual> <input model> <output image>\n",
            "   Restore the model image onto the residual image and save it in output image. By\n",
            "   default, the beam parameters are read from the residual image. If this parameter\n",
            "   is given, wsclean will do the restoring and then exit: no cleaning is performed.\n",
            "-beam-size <arcsec>\n",
            "   Set a circular beam size (FWHM) in arcsec for restoring the clean components. This is\n",
            "   the same as -beam-shape <size> <size> 0.\n",
            "-beam-shape <maj in arcsec> <min in arcsec> <position angle in deg>\n",
            "   Set the FWHM beam shape for restoring the clean components. Defaults units for maj and min are arcsec, and\n",
            "   degrees for PA. Can be overriden, e.g. '-beam-shape 1amin 1amin 3deg'. Default: shape of PSF.\n",
            "-fit-beam\n",
            "   Determine beam shape by fitting the PSF (default if PSF is made).\n",
            "-no-fit-beam\n",
            "   Do not determine beam shape from the PSF.\n",
            "-theoretic-beam\n",
            "   Write the beam in output fits files as calculated from the longest projected baseline.\n",
            "   This method results in slightly less accurate beam size/integrated fluxes, but provides a beam size\n",
            "   without making the PSF for quick imaging. Default: off.\n",
            "-circular-beam\n",
            "   Force the beam to be circular: bmin will be set to bmaj.\n",
            "-elliptical-beam\n",
            "   Allow the beam to be elliptical. Default.\n",
            "\n",
            "For detailed help, check the WSClean website: http://wsclean.sourceforge.net/ .\n"
          ]
        }
      ]
    },
    {
      "cell_type": "markdown",
      "source": [
        "### TART tools"
      ],
      "metadata": {
        "id": "Pv9nUmTup8PK"
      }
    },
    {
      "cell_type": "code",
      "source": [
        "!pip install tart2ms tart tart-tools"
      ],
      "metadata": {
        "colab": {
          "base_uri": "https://localhost:8080/"
        },
        "id": "6fcdUUnGp94_",
        "outputId": "c2a091e0-7075-4d87-baf4-778c1cf04097"
      },
      "execution_count": 9,
      "outputs": [
        {
          "output_type": "stream",
          "name": "stdout",
          "text": [
            "Looking in indexes: https://pypi.org/simple, https://us-python.pkg.dev/colab-wheels/public/simple/\n",
            "Collecting tart2ms\n",
            "  Downloading tart2ms-0.2.1b3-py3-none-any.whl (22 kB)\n",
            "Collecting tart\n",
            "  Downloading tart-1.1.0b9-py3-none-any.whl (105 kB)\n",
            "\u001b[K     |████████████████████████████████| 105 kB 11.4 MB/s \n",
            "\u001b[?25hCollecting tart-tools\n",
            "  Downloading tart_tools-1.1.0b9-py3-none-any.whl (36 kB)\n",
            "Requirement already satisfied: dask-ms in /usr/local/lib/python3.7/dist-packages (from tart2ms) (0.2.9)\n",
            "Requirement already satisfied: numpy in /usr/local/lib/python3.7/dist-packages (from tart2ms) (1.21.6)\n",
            "Requirement already satisfied: python-casacore in /usr/local/lib/python3.7/dist-packages (from tart2ms) (3.5.1)\n",
            "Requirement already satisfied: h5py in /usr/local/lib/python3.7/dist-packages (from tart2ms) (3.1.0)\n",
            "Requirement already satisfied: astropy in /usr/local/lib/python3.7/dist-packages (from tart2ms) (4.3.1)\n",
            "Requirement already satisfied: matplotlib in /usr/local/lib/python3.7/dist-packages (from tart) (3.2.2)\n",
            "Collecting healpy\n",
            "  Downloading healpy-1.16.1-cp37-cp37m-manylinux_2_17_x86_64.manylinux2014_x86_64.whl (23.7 MB)\n",
            "\u001b[K     |████████████████████████████████| 23.7 MB 1.4 MB/s \n",
            "\u001b[?25hRequirement already satisfied: pyerfa>=1.7.3 in /usr/local/lib/python3.7/dist-packages (from astropy->tart2ms) (2.0.0.1)\n",
            "Requirement already satisfied: importlib-metadata in /usr/local/lib/python3.7/dist-packages (from astropy->tart2ms) (4.12.0)\n",
            "Requirement already satisfied: dask[array]>=2.2.0 in /usr/local/lib/python3.7/dist-packages (from dask-ms->tart2ms) (2.12.0)\n",
            "Requirement already satisfied: toolz>=0.7.3 in /usr/local/lib/python3.7/dist-packages (from dask[array]>=2.2.0->dask-ms->tart2ms) (0.12.0)\n",
            "Requirement already satisfied: six in /usr/local/lib/python3.7/dist-packages (from python-casacore->tart2ms) (1.15.0)\n",
            "Requirement already satisfied: cached-property in /usr/local/lib/python3.7/dist-packages (from h5py->tart2ms) (1.5.2)\n",
            "Requirement already satisfied: scipy in /usr/local/lib/python3.7/dist-packages (from healpy->tart) (1.7.3)\n",
            "Requirement already satisfied: typing-extensions>=3.6.4 in /usr/local/lib/python3.7/dist-packages (from importlib-metadata->astropy->tart2ms) (4.1.1)\n",
            "Requirement already satisfied: zipp>=0.5 in /usr/local/lib/python3.7/dist-packages (from importlib-metadata->astropy->tart2ms) (3.8.1)\n",
            "Requirement already satisfied: pyparsing!=2.0.4,!=2.1.2,!=2.1.6,>=2.0.1 in /usr/local/lib/python3.7/dist-packages (from matplotlib->tart) (3.0.9)\n",
            "Requirement already satisfied: python-dateutil>=2.1 in /usr/local/lib/python3.7/dist-packages (from matplotlib->tart) (2.8.2)\n",
            "Requirement already satisfied: kiwisolver>=1.0.1 in /usr/local/lib/python3.7/dist-packages (from matplotlib->tart) (1.4.4)\n",
            "Requirement already satisfied: cycler>=0.10 in /usr/local/lib/python3.7/dist-packages (from matplotlib->tart) (0.11.0)\n",
            "Installing collected packages: healpy, tart, tart-tools, tart2ms\n",
            "Successfully installed healpy-1.16.1 tart-1.1.0b9 tart-tools-1.1.0b9 tart2ms-0.2.1b3\n"
          ]
        }
      ]
    },
    {
      "cell_type": "markdown",
      "source": [
        "## Creating MS"
      ],
      "metadata": {
        "id": "lTa4SMU2qHMc"
      }
    },
    {
      "cell_type": "code",
      "source": [
        "!tart_calibration_data --file tart_data.json --n 1"
      ],
      "metadata": {
        "colab": {
          "base_uri": "https://localhost:8080/"
        },
        "id": "8IPF2IScqG4D",
        "outputId": "c3e6ff9c-9418-475d-fa4f-9d21809a64a0"
      },
      "execution_count": 11,
      "outputs": [
        {
          "output_type": "stream",
          "name": "stdout",
          "text": [
            "Loading new data from https://tart.elec.ac.nz/signal...\n",
            "Getting catalog from https://tart.elec.ac.nz/catalog/catalog?lat=-45.85177&lon=170.5456&date=2022-08-17T07:16:28.037000+00:00\n",
            "Loading Complete\n"
          ]
        }
      ]
    },
    {
      "cell_type": "code",
      "source": [
        "!tart2ms --json tart_data.json --ms tart_data.ms"
      ],
      "metadata": {
        "colab": {
          "base_uri": "https://localhost:8080/"
        },
        "id": "oG7OxiIdqGzQ",
        "outputId": "8f5afdeb-d03b-43de-f793-48eff7e01a59"
      },
      "execution_count": 12,
      "outputs": [
        {
          "output_type": "stream",
          "name": "stdout",
          "text": [
            "Getting Data from file: tart_data.json\n",
            "Writing measurement set 'tart_data.ms'...\n",
            "2022-08-17 07:16:47,624 - root - INFO - Time 5167437388.037001\n",
            "/usr/local/lib/python3.7/dist-packages/astropy/time/utils.py:179: RuntimeWarning: overflow encountered in double_scalars\n",
            "  c = 134217729. * a  # 2**27+1.\n",
            "/usr/local/lib/python3.7/dist-packages/astropy/time/utils.py:181: RuntimeWarning: invalid value encountered in double_scalars\n",
            "  ah = c - abig\n",
            "\u001b[0;39mDownloading https://hpiers.obspm.fr/iers/bul/bulc/Leap_Second.dat\u001b[0m\n",
            "|\u001b[0;34m===========================================\u001b[0m| 1.3k/1.3k (100.00%)         0s\n",
            "\u001b[0;39mDownloading https://www.ietf.org/timezones/data/leap-seconds.list\u001b[0m\u001b[0;32m [Done]\u001b[0m\n",
            "\u001b[0;39mDownloading https://astroconda.org/aux/astropy_mirror/iers_a_1/finals2000A.all\u001b[0m\n",
            "|\u001b[0;34m===========================================\u001b[0m| 3.2M/3.2M (100.00%)         0s\n",
            "\u001b[0;33mWARNING\u001b[0m: Tried to get polar motions for times after IERS data is valid. Defaulting to polar motion from the 50-yr mean for those. This may affect precision at the arcsec level [astropy.coordinates.builtin_frames.utils]\n",
            "2022-08-17 07:16:50,158 - astropy - WARNING - Tried to get polar motions for times after IERS data is valid. Defaulting to polar motion from the 50-yr mean for those. This may affect precision at the arcsec level\n",
            "2022-08-17 07:16:50,163 - root - INFO - Pol Feeds ['RR']\n",
            "2022-08-17 07:16:50,163 - root - INFO - Correlation Types [[5]]\n",
            "2022-08-17 07:16:50,169 - root - INFO - Pol Types ['RR']\n",
            "2022-08-17 07:16:50,169 - root - INFO - Pol Responses [[0.7071067811865475, (-0-0.7071067811865475j)]]\n",
            "\u001b[0;33mWARNING\u001b[0m: Tried to get polar motions for times after IERS data is valid. Defaulting to polar motion from the 50-yr mean for those. This may affect precision at the arcsec level [astropy.coordinates.builtin_frames.utils]\n",
            "2022-08-17 07:16:50,180 - astropy - WARNING - Tried to get polar motions for times after IERS data is valid. Defaulting to polar motion from the 50-yr mean for those. This may affect precision at the arcsec level\n",
            "2022-08-17 07:16:50,614 - root - INFO - Corr Prod [[0 0]]\n",
            "2022-08-17 07:16:50,614 - root - INFO - Corr Type [5]\n",
            "2022-08-17 07:16:50,614 - root - INFO - NUM_CORR dask.array<full, shape=(1,), dtype=int32, chunksize=(1,), chunktype=numpy.ndarray>\n",
            "2022-08-17 07:16:50,615 - root - INFO - Dask Corr Prod (1, 1, 2)\n",
            "2022-08-17 07:16:50,615 - root - INFO - Dask Corr Type (1, 1)\n",
            "2022-08-17 07:16:50,617 - root - INFO - Data size 276 1 1\n",
            "Measurement set writing complete.\n"
          ]
        }
      ]
    },
    {
      "cell_type": "markdown",
      "source": [
        "## Imaging using WsClean"
      ],
      "metadata": {
        "id": "Mo0uVG7_qgkO"
      }
    },
    {
      "cell_type": "code",
      "source": [
        "msfile = \"tart_data.ms\"\n",
        "!wsclean -v -scale 0.1 -size 1700 1700 -make-psf -pol RR  -use-wgridder -auto-threshold 3 -mgain 0.05 -gain 0.05 -niter 2000 {msfile}"
      ],
      "metadata": {
        "colab": {
          "base_uri": "https://localhost:8080/"
        },
        "id": "NfVe4tO5qGl-",
        "outputId": "b616d99b-2d32-4af1-9725-f53e7f8cf720"
      },
      "execution_count": 13,
      "outputs": [
        {
          "output_type": "stream",
          "name": "stdout",
          "text": [
            "+ + + + + + + + + + + + + + + + + + +\n",
            "+ An exception occured:\n",
            "+ >>> Unknown parameter: use-wgridder\n",
            "+ + + + + + + + + + + + + + + + + + +\n"
          ]
        }
      ]
    },
    {
      "cell_type": "code",
      "source": [
        "# example command has an unknown parameter, removing the parameter\n",
        "!wsclean -v -scale 0.1 -size 1700 1700 -make-psf -pol RR  -auto-threshold 3 -mgain 0.05 -gain 0.05 -niter 2000 {msfile}"
      ],
      "metadata": {
        "colab": {
          "base_uri": "https://localhost:8080/"
        },
        "id": "56fP57eeqGtP",
        "outputId": "3eebb68b-046b-4526-c10f-5642bda468ff"
      },
      "execution_count": 14,
      "outputs": [
        {
          "output_type": "stream",
          "name": "stdout",
          "text": [
            "\n",
            "WSClean version 2.5 (2017-12-01)\n",
            "This software package is released under the GPL version 3.\n",
            "Author: André Offringa (offringa@gmail.com).\n",
            "\n",
            "No corrected data in first measurement set: tasks will be applied on the data column.\n",
            "Using image size of 1700 x 1700, padded to 2040 x 2040.\n",
            "=== IMAGING TABLE ===\n",
            "       # Pol Ch JG ²G In Freq(MHz)\n",
            "| Independent group:\n",
            "+-+-J- 0 RR   0  0  0  0  1574-1577\n",
            "\n",
            "\n",
            "+ + + + + + + + + + + + + + + + + + +\n",
            "+ An exception occured:\n",
            "+ >>> Invalid Table data type when accessing column in ScalarColumn ctor for column TIME\n",
            "+ + + + + + + + + + + + + + + + + + +\n"
          ]
        }
      ]
    },
    {
      "cell_type": "markdown",
      "source": [
        "## Example TART data"
      ],
      "metadata": {
        "id": "L0_4OJ8lxmqz"
      }
    },
    {
      "cell_type": "code",
      "source": [
        "from google.colab import drive\n",
        "drive.mount('/content/drive')"
      ],
      "metadata": {
        "colab": {
          "base_uri": "https://localhost:8080/"
        },
        "id": "idPsR_6H9eUy",
        "outputId": "eebac06e-ae4e-4c7c-b26f-1ffadfe9842d"
      },
      "execution_count": null,
      "outputs": [
        {
          "output_type": "stream",
          "name": "stdout",
          "text": [
            "Mounted at /content/drive\n"
          ]
        }
      ]
    },
    {
      "cell_type": "code",
      "source": [
        "!ln -s \"/content/drive/MyDrive/RARG/TART/tart_data.ms\"\n",
        "!ln -s \"/content/drive/MyDrive/RARG/TART/data_2019_08_04_21_38_31_UTC.ms\""
      ],
      "metadata": {
        "id": "dtmFi6_p9qKY"
      },
      "execution_count": null,
      "outputs": []
    },
    {
      "cell_type": "markdown",
      "source": [
        "## Imaging"
      ],
      "metadata": {
        "id": "rHaYI6gMFpq_"
      }
    },
    {
      "cell_type": "code",
      "source": [
        "msfile = \"tart_data.ms\"\n",
        "!wsclean -v -scale 0.1 -size 1700 1700 -make-psf -pol RR  -auto-threshold 3 -mgain 0.05 -gain 0.05 -niter 2000 {msfile}"
      ],
      "metadata": {
        "colab": {
          "base_uri": "https://localhost:8080/"
        },
        "id": "pIWUmcHj9zD9",
        "outputId": "6c7d5ac0-070c-4e40-b095-4f41104ff1e4"
      },
      "execution_count": null,
      "outputs": [
        {
          "output_type": "stream",
          "name": "stdout",
          "text": [
            "\n",
            "WSClean version 2.5 (2017-12-01)\n",
            "This software package is released under the GPL version 3.\n",
            "Author: André Offringa (offringa@gmail.com).\n",
            "\n",
            "No corrected data in first measurement set: tasks will be applied on the data column.\n",
            "Using image size of 1700 x 1700, padded to 2040 x 2040.\n",
            "=== IMAGING TABLE ===\n",
            "       # Pol Ch JG ²G In Freq(MHz)\n",
            "| Independent group:\n",
            "+-+-J- 0 RR   0  0  0  0  1574-1577\n",
            "\n",
            "\n",
            "+ + + + + + + + + + + + + + + + + + +\n",
            "+ An exception occured:\n",
            "+ >>> Invalid Table data type when accessing column in ScalarColumn ctor for column TIME\n",
            "+ + + + + + + + + + + + + + + + + + +\n"
          ]
        }
      ]
    },
    {
      "cell_type": "code",
      "source": [
        "msfile = \"data_2019_08_04_21_38_31_UTC.ms\"\n",
        "!wsclean -v -scale 0.1 -size 1700 1700 -make-psf -pol RR  -auto-threshold 3 -mgain 0.05 -gain 0.05 -niter 2000 {msfile}"
      ],
      "metadata": {
        "colab": {
          "base_uri": "https://localhost:8080/"
        },
        "id": "Tr7dTila_Fxd",
        "outputId": "9ba45bee-3ed7-4d8d-9c53-dfa05e011ee3"
      },
      "execution_count": null,
      "outputs": [
        {
          "output_type": "stream",
          "name": "stdout",
          "text": [
            "\n",
            "WSClean version 2.5 (2017-12-01)\n",
            "This software package is released under the GPL version 3.\n",
            "Author: André Offringa (offringa@gmail.com).\n",
            "\n",
            "No corrected data in first measurement set: tasks will be applied on the data column.\n",
            "Using image size of 1700 x 1700, padded to 2040 x 2040.\n",
            "=== IMAGING TABLE ===\n",
            "       # Pol Ch JG ²G In Freq(MHz)\n",
            "| Independent group:\n",
            "+-+-J- 0 RR   0  0  0  0  1574-1577\n",
            "\n",
            "\n",
            "+ + + + + + + + + + + + + + + + + + +\n",
            "+ An exception occured:\n",
            "+ >>> Invalid Table data type when accessing column in ScalarColumn ctor for column TIME\n",
            "+ + + + + + + + + + + + + + + + + + +\n"
          ]
        }
      ]
    },
    {
      "cell_type": "code",
      "source": [
        ""
      ],
      "metadata": {
        "id": "exIv6iskhwaa"
      },
      "execution_count": null,
      "outputs": []
    }
  ]
}