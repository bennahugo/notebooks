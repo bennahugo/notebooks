{
  "cells": [
    {
      "cell_type": "markdown",
      "metadata": {
        "id": "view-in-github",
        "colab_type": "text"
      },
      "source": [
        "<a href=\"https://colab.research.google.com/github/rubyvanrooyen/notebooks/blob/main/calibration/phase/Far_Field.ipynb\" target=\"_parent\"><img src=\"https://colab.research.google.com/assets/colab-badge.svg\" alt=\"Open In Colab\"/></a>"
      ]
    },
    {
      "cell_type": "markdown",
      "metadata": {
        "id": "LDMFjK6AntSh"
      },
      "source": [
        "# Far field calculations for phase calibration\n",
        "\n",
        "For a source at distance $r$ from the phase-center of the telescope, and for an antenna\n",
        "at a distance $b$ from the phase center, what is the maximum phase error that results if we\n",
        "don't take the finite distance into consideration.\n",
        "\n",
        "A bit of geometry. The "
      ]
    },
    {
      "cell_type": "code",
      "execution_count": 1,
      "metadata": {
        "id": "xUnuU9RkntSk"
      },
      "outputs": [],
      "source": [
        "import sympy as sp\n",
        "sp.init_printing(use_latex=\"mathjax\") \n",
        "\n",
        "r = sp.Symbol('r', real=True, positive=True)\n",
        "b = sp.Symbol('b', real=True, positive=True)\n",
        "\n",
        "distance_error = sp.simplify(r*(1 - sp.cos(sp.asin(b/r))))"
      ]
    },
    {
      "cell_type": "code",
      "execution_count": 2,
      "metadata": {
        "colab": {
          "base_uri": "https://localhost:8080/",
          "height": 41
        },
        "id": "gSb7ngZhntSl",
        "outputId": "b7d26dd9-41d1-4f60-d1ae-e5853baaa718"
      },
      "outputs": [
        {
          "output_type": "execute_result",
          "data": {
            "text/plain": [
              "       ___________\n",
              "      ╱    2    2 \n",
              "r - ╲╱  - b  + r  "
            ],
            "text/latex": "$\\displaystyle r - \\sqrt{- b^{2} + r^{2}}$"
          },
          "metadata": {},
          "execution_count": 2
        }
      ],
      "source": [
        "distance_error"
      ]
    },
    {
      "cell_type": "markdown",
      "metadata": {
        "id": "lZr32YmMntSm"
      },
      "source": [
        "## Simulation\n",
        "\n",
        "Plot the resulting distance error (measured in degrees) as a function of source radius for a telescope with a maximum radius of 2 meters."
      ]
    },
    {
      "cell_type": "code",
      "execution_count": 3,
      "metadata": {
        "colab": {
          "base_uri": "https://localhost:8080/",
          "height": 295
        },
        "id": "1ua51dohntSm",
        "outputId": "7da2aadc-7729-4768-df31-42d503f45fab"
      },
      "outputs": [
        {
          "output_type": "display_data",
          "data": {
            "text/plain": [
              "<Figure size 432x288 with 1 Axes>"
            ],
            "image/png": "[encoded data removed]"
          },
          "metadata": {
            "needs_background": "light"
          }
        }
      ],
      "source": [
        "import matplotlib.pyplot as plt\n",
        "import numpy as np\n",
        "\n",
        "baseline = 2.0\n",
        "wavelen = 0.19\n",
        "r = np.linspace(15,500,200)\n",
        "distance_error = r - np.sqrt(-baseline**2 + r**2)\n",
        "phase_error = (distance_error / wavelen)*2*np.pi\n",
        "plt.semilogy(r,np.degrees(phase_error))\n",
        "plt.grid(True)\n",
        "plt.xlabel('Distance to source (m)')\n",
        "plt.ylabel('Phase Error (degrees)')\n",
        "plt.title('Plane-wave Error vs source distance (b = 4m)')\n",
        "plt.show()"
      ]
    },
    {
      "cell_type": "markdown",
      "metadata": {
        "id": "ZdaILV8CntSn"
      },
      "source": [
        "The conclusion is that for all calibration sources, which are likely to be quite close (within 100m of the telescope), we need to take the source distance into consideration to keep the phase error below ten degrees. Even after 200m, the phase error is still too large."
      ]
    },
    {
      "cell_type": "markdown",
      "metadata": {
        "collapsed": true,
        "id": "Yfrgkg_dntSn"
      },
      "source": [
        "## Correction per antenna\n",
        "\n",
        "Take far-field into account by modifying the el, az of the source for each antenna."
      ]
    },
    {
      "cell_type": "code",
      "execution_count": 4,
      "metadata": {
        "id": "48AoBRwJntSo"
      },
      "outputs": [],
      "source": [
        "el_0 = sp.Symbol('theta_0', real=True, positive=True)\n",
        "az_0 = sp.Symbol('phi_0', real=True, positive=True)\n",
        "r_0 = sp.Symbol('r_0', real=True, positive=True)\n",
        "\n",
        "x0 = r_0*sp.sin(az_0) * sp.cos(el_0)\n",
        "y0 = r_0*sp.cos(az_0) * sp.cos(el_0)\n",
        "z0 = r_0*sp.sin(el_0)\n"
      ]
    },
    {
      "cell_type": "markdown",
      "metadata": {
        "id": "ZILW27cRntSo"
      },
      "source": [
        "The antenna has coordianates $x_a, y_a$."
      ]
    },
    {
      "cell_type": "code",
      "execution_count": 5,
      "metadata": {
        "collapsed": true,
        "id": "QOgiECBontSp"
      },
      "outputs": [],
      "source": [
        "x_a = sp.Symbol('x_a', real=True)\n",
        "y_a = sp.Symbol('y_a', real=True)\n",
        "z_a = sp.Symbol('z_a', real=True)"
      ]
    },
    {
      "cell_type": "markdown",
      "metadata": {
        "id": "0b40B1j5ntSp"
      },
      "source": [
        "The source has position $(x,y,z)$ in the antenna frame of reference."
      ]
    },
    {
      "cell_type": "code",
      "execution_count": 6,
      "metadata": {
        "collapsed": true,
        "id": "D_sNj4osntSp"
      },
      "outputs": [],
      "source": [
        "x = x0 - x_a\n",
        "y = y0 - y_a\n",
        "z = z0 - z_a"
      ]
    },
    {
      "cell_type": "markdown",
      "metadata": {
        "id": "oI32I7ucntSq"
      },
      "source": [
        "The new antenna-relative elevation and azimuth are,"
      ]
    },
    {
      "cell_type": "code",
      "execution_count": 7,
      "metadata": {
        "collapsed": true,
        "id": "LJCFczCkntSq"
      },
      "outputs": [],
      "source": [
        "r = sp.simplify(sp.sqrt(x**2 + y**2 + z**2))"
      ]
    },
    {
      "cell_type": "code",
      "execution_count": 8,
      "metadata": {
        "colab": {
          "base_uri": "https://localhost:8080/",
          "height": 48
        },
        "id": "1YV8NvEYntSq",
        "outputId": "b14cadf7-6557-48fb-de45-1eca9e20e68a"
      },
      "outputs": [
        {
          "output_type": "execute_result",
          "data": {
            "text/plain": [
              "   ___________________________________________________________________________\n",
              "  ╱                  2                            2                           \n",
              "╲╱  (r₀⋅sin(θ₀) - zₐ)  + (r₀⋅sin(φ₀)⋅cos(θ₀) - xₐ)  + (r₀⋅cos(φ₀)⋅cos(θ₀) - yₐ\n",
              "\n",
              "___\n",
              " 2 \n",
              ")  "
            ],
            "text/latex": "$\\displaystyle \\sqrt{\\left(r_{0} \\sin{\\left(\\theta_{0} \\right)} - z_{a}\\right)^{2} + \\left(r_{0} \\sin{\\left(\\phi_{0} \\right)} \\cos{\\left(\\theta_{0} \\right)} - x_{a}\\right)^{2} + \\left(r_{0} \\cos{\\left(\\phi_{0} \\right)} \\cos{\\left(\\theta_{0} \\right)} - y_{a}\\right)^{2}}$"
          },
          "metadata": {},
          "execution_count": 8
        }
      ],
      "source": [
        "r"
      ]
    },
    {
      "cell_type": "code",
      "execution_count": 9,
      "metadata": {
        "colab": {
          "base_uri": "https://localhost:8080/"
        },
        "id": "LW_lt5MuntSr",
        "outputId": "09471e76-e511-4881-fecb-bcfc518c30b9"
      },
      "outputs": [
        {
          "output_type": "stream",
          "name": "stdout",
          "text": [
            "r_0 = Symbol('r_0')\n",
            "theta_0 = Symbol('theta_0')\n",
            "z_a = Symbol('z_a')\n",
            "phi_0 = Symbol('phi_0')\n",
            "x_a = Symbol('x_a')\n",
            "y_a = Symbol('y_a')\n",
            "e = sqrt((r_0*sin(theta_0) - z_a)**2 + (r_0*sin(phi_0)*cos(theta_0) - x_a)**2 + (r_0*cos(phi_0)*cos(theta_0) - y_a)**2)\n"
          ]
        }
      ],
      "source": [
        "print(sp.python(r))"
      ]
    },
    {
      "cell_type": "code",
      "execution_count": 10,
      "metadata": {
        "colab": {
          "base_uri": "https://localhost:8080/",
          "height": 48
        },
        "id": "bi7JkRAFntSr",
        "outputId": "9a30a2b3-3082-4f3b-e6ff-a3680ac56fd0"
      },
      "outputs": [
        {
          "output_type": "execute_result",
          "data": {
            "text/plain": [
              "         _____________________________________________________________________\n",
              "        ╱                  2                            2                     \n",
              "-r₀ + ╲╱  (r₀⋅sin(θ₀) - zₐ)  + (r₀⋅sin(φ₀)⋅cos(θ₀) - xₐ)  + (r₀⋅cos(φ₀)⋅cos(θ₀\n",
              "\n",
              "_________\n",
              "       2 \n",
              ") - yₐ)  "
            ],
            "text/latex": "$\\displaystyle - r_{0} + \\sqrt{\\left(r_{0} \\sin{\\left(\\theta_{0} \\right)} - z_{a}\\right)^{2} + \\left(r_{0} \\sin{\\left(\\phi_{0} \\right)} \\cos{\\left(\\theta_{0} \\right)} - x_{a}\\right)^{2} + \\left(r_{0} \\cos{\\left(\\phi_{0} \\right)} \\cos{\\left(\\theta_{0} \\right)} - y_{a}\\right)^{2}}$"
          },
          "metadata": {},
          "execution_count": 10
        }
      ],
      "source": [
        "dr = sp.simplify(r - r_0)\n",
        "dr"
      ]
    },
    {
      "cell_type": "code",
      "execution_count": 11,
      "metadata": {
        "collapsed": true,
        "id": "72a7trA7ntSr"
      },
      "outputs": [],
      "source": [
        "#r = sp.Symbol('r', real=True, positive=True)\n",
        "el = sp.simplify(sp.asin(z/r))\n",
        "az = sp.simplify(sp.acos(y / (r*sp.cos(el))))"
      ]
    },
    {
      "cell_type": "code",
      "execution_count": 12,
      "metadata": {
        "colab": {
          "base_uri": "https://localhost:8080/",
          "height": 81
        },
        "id": "PqlstngOntSr",
        "outputId": "fffc72a9-3e12-4b20-8a8a-bb5eac119bba"
      },
      "outputs": [
        {
          "output_type": "execute_result",
          "data": {
            "text/plain": [
              "    ⎛                                 r₀⋅sin(θ₀) - zₐ                         \n",
              "asin⎜─────────────────────────────────────────────────────────────────────────\n",
              "    ⎜   ______________________________________________________________________\n",
              "    ⎜  ╱                  2                            2                      \n",
              "    ⎝╲╱  (r₀⋅sin(θ₀) - zₐ)  + (r₀⋅sin(φ₀)⋅cos(θ₀) - xₐ)  + (r₀⋅cos(φ₀)⋅cos(θ₀)\n",
              "\n",
              "        ⎞\n",
              "────────⎟\n",
              "________⎟\n",
              "      2 ⎟\n",
              " - yₐ)  ⎠"
            ],
            "text/latex": "$\\displaystyle \\operatorname{asin}{\\left(\\frac{r_{0} \\sin{\\left(\\theta_{0} \\right)} - z_{a}}{\\sqrt{\\left(r_{0} \\sin{\\left(\\theta_{0} \\right)} - z_{a}\\right)^{2} + \\left(r_{0} \\sin{\\left(\\phi_{0} \\right)} \\cos{\\left(\\theta_{0} \\right)} - x_{a}\\right)^{2} + \\left(r_{0} \\cos{\\left(\\phi_{0} \\right)} \\cos{\\left(\\theta_{0} \\right)} - y_{a}\\right)^{2}}} \\right)}$"
          },
          "metadata": {},
          "execution_count": 12
        }
      ],
      "source": [
        "el"
      ]
    },
    {
      "cell_type": "code",
      "execution_count": 13,
      "metadata": {
        "colab": {
          "base_uri": "https://localhost:8080/",
          "height": 81
        },
        "id": "TEsJheXpntSs",
        "outputId": "8c42cc4a-031e-4118-a6bd-cc5d9c077299"
      },
      "outputs": [
        {
          "output_type": "execute_result",
          "data": {
            "text/plain": [
              "    ⎛                  r₀⋅cos(φ₀)⋅cos(θ₀) - yₐ                   ⎞\n",
              "acos⎜────────────────────────────────────────────────────────────⎟\n",
              "    ⎜   _________________________________________________________⎟\n",
              "    ⎜  ╱                          2                            2 ⎟\n",
              "    ⎝╲╱  (r₀⋅sin(φ₀)⋅cos(θ₀) - xₐ)  + (r₀⋅cos(φ₀)⋅cos(θ₀) - yₐ)  ⎠"
            ],
            "text/latex": "$\\displaystyle \\operatorname{acos}{\\left(\\frac{r_{0} \\cos{\\left(\\phi_{0} \\right)} \\cos{\\left(\\theta_{0} \\right)} - y_{a}}{\\sqrt{\\left(r_{0} \\sin{\\left(\\phi_{0} \\right)} \\cos{\\left(\\theta_{0} \\right)} - x_{a}\\right)^{2} + \\left(r_{0} \\cos{\\left(\\phi_{0} \\right)} \\cos{\\left(\\theta_{0} \\right)} - y_{a}\\right)^{2}}} \\right)}$"
          },
          "metadata": {},
          "execution_count": 13
        }
      ],
      "source": [
        "az"
      ]
    },
    {
      "cell_type": "code",
      "execution_count": 14,
      "metadata": {
        "colab": {
          "base_uri": "https://localhost:8080/"
        },
        "id": "3SaiSn4qntSs",
        "outputId": "4a376924-0941-412b-83cf-320ffb9a1b84"
      },
      "outputs": [
        {
          "output_type": "stream",
          "name": "stdout",
          "text": [
            "r_0 = Symbol('r_0')\n",
            "theta_0 = Symbol('theta_0')\n",
            "z_a = Symbol('z_a')\n",
            "phi_0 = Symbol('phi_0')\n",
            "x_a = Symbol('x_a')\n",
            "y_a = Symbol('y_a')\n",
            "e = asin((r_0*sin(theta_0) - z_a)/sqrt((r_0*sin(theta_0) - z_a)**2 + (r_0*sin(phi_0)*cos(theta_0) - x_a)**2 + (r_0*cos(phi_0)*cos(theta_0) - y_a)**2))\n"
          ]
        }
      ],
      "source": [
        "print(sp.python(el))"
      ]
    },
    {
      "cell_type": "code",
      "execution_count": 15,
      "metadata": {
        "colab": {
          "base_uri": "https://localhost:8080/"
        },
        "id": "EK8oCUrPntSs",
        "outputId": "433acf61-572c-4168-98ff-688876ba3501"
      },
      "outputs": [
        {
          "output_type": "stream",
          "name": "stdout",
          "text": [
            "r_0 = Symbol('r_0')\n",
            "phi_0 = Symbol('phi_0')\n",
            "theta_0 = Symbol('theta_0')\n",
            "y_a = Symbol('y_a')\n",
            "x_a = Symbol('x_a')\n",
            "e = acos((r_0*cos(phi_0)*cos(theta_0) - y_a)/sqrt((r_0*sin(phi_0)*cos(theta_0) - x_a)**2 + (r_0*cos(phi_0)*cos(theta_0) - y_a)**2))\n"
          ]
        }
      ],
      "source": [
        "print(sp.python(az))"
      ]
    },
    {
      "cell_type": "code",
      "execution_count": 15,
      "metadata": {
        "collapsed": true,
        "id": "J1YSKZCpntSs"
      },
      "outputs": [],
      "source": []
    }
  ],
  "metadata": {
    "kernelspec": {
      "display_name": "Python 3",
      "language": "python",
      "name": "python3"
    },
    "language_info": {
      "codemirror_mode": {
        "name": "ipython",
        "version": 3
      },
      "file_extension": ".py",
      "mimetype": "text/x-python",
      "name": "python",
      "nbconvert_exporter": "python",
      "pygments_lexer": "ipython3",
      "version": "3.5.4rc1"
    },
    "colab": {
      "provenance": [],
      "toc_visible": true,
      "include_colab_link": true
    }
  },
  "nbformat": 4,
  "nbformat_minor": 0
}