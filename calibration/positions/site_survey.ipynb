{
  "cells": [
    {
      "cell_type": "markdown",
      "metadata": {
        "id": "view-in-github",
        "colab_type": "text"
      },
      "source": [
        "<a href=\"https://colab.research.google.com/github/rubyvanrooyen/notebooks/blob/main/calibration/positions/site_survey.ipynb\" target=\"_parent\"><img src=\"https://colab.research.google.com/assets/colab-badge.svg\" alt=\"Open In Colab\"/></a>"
      ]
    },
    {
      "cell_type": "markdown",
      "metadata": {
        "id": "Ajbb7RoquBFy"
      },
      "source": [
        "# Antenna Position Measurement\n",
        "\n",
        "Author: Tim Molteno. tim@elec.ac.nz.\n",
        "\n",
        "The antennas are laid out on tiles, and these tiles are placed on site. Once this is done, a survey is needed to refine the positions of each antenna in the array.\n",
        "\n",
        "Three reference posts are placed. The first is at the centre of the array, the second approximately 2.5 meters due north. The first and second post defines the $y$ axis. The third post is placed approximately 2.5 meters east of the centre, and reasonably close to at right angles to the $y$ axis.\n",
        "\n",
        "The first reference point, x0, has coordinates (0,0). The second reference point, x1, has coordinates (0, y) and the third is not known, but must be established by measurement.\n",
        "\n",
        "All measurements are made from the height of the antennas on the reference points."
      ]
    },
    {
      "cell_type": "code",
      "execution_count": 1,
      "metadata": {
        "id": "yzKmerHruBF2"
      },
      "outputs": [],
      "source": [
        "import numpy as np\n",
        "from scipy.optimize import minimize "
      ]
    },
    {
      "cell_type": "code",
      "execution_count": 2,
      "metadata": {
        "id": "MAsxQH3suBF3"
      },
      "outputs": [],
      "source": [
        "x0 = [0,0]\n",
        "x1 = [0, 2209]"
      ]
    },
    {
      "cell_type": "markdown",
      "metadata": {
        "id": "3tb3-X2vuBF4"
      },
      "source": [
        "### Locating the third reference point\n",
        "\n",
        "The distances from reference point 2 to the other two reference points (0,1) are measured (in mm)"
      ]
    },
    {
      "cell_type": "code",
      "execution_count": 3,
      "metadata": {
        "id": "2GgpSXDBuBF4"
      },
      "outputs": [],
      "source": [
        "d_0_2 = 2047\n",
        "d_1_2 = 3020"
      ]
    },
    {
      "cell_type": "markdown",
      "metadata": {
        "id": "zCwuLvy-uBF5"
      },
      "source": [
        "Now a least squares estimator is used to work out the x-y coordinates of the third reference point (x2)"
      ]
    },
    {
      "cell_type": "code",
      "execution_count": 4,
      "metadata": {
        "id": "krI8Vr22uBF5"
      },
      "outputs": [],
      "source": [
        "def dist(a,b):\n",
        "    return np.sqrt((a[0]-b[0])**2 + (a[1]-b[1])**2)\n",
        "\n",
        "def f(x):\n",
        "    return (dist(x0, x) - d_0_2)**2 + (dist(x1, x) - d_1_2)**2\n",
        "\n",
        "initial_guess = [2047, 0]\n",
        "res = minimize(f, initial_guess)\n",
        "x2 = res.x"
      ]
    },
    {
      "cell_type": "code",
      "execution_count": 5,
      "metadata": {
        "colab": {
          "base_uri": "https://localhost:8080/"
        },
        "id": "Q8ZpfqOduBF6",
        "outputId": "9b232597-deed-4aae-95da-9be6ba937a31"
      },
      "outputs": [
        {
          "output_type": "execute_result",
          "data": {
            "text/plain": [
              "[[0, 2209], [0, 0], array([2046.96807079,  -11.43277996])]"
            ]
          },
          "metadata": {},
          "execution_count": 5
        }
      ],
      "source": [
        "reference_points = [x1, x0, x2]\n",
        "reference_points"
      ]
    },
    {
      "cell_type": "markdown",
      "metadata": {
        "id": "zQmfJR6XuBF7"
      },
      "source": [
        "## Finding the antennas\n",
        "\n",
        "This is done by measuring the distance from each antenna to the three reference points x0, x1 and x2."
      ]
    },
    {
      "cell_type": "code",
      "execution_count": 6,
      "metadata": {
        "id": "582vGPhduBF8"
      },
      "outputs": [],
      "source": [
        "n_ant = 24\n",
        "m = np.zeros((24,3))"
      ]
    },
    {
      "cell_type": "markdown",
      "metadata": {
        "id": "005l5jxTuBF9"
      },
      "source": [
        "The following are the measured distances from [x1, x0, x2] from the reference points in millimeters. Note that their order must be the same as the order of the variable called 'reference_points'. In this case, they are x1,x0,x2."
      ]
    },
    {
      "cell_type": "code",
      "execution_count": 7,
      "metadata": {
        "id": "w7EeMpgVuBF9"
      },
      "outputs": [],
      "source": [
        "m[0,:] = [1563, 855, 2618]\n",
        "m[1,:] = [1407, 825, 2355]\n",
        "m[2,:] = [1750, 765, 2644]\n",
        "m[3,:] = [839, 1373, 2416]\n",
        "m[4,:] = [1151, 1422, 2986]\n",
        "m[5,:] = [842, 1410, 2662]\n",
        "m[6,:] = [2527, 1119, 929]\n",
        "m[7,:] = [2274, 1200, 915]\n",
        "m[8,:] = [2715, 1261, 824]\n",
        "m[9,:] = [1684, 1064, 1457]\n",
        "m[10,:] = [2238, 546, 1501]\n",
        "m[11,:] = [1834, 805, 1493]\n",
        "m[12,:] = [3320, 1111, 2370]\n",
        "m[13,:] = [3385, 1192, 2131]\n",
        "m[14,:] = [3446, 1247, 2555]\n",
        "m[15,:] = [3063, 1048, 1531]\n",
        "m[16,:] = [2760, 550, 2096]\n",
        "m[17,:] = [2873, 784, 1689]\n",
        "m[18,:] = [2342, 934, 2979]\n",
        "m[19,:] = [2638, 1142, 3179]\n",
        "m[20,:] = [2186, 993, 3020]\n",
        "m[21,:] = [3130, 1260, 3140]\n",
        "m[22,:] = [2545, 565, 2544]\n",
        "m[23,:] = [2942, 1000, 2891]"
      ]
    },
    {
      "cell_type": "markdown",
      "metadata": {
        "id": "6LEX8_ghuBF9"
      },
      "source": [
        "## Plot the Initial Guess Points\n",
        "\n",
        "Initial Guesses are from JSON queried from the telescope API. These are converted to millimeters."
      ]
    },
    {
      "cell_type": "code",
      "execution_count": 8,
      "metadata": {
        "scrolled": true,
        "colab": {
          "base_uri": "https://localhost:8080/"
        },
        "id": "CjSe3Z2QuBF-",
        "outputId": "62cd3a7d-7a21-4caa-fbe7-157831ccfe61"
      },
      "outputs": [
        {
          "output_type": "execute_result",
          "data": {
            "text/plain": [
              "array([[-0.19674923,  0.8327471 ,  0.        ],\n",
              "       [ 0.12360839,  0.81634611,  0.        ],\n",
              "       [-0.32211461,  0.69399004,  0.        ],\n",
              "       [ 0.52649161,  1.26867907,  0.        ],\n",
              "       [-0.18824296,  1.40887352,  0.        ],\n",
              "       [ 0.27140589,  1.38381496,  0.        ],\n",
              "       [ 1.03271756, -0.43205027,  0.        ],\n",
              "       [ 1.19082671, -0.15203867,  0.        ],\n",
              "       [ 1.10280415, -0.61241898,  0.        ],\n",
              "       [ 0.98202905,  0.41085878,  0.        ],\n",
              "       [ 0.52663466, -0.14905009,  0.        ],\n",
              "       [ 0.76807691,  0.24445422,  0.        ],\n",
              "       [-0.42557857, -1.02654366,  0.        ],\n",
              "       [-0.15437422, -1.1825475 ,  0.        ],\n",
              "       [-0.60297545, -1.09132287,  0.        ],\n",
              "       [ 0.41284895, -0.96467857,  0.        ],\n",
              "       [-0.16640058, -0.5246445 ,  0.        ],\n",
              "       [ 0.23353475, -0.74820821,  0.        ],\n",
              "       [-0.85668069,  0.37191691,  0.        ],\n",
              "       [-1.12099191,  0.21618772,  0.        ],\n",
              "       [-0.82195367,  0.5570926 ,  0.        ],\n",
              "       [-1.20156723, -0.37121045,  0.        ],\n",
              "       [-0.55264882, -0.10939964,  0.        ],\n",
              "       [-0.94464103, -0.32759934,  0.        ]])"
            ]
          },
          "metadata": {},
          "execution_count": 8
        }
      ],
      "source": [
        "import requests\n",
        "import json\n",
        "\n",
        "pos_url = \"https://tart.elec.ac.nz/signal/api/v1/imaging/antenna_positions\"\n",
        "\n",
        "def get_data(path):\n",
        "    server = \"https://tart.elec.ac.nz/signal\"\n",
        "\n",
        "    r = requests.get('{}/{}'.format(server, path))\n",
        "    return json.loads(r.text)\n",
        "\n",
        "def get_pos():\n",
        "    return np.array(get_data('api/v1/imaging/antenna_positions'))\n",
        "\n",
        "current_pos = get_pos()\n",
        "current_pos\n"
      ]
    },
    {
      "cell_type": "code",
      "execution_count": 9,
      "metadata": {
        "colab": {
          "base_uri": "https://localhost:8080/",
          "height": 269
        },
        "id": "EbS6A-HGuBF-",
        "outputId": "b11dae81-1945-4e9f-ce79-9a384bb18da5"
      },
      "outputs": [
        {
          "output_type": "display_data",
          "data": {
            "text/plain": [
              "<Figure size 432x288 with 1 Axes>"
            ],
            "image/png": "[encoded data removed]"
          },
          "metadata": {
            "needs_background": "light"
          }
        }
      ],
      "source": [
        "initial_guess = np.zeros(2*n_ant)\n",
        "\n",
        "for i in range(n_ant):\n",
        "    initial_guess[2*i:2*i+2] = current_pos[i][0:2]*1000\n",
        "    #print(current_pos[i][0:2]*1000)\n",
        "initial_guess\n",
        "\n",
        "pos_i = current_pos*1000\n",
        "import matplotlib.pyplot as plt\n",
        "plt.scatter(pos_i[:,0], pos_i[:,1])\n",
        "plt.xlim(-2000,2000)\n",
        "plt.ylim(-2000,2000)\n",
        "plt.show()"
      ]
    },
    {
      "cell_type": "markdown",
      "metadata": {
        "id": "Bh_LhwlPuBF_"
      },
      "source": [
        "## Criteria for Optimality\n",
        "\n",
        "The function below is minimized when the positions (in variable x) are consistent with the measured distances m[i,j]. The initial value of this function is more than 3 million.\n",
        "\n",
        "Note that the x input is a 1D vector of with 48 entries as [p0.x, p0.y, p1.x, p1.y]"
      ]
    },
    {
      "cell_type": "code",
      "execution_count": 10,
      "metadata": {
        "colab": {
          "base_uri": "https://localhost:8080/"
        },
        "id": "w3ibcFOouBF_",
        "outputId": "0c5b7e77-54aa-45fa-ff72-4f3898a4756c"
      },
      "outputs": [
        {
          "output_type": "stream",
          "name": "stdout",
          "text": [
            "2802680.2420234215\n"
          ]
        },
        {
          "output_type": "execute_result",
          "data": {
            "text/plain": [
              "      fun: 32.160056269716144\n",
              " hess_inv: array([[ 0.60638175,  0.01882902,  0.62338932, ...,  0.03140986,\n",
              "        -0.05278726,  0.13546687],\n",
              "       [ 0.01882902,  0.13862707,  0.00138972, ...,  0.00456083,\n",
              "         0.0081251 ,  0.05275801],\n",
              "       [ 0.62338932,  0.00138972,  0.96670481, ..., -0.01449169,\n",
              "        -0.02947022,  0.18596725],\n",
              "       ...,\n",
              "       [ 0.03140986,  0.00456083, -0.01449169, ...,  0.0489794 ,\n",
              "        -0.03177421,  0.01337536],\n",
              "       [-0.05278726,  0.0081251 , -0.02947022, ..., -0.03177421,\n",
              "         0.64014899, -0.17006249],\n",
              "       [ 0.13546687,  0.05275801,  0.18596725, ...,  0.01337536,\n",
              "        -0.17006249,  0.73152672]])\n",
              "      jac: array([ 1.28746033e-05,  2.43186951e-05,  7.15255737e-06, -2.86102295e-06,\n",
              "        2.86102295e-06, -4.76837158e-07,  2.05039978e-05,  1.14440918e-05,\n",
              "       -6.19888306e-06, -8.10623169e-06, -1.19209290e-05,  1.90734863e-06,\n",
              "       -1.04904175e-05,  1.38282776e-05,  5.24520874e-06, -4.29153442e-06,\n",
              "        1.90734863e-06,  8.58306885e-06,  9.53674316e-06,  1.76429749e-05,\n",
              "        1.57356262e-05,  7.62939453e-06,  4.57763672e-05,  4.76837158e-06,\n",
              "        2.71797180e-05, -4.76837158e-07,  2.05039978e-05, -2.19345093e-05,\n",
              "       -3.33786011e-06,  3.33786011e-06, -5.86509705e-05, -3.05175781e-05,\n",
              "        6.19888306e-06, -8.58306885e-06,  4.29153442e-06,  0.00000000e+00,\n",
              "       -2.05039978e-05, -3.19480896e-05,  1.00135803e-05, -1.71661377e-05,\n",
              "        1.90734863e-06,  2.86102295e-06,  6.53266907e-05,  7.91549683e-05,\n",
              "        1.90734863e-05,  2.24113464e-05,  3.33786011e-06,  5.24520874e-06])\n",
              "  message: 'Desired error not necessarily achieved due to precision loss.'\n",
              "     nfev: 6676\n",
              "      nit: 53\n",
              "     njev: 136\n",
              "   status: 2\n",
              "  success: False\n",
              "        x: array([ -467.10643826,   716.9550055 ,  -159.71634102,   810.30413186,\n",
              "        -538.08115916,   543.77684602,    66.14023184,  1371.98030738,\n",
              "        -654.13108966,  1262.21216517,  -213.47586172,  1394.16821167,\n",
              "        1118.33584819,   -56.97044426,  1172.17167449,   259.8430335 ,\n",
              "        1245.11385453,  -203.38198941,   785.23723729,   718.53157754,\n",
              "         545.70924561,    38.43417664,   639.76701378,   489.53626085,\n",
              "         -52.94193089, -1110.1618374 ,   255.23265979, -1165.3372358 ,\n",
              "        -198.03723623, -1231.24224862,   715.13335728,  -767.93746495,\n",
              "          21.38590242,  -550.24834807,   473.34891759,  -624.84387166,\n",
              "        -931.61343963,    60.28626856, -1128.08558383,  -175.67239647,\n",
              "        -962.03105662,   246.06998259, -1004.91354223,  -756.39666868,\n",
              "        -482.86815633,  -290.44618683,  -777.54828073,  -628.49753842])"
            ]
          },
          "metadata": {},
          "execution_count": 10
        }
      ],
      "source": [
        "def f(x):\n",
        "    ret = 0\n",
        "    for i in range(n_ant):\n",
        "        for j in range(3):\n",
        "            p = [x[2*i],x[2*i+1]]\n",
        "            ret += (dist(reference_points[j], p) - m[i,j])**2\n",
        "    return ret\n",
        "\n",
        "print(f(initial_guess))\n",
        "res = minimize(f, initial_guess)\n",
        "res"
      ]
    },
    {
      "cell_type": "markdown",
      "metadata": {
        "id": "TrygLzowuBF_"
      },
      "source": [
        "The optimized positions are now known. The final value of the function is 32. Far closer to zero than 3 million!\n",
        "\n",
        "We can recover the x,y coordinates by reshaping the array"
      ]
    },
    {
      "cell_type": "code",
      "execution_count": 11,
      "metadata": {
        "colab": {
          "base_uri": "https://localhost:8080/"
        },
        "id": "oQWIlUHeuBGA",
        "outputId": "fd9b2896-40c1-44ad-8476-720c9e086e26"
      },
      "outputs": [
        {
          "output_type": "execute_result",
          "data": {
            "text/plain": [
              "array([[ -467.10643826,   716.9550055 ],\n",
              "       [ -159.71634102,   810.30413186],\n",
              "       [ -538.08115916,   543.77684602],\n",
              "       [   66.14023184,  1371.98030738],\n",
              "       [ -654.13108966,  1262.21216517],\n",
              "       [ -213.47586172,  1394.16821167],\n",
              "       [ 1118.33584819,   -56.97044426],\n",
              "       [ 1172.17167449,   259.8430335 ],\n",
              "       [ 1245.11385453,  -203.38198941],\n",
              "       [  785.23723729,   718.53157754],\n",
              "       [  545.70924561,    38.43417664],\n",
              "       [  639.76701378,   489.53626085],\n",
              "       [  -52.94193089, -1110.1618374 ],\n",
              "       [  255.23265979, -1165.3372358 ],\n",
              "       [ -198.03723623, -1231.24224862],\n",
              "       [  715.13335728,  -767.93746495],\n",
              "       [   21.38590242,  -550.24834807],\n",
              "       [  473.34891759,  -624.84387166],\n",
              "       [ -931.61343963,    60.28626856],\n",
              "       [-1128.08558383,  -175.67239647],\n",
              "       [ -962.03105662,   246.06998259],\n",
              "       [-1004.91354223,  -756.39666868],\n",
              "       [ -482.86815633,  -290.44618683],\n",
              "       [ -777.54828073,  -628.49753842]])"
            ]
          },
          "metadata": {},
          "execution_count": 11
        }
      ],
      "source": [
        "pos = res.x.reshape((24,2))\n",
        "pos"
      ]
    },
    {
      "cell_type": "code",
      "execution_count": 12,
      "metadata": {
        "colab": {
          "base_uri": "https://localhost:8080/",
          "height": 269
        },
        "id": "OWk7M6VCuBGA",
        "outputId": "682be514-1ad1-4c8a-e336-cd829be14c37"
      },
      "outputs": [
        {
          "output_type": "display_data",
          "data": {
            "text/plain": [
              "<Figure size 432x288 with 1 Axes>"
            ],
            "image/png": "[encoded data removed]"
          },
          "metadata": {
            "needs_background": "light"
          }
        }
      ],
      "source": [
        "plt.scatter(pos[:,0], pos[:,1], color='red')\n",
        "plt.scatter(pos_i[:,0], pos_i[:,1], color='blue')\n",
        "\n",
        "plt.xlim(-2000,2000)\n",
        "plt.ylim(-2000,2000)\n",
        "plt.grid(True)\n",
        "plt.show()"
      ]
    },
    {
      "cell_type": "markdown",
      "metadata": {
        "id": "bvhVVfhcuBGA"
      },
      "source": [
        "The API expects 3D coordinates (with a z value which is zero in this case). Therefore we add a column of zeros."
      ]
    },
    {
      "cell_type": "code",
      "execution_count": 13,
      "metadata": {
        "colab": {
          "base_uri": "https://localhost:8080/"
        },
        "id": "suxEvhK2uBGB",
        "outputId": "9b745490-1b86-41e0-eec6-f7d41c85efa3"
      },
      "outputs": [
        {
          "output_type": "execute_result",
          "data": {
            "text/plain": [
              "array([[-0.467,  0.717,  0.   ],\n",
              "       [-0.16 ,  0.81 ,  0.   ],\n",
              "       [-0.538,  0.544,  0.   ],\n",
              "       [ 0.066,  1.372,  0.   ],\n",
              "       [-0.654,  1.262,  0.   ],\n",
              "       [-0.213,  1.394,  0.   ],\n",
              "       [ 1.118, -0.057,  0.   ],\n",
              "       [ 1.172,  0.26 ,  0.   ],\n",
              "       [ 1.245, -0.203,  0.   ],\n",
              "       [ 0.785,  0.719,  0.   ],\n",
              "       [ 0.546,  0.038,  0.   ],\n",
              "       [ 0.64 ,  0.49 ,  0.   ],\n",
              "       [-0.053, -1.11 ,  0.   ],\n",
              "       [ 0.255, -1.165,  0.   ],\n",
              "       [-0.198, -1.231,  0.   ],\n",
              "       [ 0.715, -0.768,  0.   ],\n",
              "       [ 0.021, -0.55 ,  0.   ],\n",
              "       [ 0.473, -0.625,  0.   ],\n",
              "       [-0.932,  0.06 ,  0.   ],\n",
              "       [-1.128, -0.176,  0.   ],\n",
              "       [-0.962,  0.246,  0.   ],\n",
              "       [-1.005, -0.756,  0.   ],\n",
              "       [-0.483, -0.29 ,  0.   ],\n",
              "       [-0.778, -0.628,  0.   ]])"
            ]
          },
          "metadata": {},
          "execution_count": 13
        }
      ],
      "source": [
        "result = np.zeros((n_ant, 3))\n",
        "result[:,:-1] = np.round(pos/1000.0, 3)\n",
        "result"
      ]
    },
    {
      "cell_type": "code",
      "execution_count": 14,
      "metadata": {
        "colab": {
          "base_uri": "https://localhost:8080/"
        },
        "id": "5EgDFH3IuBGB",
        "outputId": "8689bd0b-0c61-40b4-eaa5-0077f9c1e3d6"
      },
      "outputs": [
        {
          "output_type": "stream",
          "name": "stdout",
          "text": [
            "{\n",
            "    \"antenna_positions\": [\n",
            "        [\n",
            "            -0.467,\n",
            "            0.717,\n",
            "            0.0\n",
            "        ],\n",
            "        [\n",
            "            -0.16,\n",
            "            0.81,\n",
            "            0.0\n",
            "        ],\n",
            "        [\n",
            "            -0.538,\n",
            "            0.544,\n",
            "            0.0\n",
            "        ],\n",
            "        [\n",
            "            0.066,\n",
            "            1.372,\n",
            "            0.0\n",
            "        ],\n",
            "        [\n",
            "            -0.654,\n",
            "            1.262,\n",
            "            0.0\n",
            "        ],\n",
            "        [\n",
            "            -0.213,\n",
            "            1.394,\n",
            "            0.0\n",
            "        ],\n",
            "        [\n",
            "            1.118,\n",
            "            -0.057,\n",
            "            0.0\n",
            "        ],\n",
            "        [\n",
            "            1.172,\n",
            "            0.26,\n",
            "            0.0\n",
            "        ],\n",
            "        [\n",
            "            1.245,\n",
            "            -0.203,\n",
            "            0.0\n",
            "        ],\n",
            "        [\n",
            "            0.785,\n",
            "            0.719,\n",
            "            0.0\n",
            "        ],\n",
            "        [\n",
            "            0.546,\n",
            "            0.038,\n",
            "            0.0\n",
            "        ],\n",
            "        [\n",
            "            0.64,\n",
            "            0.49,\n",
            "            0.0\n",
            "        ],\n",
            "        [\n",
            "            -0.053,\n",
            "            -1.11,\n",
            "            0.0\n",
            "        ],\n",
            "        [\n",
            "            0.255,\n",
            "            -1.165,\n",
            "            0.0\n",
            "        ],\n",
            "        [\n",
            "            -0.198,\n",
            "            -1.231,\n",
            "            0.0\n",
            "        ],\n",
            "        [\n",
            "            0.715,\n",
            "            -0.768,\n",
            "            0.0\n",
            "        ],\n",
            "        [\n",
            "            0.021,\n",
            "            -0.55,\n",
            "            0.0\n",
            "        ],\n",
            "        [\n",
            "            0.473,\n",
            "            -0.625,\n",
            "            0.0\n",
            "        ],\n",
            "        [\n",
            "            -0.932,\n",
            "            0.06,\n",
            "            0.0\n",
            "        ],\n",
            "        [\n",
            "            -1.128,\n",
            "            -0.176,\n",
            "            0.0\n",
            "        ],\n",
            "        [\n",
            "            -0.962,\n",
            "            0.246,\n",
            "            0.0\n",
            "        ],\n",
            "        [\n",
            "            -1.005,\n",
            "            -0.756,\n",
            "            0.0\n",
            "        ],\n",
            "        [\n",
            "            -0.483,\n",
            "            -0.29,\n",
            "            0.0\n",
            "        ],\n",
            "        [\n",
            "            -0.778,\n",
            "            -0.628,\n",
            "            0.0\n",
            "        ]\n",
            "    ]\n",
            "}\n"
          ]
        }
      ],
      "source": [
        "json_result = {}\n",
        "json_result[\"antenna_positions\"] = result.tolist()\n",
        "print(json.dumps(json_result, indent=4, separators=(',', ': ')))"
      ]
    },
    {
      "cell_type": "markdown",
      "metadata": {
        "collapsed": true,
        "id": "h8_fslL2uBGB"
      },
      "source": [
        "The position file above is in a format suitable for uploading to the telescope api. Also for using as the calibrated_antenna_positions.json file in TART/software/containers/telescope_web_api/config_data."
      ]
    }
  ],
  "metadata": {
    "kernelspec": {
      "display_name": "Python 3",
      "language": "python",
      "name": "python3"
    },
    "language_info": {
      "codemirror_mode": {
        "name": "ipython",
        "version": 3
      },
      "file_extension": ".py",
      "mimetype": "text/x-python",
      "name": "python",
      "nbconvert_exporter": "python",
      "pygments_lexer": "ipython3",
      "version": "3.7.2+"
    },
    "colab": {
      "provenance": [],
      "toc_visible": true,
      "include_colab_link": true
    }
  },
  "nbformat": 4,
  "nbformat_minor": 0
}