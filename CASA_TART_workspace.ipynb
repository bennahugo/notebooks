{
  "nbformat": 4,
  "nbformat_minor": 0,
  "metadata": {
    "colab": {
      "name": "CASA_TART_workspace.ipynb",
      "provenance": [],
      "authorship_tag": "ABX9TyPHdAI7Qj4L6NQxM1ehTwCe",
      "include_colab_link": true
    },
    "kernelspec": {
      "name": "python3",
      "display_name": "Python 3"
    },
    "language_info": {
      "name": "python"
    },
    "gpuClass": "standard"
  },
  "cells": [
    {
      "cell_type": "markdown",
      "metadata": {
        "id": "view-in-github",
        "colab_type": "text"
      },
      "source": [
        "<a href=\"https://colab.research.google.com/github/rubyvanrooyen/notebooks/blob/main/CASA_TART_workspace.ipynb\" target=\"_parent\"><img src=\"https://colab.research.google.com/assets/colab-badge.svg\" alt=\"Open In Colab\"/></a>"
      ]
    },
    {
      "cell_type": "markdown",
      "source": [
        "# CASA workspace installation\n",
        "\n",
        "Note: Google Colab upgrades it's default python for the runtime environment sporadically.\n",
        "Keep an eye on the current python version, check if a wheel exists for `casatools` and `casatasks`.\n",
        "Generally CASA provide good instructions for installing pre-release versions if not wheel is available.\n",
        "\n",
        "See if a wheel exist for casatools installation    \n",
        "https://casa.nrao.edu/casa_obtaining.shtml and        \n",
        "https://casa.nrao.edu/casadocs/latest/usingcasa/obtaining-and-installing\n",
        "\n",
        "All pip wheels for casatools and casatasks are available from the public PyPI server https://casa-pip.nrao.edu/\n",
        "\n",
        "If a wheel exists for this version of python, add the code block as per example\n",
        "```\n",
        "!pip install --index-url https://casa-pip.nrao.edu/repository/pypi-casa-release/simple casaplotms==1.6.2\n",
        "```"
      ],
      "metadata": {
        "id": "yNbAWXu39hGd"
      }
    },
    {
      "cell_type": "code",
      "source": [
        "# check current python version\n",
        "!python --version"
      ],
      "metadata": {
        "colab": {
          "base_uri": "https://localhost:8080/"
        },
        "id": "QrDgj4t2-nXS",
        "outputId": "ed7d05b1-8770-4448-aac4-b3c8cd72f2c8"
      },
      "execution_count": 1,
      "outputs": [
        {
          "output_type": "stream",
          "name": "stdout",
          "text": [
            "Python 3.7.13\n"
          ]
        }
      ]
    },
    {
      "cell_type": "code",
      "source": [
        "#installing pre-requisite packages...\n",
        "!apt-get install -y libgfortran3"
      ],
      "metadata": {
        "colab": {
          "base_uri": "https://localhost:8080/"
        },
        "id": "tJrmqukV-8zm",
        "outputId": "1e9432f7-46dc-479a-e52a-0e3763698ff6"
      },
      "execution_count": 2,
      "outputs": [
        {
          "output_type": "stream",
          "name": "stdout",
          "text": [
            "Reading package lists... Done\n",
            "Building dependency tree       \n",
            "Reading state information... Done\n",
            "The following package was automatically installed and is no longer required:\n",
            "  libnvidia-common-460\n",
            "Use 'apt autoremove' to remove it.\n",
            "The following additional packages will be installed:\n",
            "  gcc-6-base\n",
            "The following NEW packages will be installed:\n",
            "  gcc-6-base libgfortran3\n",
            "0 upgraded, 2 newly installed, 0 to remove and 19 not upgraded.\n",
            "Need to get 286 kB of archives.\n",
            "After this operation, 1,394 kB of additional disk space will be used.\n",
            "Get:1 http://archive.ubuntu.com/ubuntu bionic-updates/universe amd64 gcc-6-base amd64 6.5.0-2ubuntu1~18.04 [16.7 kB]\n",
            "Get:2 http://archive.ubuntu.com/ubuntu bionic-updates/universe amd64 libgfortran3 amd64 6.5.0-2ubuntu1~18.04 [270 kB]\n",
            "Fetched 286 kB in 0s (3,076 kB/s)\n",
            "Selecting previously unselected package gcc-6-base:amd64.\n",
            "(Reading database ... 155680 files and directories currently installed.)\n",
            "Preparing to unpack .../gcc-6-base_6.5.0-2ubuntu1~18.04_amd64.deb ...\n",
            "Unpacking gcc-6-base:amd64 (6.5.0-2ubuntu1~18.04) ...\n",
            "Selecting previously unselected package libgfortran3:amd64.\n",
            "Preparing to unpack .../libgfortran3_6.5.0-2ubuntu1~18.04_amd64.deb ...\n",
            "Unpacking libgfortran3:amd64 (6.5.0-2ubuntu1~18.04) ...\n",
            "Setting up gcc-6-base:amd64 (6.5.0-2ubuntu1~18.04) ...\n",
            "Setting up libgfortran3:amd64 (6.5.0-2ubuntu1~18.04) ...\n",
            "Processing triggers for libc-bin (2.27-3ubuntu1.5) ...\n"
          ]
        }
      ]
    },
    {
      "cell_type": "code",
      "source": [
        "!pip install --upgrade pip wheel"
      ],
      "metadata": {
        "colab": {
          "base_uri": "https://localhost:8080/"
        },
        "id": "d9X42Qa4_7ur",
        "outputId": "038c4ede-15db-4bcf-d1b0-c107ef622ddb"
      },
      "execution_count": 3,
      "outputs": [
        {
          "output_type": "stream",
          "name": "stdout",
          "text": [
            "Looking in indexes: https://pypi.org/simple, https://us-python.pkg.dev/colab-wheels/public/simple/\n",
            "Requirement already satisfied: pip in /usr/local/lib/python3.7/dist-packages (21.1.3)\n",
            "Collecting pip\n",
            "  Downloading pip-22.2.2-py3-none-any.whl (2.0 MB)\n",
            "\u001b[K     |████████████████████████████████| 2.0 MB 14.0 MB/s \n",
            "\u001b[?25hRequirement already satisfied: wheel in /usr/local/lib/python3.7/dist-packages (0.37.1)\n",
            "Installing collected packages: pip\n",
            "  Attempting uninstall: pip\n",
            "    Found existing installation: pip 21.1.3\n",
            "    Uninstalling pip-21.1.3:\n",
            "      Successfully uninstalled pip-21.1.3\n",
            "Successfully installed pip-22.2.2\n"
          ]
        }
      ]
    },
    {
      "cell_type": "code",
      "source": [
        "# usefull tip from CASA to check which wheel vesions are available\n",
        "!pip install casatools==999\n",
        "!pip install casatasks==999\n",
        "!pip install casaplotms==999"
      ],
      "metadata": {
        "colab": {
          "base_uri": "https://localhost:8080/"
        },
        "id": "WS0C9PpmA8Q7",
        "outputId": "c78ca29b-6bfb-43f6-d807-06277032836f"
      },
      "execution_count": 4,
      "outputs": [
        {
          "output_type": "stream",
          "name": "stdout",
          "text": [
            "Looking in indexes: https://pypi.org/simple, https://us-python.pkg.dev/colab-wheels/public/simple/\n",
            "\u001b[31mERROR: Could not find a version that satisfies the requirement casatools==999 (from versions: 6.2.0.124, 6.3.0.48, 6.4.0.16, 6.4.3.27, 6.4.4.31, 6.5.0.15, 6.5.1.23)\u001b[0m\u001b[31m\n",
            "\u001b[0m\u001b[31mERROR: No matching distribution found for casatools==999\u001b[0m\u001b[31m\n",
            "\u001b[0mLooking in indexes: https://pypi.org/simple, https://us-python.pkg.dev/colab-wheels/public/simple/\n",
            "\u001b[31mERROR: Could not find a version that satisfies the requirement casatasks==999 (from versions: 6.0.0.27, 6.2.0.124, 6.2.1.7, 6.3.0.48, 6.4.0.16, 6.4.3.27, 6.4.4.31, 6.5.0.15, 6.5.1.23)\u001b[0m\u001b[31m\n",
            "\u001b[0m\u001b[31mERROR: No matching distribution found for casatasks==999\u001b[0m\u001b[31m\n",
            "\u001b[0mLooking in indexes: https://pypi.org/simple, https://us-python.pkg.dev/colab-wheels/public/simple/\n",
            "\u001b[31mERROR: Could not find a version that satisfies the requirement casaplotms==999 (from versions: 0.0.0.1, 0.0.0.2, 1.2.3a13492.dev1, 1.2.8, 1.3.2, 1.5.5, 1.6.2, 1.7.3)\u001b[0m\u001b[31m\n",
            "\u001b[0m\u001b[31mERROR: No matching distribution found for casaplotms==999\u001b[0m\u001b[31m\n",
            "\u001b[0m"
          ]
        }
      ]
    },
    {
      "cell_type": "code",
      "source": [
        "# CASA uses binary tables which are updated regularly. These tables contain information about the earth's orientation, the path of ephemera and other support data.\n",
        "# The casadata package can also be used to supply the runtime data for casatools.\n",
        "!pip install --index-url=https://go.nrao.edu/pypi casadata"
      ],
      "metadata": {
        "colab": {
          "base_uri": "https://localhost:8080/"
        },
        "id": "Rg2dAZdNEI7f",
        "outputId": "67fe515e-bd0b-4ad0-c004-d9fe88f7d448"
      },
      "execution_count": 5,
      "outputs": [
        {
          "output_type": "stream",
          "name": "stdout",
          "text": [
            "Looking in indexes: https://go.nrao.edu/pypi, https://us-python.pkg.dev/colab-wheels/public/simple/\n",
            "Collecting casadata\n",
            "  Downloading https://casa-pip.nrao.edu/repository/pypi-casa-release/packages/casadata/2022.8.15/casadata-2022.8.15-py3-none-any.whl (351.8 MB)\n",
            "\u001b[2K     \u001b[90m━━━━━━━━━━━━━━━━━━━━━━━━━━━━━━━━━━━━━━━\u001b[0m \u001b[32m351.8/351.8 MB\u001b[0m \u001b[31m4.1 MB/s\u001b[0m eta \u001b[36m0:00:00\u001b[0m\n",
            "\u001b[?25hInstalling collected packages: casadata\n",
            "Successfully installed casadata-2022.8.15\n",
            "\u001b[33mWARNING: Running pip as the 'root' user can result in broken permissions and conflicting behaviour with the system package manager. It is recommended to use a virtual environment instead: https://pip.pypa.io/warnings/venv\u001b[0m\u001b[33m\n",
            "\u001b[0m"
          ]
        }
      ]
    },
    {
      "cell_type": "code",
      "source": [
        "!pip install casatools==6.5.1.23\n",
        "!pip install casatasks==6.5.1.23\n",
        "!pip install casaplotms==1.7.3"
      ],
      "metadata": {
        "colab": {
          "base_uri": "https://localhost:8080/"
        },
        "id": "mERef0XsC2j4",
        "outputId": "ae2f1af3-52ca-4255-f9b0-9555266dacdf"
      },
      "execution_count": 6,
      "outputs": [
        {
          "output_type": "stream",
          "name": "stdout",
          "text": [
            "Looking in indexes: https://pypi.org/simple, https://us-python.pkg.dev/colab-wheels/public/simple/\n",
            "Collecting casatools==6.5.1.23\n",
            "  Downloading casatools-6.5.1.23-cp37-cp37m-manylinux_2_12_x86_64.manylinux2010_x86_64.whl (133.2 MB)\n",
            "\u001b[2K     \u001b[90m━━━━━━━━━━━━━━━━━━━━━━━━━━━━━━━━━━━━━━━\u001b[0m \u001b[32m133.2/133.2 MB\u001b[0m \u001b[31m8.0 MB/s\u001b[0m eta \u001b[36m0:00:00\u001b[0m\n",
            "\u001b[?25hRequirement already satisfied: numpy in /usr/local/lib/python3.7/dist-packages (from casatools==6.5.1.23) (1.21.6)\n",
            "Installing collected packages: casatools\n",
            "Successfully installed casatools-6.5.1.23\n",
            "\u001b[33mWARNING: Running pip as the 'root' user can result in broken permissions and conflicting behaviour with the system package manager. It is recommended to use a virtual environment instead: https://pip.pypa.io/warnings/venv\u001b[0m\u001b[33m\n",
            "\u001b[0mLooking in indexes: https://pypi.org/simple, https://us-python.pkg.dev/colab-wheels/public/simple/\n",
            "Collecting casatasks==6.5.1.23\n",
            "  Downloading casatasks-6.5.1.23-py3-none-any.whl (1.7 MB)\n",
            "\u001b[2K     \u001b[90m━━━━━━━━━━━━━━━━━━━━━━━━━━━━━━━━━━━━━━━━\u001b[0m \u001b[32m1.7/1.7 MB\u001b[0m \u001b[31m42.3 MB/s\u001b[0m eta \u001b[36m0:00:00\u001b[0m\n",
            "\u001b[?25hRequirement already satisfied: matplotlib in /usr/local/lib/python3.7/dist-packages (from casatasks==6.5.1.23) (3.2.2)\n",
            "Requirement already satisfied: scipy in /usr/local/lib/python3.7/dist-packages (from casatasks==6.5.1.23) (1.7.3)\n",
            "Requirement already satisfied: casatools==6.5.1.23 in /usr/local/lib/python3.7/dist-packages (from casatasks==6.5.1.23) (6.5.1.23)\n",
            "Requirement already satisfied: certifi in /usr/local/lib/python3.7/dist-packages (from casatasks==6.5.1.23) (2022.6.15)\n",
            "Requirement already satisfied: numpy in /usr/local/lib/python3.7/dist-packages (from casatools==6.5.1.23->casatasks==6.5.1.23) (1.21.6)\n",
            "Requirement already satisfied: kiwisolver>=1.0.1 in /usr/local/lib/python3.7/dist-packages (from matplotlib->casatasks==6.5.1.23) (1.4.4)\n",
            "Requirement already satisfied: python-dateutil>=2.1 in /usr/local/lib/python3.7/dist-packages (from matplotlib->casatasks==6.5.1.23) (2.8.2)\n",
            "Requirement already satisfied: pyparsing!=2.0.4,!=2.1.2,!=2.1.6,>=2.0.1 in /usr/local/lib/python3.7/dist-packages (from matplotlib->casatasks==6.5.1.23) (3.0.9)\n",
            "Requirement already satisfied: cycler>=0.10 in /usr/local/lib/python3.7/dist-packages (from matplotlib->casatasks==6.5.1.23) (0.11.0)\n",
            "Requirement already satisfied: typing-extensions in /usr/local/lib/python3.7/dist-packages (from kiwisolver>=1.0.1->matplotlib->casatasks==6.5.1.23) (4.1.1)\n",
            "Requirement already satisfied: six>=1.5 in /usr/local/lib/python3.7/dist-packages (from python-dateutil>=2.1->matplotlib->casatasks==6.5.1.23) (1.15.0)\n",
            "Installing collected packages: casatasks\n",
            "Successfully installed casatasks-6.5.1.23\n",
            "\u001b[33mWARNING: Running pip as the 'root' user can result in broken permissions and conflicting behaviour with the system package manager. It is recommended to use a virtual environment instead: https://pip.pypa.io/warnings/venv\u001b[0m\u001b[33m\n",
            "\u001b[0mLooking in indexes: https://pypi.org/simple, https://us-python.pkg.dev/colab-wheels/public/simple/\n",
            "Collecting casaplotms==1.7.3\n",
            "  Downloading casaplotms-1.7.3-py3-none-manylinux2010_x86_64.whl (290.9 MB)\n",
            "\u001b[2K     \u001b[90m━━━━━━━━━━━━━━━━━━━━━━━━━━━━━━━━━━━━━━━\u001b[0m \u001b[32m290.9/290.9 MB\u001b[0m \u001b[31m5.2 MB/s\u001b[0m eta \u001b[36m0:00:00\u001b[0m\n",
            "\u001b[?25hRequirement already satisfied: protobuf in /usr/local/lib/python3.7/dist-packages (from casaplotms==1.7.3) (3.17.3)\n",
            "Requirement already satisfied: grpcio in /usr/local/lib/python3.7/dist-packages (from casaplotms==1.7.3) (1.47.0)\n",
            "Requirement already satisfied: casatasks in /usr/local/lib/python3.7/dist-packages (from casaplotms==1.7.3) (6.5.1.23)\n",
            "Requirement already satisfied: scipy in /usr/local/lib/python3.7/dist-packages (from casatasks->casaplotms==1.7.3) (1.7.3)\n",
            "Requirement already satisfied: matplotlib in /usr/local/lib/python3.7/dist-packages (from casatasks->casaplotms==1.7.3) (3.2.2)\n",
            "Requirement already satisfied: casatools==6.5.1.23 in /usr/local/lib/python3.7/dist-packages (from casatasks->casaplotms==1.7.3) (6.5.1.23)\n",
            "Requirement already satisfied: certifi in /usr/local/lib/python3.7/dist-packages (from casatasks->casaplotms==1.7.3) (2022.6.15)\n",
            "Requirement already satisfied: numpy in /usr/local/lib/python3.7/dist-packages (from casatools==6.5.1.23->casatasks->casaplotms==1.7.3) (1.21.6)\n",
            "Requirement already satisfied: six>=1.5.2 in /usr/local/lib/python3.7/dist-packages (from grpcio->casaplotms==1.7.3) (1.15.0)\n",
            "Requirement already satisfied: python-dateutil>=2.1 in /usr/local/lib/python3.7/dist-packages (from matplotlib->casatasks->casaplotms==1.7.3) (2.8.2)\n",
            "Requirement already satisfied: kiwisolver>=1.0.1 in /usr/local/lib/python3.7/dist-packages (from matplotlib->casatasks->casaplotms==1.7.3) (1.4.4)\n",
            "Requirement already satisfied: cycler>=0.10 in /usr/local/lib/python3.7/dist-packages (from matplotlib->casatasks->casaplotms==1.7.3) (0.11.0)\n",
            "Requirement already satisfied: pyparsing!=2.0.4,!=2.1.2,!=2.1.6,>=2.0.1 in /usr/local/lib/python3.7/dist-packages (from matplotlib->casatasks->casaplotms==1.7.3) (3.0.9)\n",
            "Requirement already satisfied: typing-extensions in /usr/local/lib/python3.7/dist-packages (from kiwisolver>=1.0.1->matplotlib->casatasks->casaplotms==1.7.3) (4.1.1)\n",
            "Installing collected packages: casaplotms\n",
            "Successfully installed casaplotms-1.7.3\n",
            "\u001b[33mWARNING: Running pip as the 'root' user can result in broken permissions and conflicting behaviour with the system package manager. It is recommended to use a virtual environment instead: https://pip.pypa.io/warnings/venv\u001b[0m\u001b[33m\n",
            "\u001b[0m"
          ]
        }
      ]
    },
    {
      "cell_type": "markdown",
      "source": [
        "# Getting started"
      ],
      "metadata": {
        "id": "HtS83F56D7zX"
      }
    },
    {
      "cell_type": "code",
      "source": [
        "from IPython.display import Image\n",
        "import casaplotms\n",
        "from casaplotms import plotms\n",
        "from casatasks import flagdata\n",
        "from casatasks import listobs"
      ],
      "metadata": {
        "id": "oscutfd4EhaK"
      },
      "execution_count": 7,
      "outputs": []
    },
    {
      "cell_type": "code",
      "source": [
        "import casatasks\n",
        "help(casatasks)"
      ],
      "metadata": {
        "colab": {
          "base_uri": "https://localhost:8080/"
        },
        "id": "AZx7n1KeD7ds",
        "outputId": "75709668-8bce-4a81-8484-77240e3ffa9a"
      },
      "execution_count": 8,
      "outputs": [
        {
          "output_type": "stream",
          "name": "stdout",
          "text": [
            "Help on package casatasks:\n",
            "\n",
            "NAME\n",
            "    casatasks\n",
            "\n",
            "DESCRIPTION\n",
            "    ###########################################################################\n",
            "    ########################## generated by setup.py ##########################\n",
            "    ###########################################################################\n",
            "\n",
            "PACKAGE CONTENTS\n",
            "    __main__\n",
            "    accor\n",
            "    apparentsens\n",
            "    applycal\n",
            "    asdmsummary\n",
            "    bandpass\n",
            "    blcal\n",
            "    calstat\n",
            "    clearcal\n",
            "    clearstat\n",
            "    concat\n",
            "    config\n",
            "    conjugatevis\n",
            "    cvel\n",
            "    cvel2\n",
            "    delmod\n",
            "    exportasdm\n",
            "    exportfits\n",
            "    exportuvfits\n",
            "    feather\n",
            "    fixplanets\n",
            "    fixvis\n",
            "    flagcmd\n",
            "    flagdata\n",
            "    flagmanager\n",
            "    fluxscale\n",
            "    fringefit\n",
            "    ft\n",
            "    gaincal\n",
            "    gencal\n",
            "    hanningsmooth\n",
            "    imbaseline\n",
            "    imcollapse\n",
            "    imcontsub\n",
            "    imdev\n",
            "    imfit\n",
            "    imhead\n",
            "    imhistory\n",
            "    immath\n",
            "    immoments\n",
            "    impbcor\n",
            "    importasap\n",
            "    importasdm\n",
            "    importatca\n",
            "    importfits\n",
            "    importfitsidi\n",
            "    importgmrt\n",
            "    importmiriad\n",
            "    importnro\n",
            "    importuvfits\n",
            "    importvla\n",
            "    impv\n",
            "    imrebin\n",
            "    imreframe\n",
            "    imregrid\n",
            "    imsmooth\n",
            "    imstat\n",
            "    imsubimage\n",
            "    imtrans\n",
            "    imval\n",
            "    initweights\n",
            "    listcal\n",
            "    listfits\n",
            "    listhistory\n",
            "    listobs\n",
            "    listpartition\n",
            "    listsdm\n",
            "    listvis\n",
            "    makemask\n",
            "    mstransform\n",
            "    nrobeamaverage\n",
            "    partition\n",
            "    phaseshift\n",
            "    plotants\n",
            "    plotbandpass\n",
            "    plotprofilemap\n",
            "    plotweather\n",
            "    polcal\n",
            "    polfromgain\n",
            "    predictcomp\n",
            "    rerefant\n",
            "    rmfit\n",
            "    rmtables\n",
            "    sdatmcor\n",
            "    sdbaseline\n",
            "    sdcal\n",
            "    sdfit\n",
            "    sdfixscan\n",
            "    sdgaincal\n",
            "    sdimaging\n",
            "    sdintimaging\n",
            "    sdpolaverage\n",
            "    sdsidebandsplit\n",
            "    sdsmooth\n",
            "    sdtimeaverage\n",
            "    setjy\n",
            "    simalma\n",
            "    simanalyze\n",
            "    simobserve\n",
            "    slsearch\n",
            "    smoothcal\n",
            "    specfit\n",
            "    specflux\n",
            "    specsmooth\n",
            "    splattotable\n",
            "    split\n",
            "    spxfit\n",
            "    statwt\n",
            "    tclean\n",
            "    testconcat\n",
            "    tsdimaging\n",
            "    uvcontsub\n",
            "    uvcontsub3\n",
            "    uvmodelfit\n",
            "    uvsub\n",
            "    virtualconcat\n",
            "    vishead\n",
            "    visstat\n",
            "    widebandpbcor\n",
            "\n",
            "SUBMODULES\n",
            "    private\n",
            "\n",
            "FUNCTIONS\n",
            "    version()\n",
            "    \n",
            "    version_string()\n",
            "\n",
            "DATA\n",
            "    __all__ = ['casalog', 'version', 'version_string', 'imhead', 'immoment...\n",
            "    accor = <casatasks.accor._accor object>\n",
            "    apparentsens = <casatasks.apparentsens._apparentsens object>\n",
            "    applycal = <casatasks.applycal._applycal object>\n",
            "    asdmsummary = <casatasks.asdmsummary._asdmsummary object>\n",
            "    bandpass = <casatasks.bandpass._bandpass object>\n",
            "    blcal = <casatasks.blcal._blcal object>\n",
            "    calstat = <casatasks.calstat._calstat object>\n",
            "    casalog = <casatools.logsink.logsink object>\n",
            "    clearcal = <casatasks.clearcal._clearcal object>\n",
            "    clearstat = <casatasks.clearstat._clearstat object>\n",
            "    concat = <casatasks.concat._concat object>\n",
            "    conjugatevis = <casatasks.conjugatevis._conjugatevis object>\n",
            "    cvel = <casatasks.cvel._cvel object>\n",
            "    cvel2 = <casatasks.cvel2._cvel2 object>\n",
            "    delmod = <casatasks.delmod._delmod object>\n",
            "    exportasdm = <casatasks.exportasdm._exportasdm object>\n",
            "    exportfits = <casatasks.exportfits._exportfits object>\n",
            "    exportuvfits = <casatasks.exportuvfits._exportuvfits object>\n",
            "    feather = <casatasks.feather._feather object>\n",
            "    fixplanets = <casatasks.fixplanets._fixplanets object>\n",
            "    fixvis = <casatasks.fixvis._fixvis object>\n",
            "    flagcmd = <casatasks.flagcmd._flagcmd object>\n",
            "    flagdata = <casatasks.flagdata._flagdata object>\n",
            "    flagmanager = <casatasks.flagmanager._flagmanager object>\n",
            "    fluxscale = <casatasks.fluxscale._fluxscale object>\n",
            "    fringefit = <casatasks.fringefit._fringefit object>\n",
            "    ft = <casatasks.ft._ft object>\n",
            "    gaincal = <casatasks.gaincal._gaincal object>\n",
            "    gencal = <casatasks.gencal._gencal object>\n",
            "    hanningsmooth = <casatasks.hanningsmooth._hanningsmooth object>\n",
            "    imbaseline = <casatasks.imbaseline._imbaseline object>\n",
            "    imcollapse = <casatasks.imcollapse._imcollapse object>\n",
            "    imcontsub = <casatasks.imcontsub._imcontsub object>\n",
            "    imdev = <casatasks.imdev._imdev object>\n",
            "    imfit = <casatasks.imfit._imfit object>\n",
            "    imhead = <casatasks.imhead._imhead object>\n",
            "    imhistory = <casatasks.imhistory._imhistory object>\n",
            "    immath = <casatasks.immath._immath object>\n",
            "    immoments = <casatasks.immoments._immoments object>\n",
            "    impbcor = <casatasks.impbcor._impbcor object>\n",
            "    importasap = <casatasks.importasap._importasap object>\n",
            "    importasdm = <casatasks.importasdm._importasdm object>\n",
            "    importatca = <casatasks.importatca._importatca object>\n",
            "    importfits = <casatasks.importfits._importfits object>\n",
            "    importfitsidi = <casatasks.importfitsidi._importfitsidi object>\n",
            "    importgmrt = <casatasks.importgmrt._importgmrt object>\n",
            "    importmiriad = <casatasks.importmiriad._importmiriad object>\n",
            "    importnro = <casatasks.importnro._importnro object>\n",
            "    importuvfits = <casatasks.importuvfits._importuvfits object>\n",
            "    importvla = <casatasks.importvla._importvla object>\n",
            "    impv = <casatasks.impv._impv object>\n",
            "    imrebin = <casatasks.imrebin._imrebin object>\n",
            "    imreframe = <casatasks.imreframe._imreframe object>\n",
            "    imregrid = <casatasks.imregrid._imregrid object>\n",
            "    imsmooth = <casatasks.imsmooth._imsmooth object>\n",
            "    imstat = <casatasks.imstat._imstat object>\n",
            "    imsubimage = <casatasks.imsubimage._imsubimage object>\n",
            "    imtrans = <casatasks.imtrans._imtrans object>\n",
            "    imval = <casatasks.imval._imval object>\n",
            "    initweights = <casatasks.initweights._initweights object>\n",
            "    listcal = <casatasks.listcal._listcal object>\n",
            "    listfits = <casatasks.listfits._listfits object>\n",
            "    listhistory = <casatasks.listhistory._listhistory object>\n",
            "    listobs = <casatasks.listobs._listobs object>\n",
            "    listpartition = <casatasks.listpartition._listpartition object>\n",
            "    listsdm = <casatasks.listsdm._listsdm object>\n",
            "    listvis = <casatasks.listvis._listvis object>\n",
            "    makemask = <casatasks.makemask._makemask object>\n",
            "    mstransform = <casatasks.mstransform._mstransform object>\n",
            "    nrobeamaverage = <casatasks.nrobeamaverage._nrobeamaverage object>\n",
            "    partition = <casatasks.partition._partition object>\n",
            "    phaseshift = <casatasks.phaseshift._phaseshift object>\n",
            "    plotants = <casatasks.plotants._plotants object>\n",
            "    plotbandpass = <casatasks.plotbandpass._plotbandpass object>\n",
            "    plotprofilemap = <casatasks.plotprofilemap._plotprofilemap object>\n",
            "    plotweather = <casatasks.plotweather._plotweather object>\n",
            "    polcal = <casatasks.polcal._polcal object>\n",
            "    polfromgain = <casatasks.polfromgain._polfromgain object>\n",
            "    predictcomp = <casatasks.predictcomp._predictcomp object>\n",
            "    rerefant = <casatasks.rerefant._rerefant object>\n",
            "    rmfit = <casatasks.rmfit._rmfit object>\n",
            "    rmtables = <casatasks.rmtables._rmtables object>\n",
            "    sdatmcor = <casatasks.sdatmcor._sdatmcor object>\n",
            "    sdbaseline = <casatasks.sdbaseline._sdbaseline object>\n",
            "    sdcal = <casatasks.sdcal._sdcal object>\n",
            "    sdfit = <casatasks.sdfit._sdfit object>\n",
            "    sdfixscan = <casatasks.sdfixscan._sdfixscan object>\n",
            "    sdgaincal = <casatasks.sdgaincal._sdgaincal object>\n",
            "    sdimaging = <casatasks.sdimaging._sdimaging object>\n",
            "    sdintimaging = <casatasks.sdintimaging._sdintimaging object>\n",
            "    sdpolaverage = <casatasks.sdpolaverage._sdpolaverage object>\n",
            "    sdsidebandsplit = <casatasks.sdsidebandsplit._sdsidebandsplit object>\n",
            "    sdsmooth = <casatasks.sdsmooth._sdsmooth object>\n",
            "    sdtimeaverage = <casatasks.sdtimeaverage._sdtimeaverage object>\n",
            "    setjy = <casatasks.setjy._setjy object>\n",
            "    simalma = <casatasks.simalma._simalma object>\n",
            "    simanalyze = <casatasks.simanalyze._simanalyze object>\n",
            "    simobserve = <casatasks.simobserve._simobserve object>\n",
            "    slsearch = <casatasks.slsearch._slsearch object>\n",
            "    smoothcal = <casatasks.smoothcal._smoothcal object>\n",
            "    specfit = <casatasks.specfit._specfit object>\n",
            "    specflux = <casatasks.specflux._specflux object>\n",
            "    specsmooth = <casatasks.specsmooth._specsmooth object>\n",
            "    splattotable = <casatasks.splattotable._splattotable object>\n",
            "    split = <casatasks.split._split object>\n",
            "    spxfit = <casatasks.spxfit._spxfit object>\n",
            "    statwt = <casatasks.statwt._statwt object>\n",
            "    tclean = <casatasks.tclean._tclean object>\n",
            "    testconcat = <casatasks.testconcat._testconcat object>\n",
            "    tsdimaging = <casatasks.tsdimaging._tsdimaging object>\n",
            "    uvcontsub = <casatasks.uvcontsub._uvcontsub object>\n",
            "    uvcontsub3 = <casatasks.uvcontsub3._uvcontsub3 object>\n",
            "    uvmodelfit = <casatasks.uvmodelfit._uvmodelfit object>\n",
            "    uvsub = <casatasks.uvsub._uvsub object>\n",
            "    virtualconcat = <casatasks.virtualconcat._virtualconcat object>\n",
            "    vishead = <casatasks.vishead._vishead object>\n",
            "    visstat = <casatasks.visstat._visstat object>\n",
            "    widebandpbcor = <casatasks.widebandpbcor._widebandpbcor object>\n",
            "\n",
            "FILE\n",
            "    /usr/local/lib/python3.7/dist-packages/casatasks/__init__.py\n",
            "\n",
            "\n"
          ]
        }
      ]
    },
    {
      "cell_type": "markdown",
      "source": [
        "# Example data on drive for easy access"
      ],
      "metadata": {
        "id": "8o-3LYqFGoAB"
      }
    },
    {
      "cell_type": "code",
      "source": [
        "from google.colab import drive\n",
        "drive.mount('/content/drive')"
      ],
      "metadata": {
        "colab": {
          "base_uri": "https://localhost:8080/"
        },
        "id": "_MJjEtscD6nw",
        "outputId": "cfdafce7-3355-4b93-aad2-096e49063f40"
      },
      "execution_count": 9,
      "outputs": [
        {
          "output_type": "stream",
          "name": "stdout",
          "text": [
            "Mounted at /content/drive\n"
          ]
        }
      ]
    },
    {
      "cell_type": "markdown",
      "source": [
        "Create symbolic link in the /content top layer folder for each processing. Use the appropriate path to the example dataset you copied to your drive\n",
        "\n",
        "NOTE: update the path below to the appropriate directory in drive where you copied the data"
      ],
      "metadata": {
        "id": "AWxsTaC-Sin1"
      }
    },
    {
      "cell_type": "code",
      "source": [
        "!ln -s \"/content/drive/MyDrive/RARG/TART/tart_data.ms\"\n",
        "!ln -s \"/content/drive/MyDrive/RARG/TART/data_2019_08_04_21_38_31_UTC.ms\""
      ],
      "metadata": {
        "id": "ugrFfXk5Gvcb"
      },
      "execution_count": 10,
      "outputs": []
    },
    {
      "cell_type": "code",
      "source": [
        "msfile = \"tart_data.ms\"\n",
        "listobs(vis=msfile)"
      ],
      "metadata": {
        "colab": {
          "base_uri": "https://localhost:8080/",
          "height": 336
        },
        "id": "htGnDmbJSlk5",
        "outputId": "79e10d3c-e308-40c0-c7b9-933c1d3cdd98"
      },
      "execution_count": 11,
      "outputs": [
        {
          "output_type": "error",
          "ename": "RuntimeError",
          "evalue": "ignored",
          "traceback": [
            "\u001b[0;31m---------------------------------------------------------------------------\u001b[0m",
            "\u001b[0;31mRuntimeError\u001b[0m                              Traceback (most recent call last)",
            "\u001b[0;32m<ipython-input-11-b4c9efe957ed>\u001b[0m in \u001b[0;36m<module>\u001b[0;34m\u001b[0m\n\u001b[1;32m      1\u001b[0m \u001b[0mmsfile\u001b[0m \u001b[0;34m=\u001b[0m \u001b[0;34m\"tart_data.ms\"\u001b[0m\u001b[0;34m\u001b[0m\u001b[0;34m\u001b[0m\u001b[0m\n\u001b[0;32m----> 2\u001b[0;31m \u001b[0mlistobs\u001b[0m\u001b[0;34m(\u001b[0m\u001b[0mvis\u001b[0m\u001b[0;34m=\u001b[0m\u001b[0mmsfile\u001b[0m\u001b[0;34m)\u001b[0m\u001b[0;34m\u001b[0m\u001b[0;34m\u001b[0m\u001b[0m\n\u001b[0m",
            "\u001b[0;32m/usr/local/lib/python3.7/dist-packages/casatasks/listobs.py\u001b[0m in \u001b[0;36m__call__\u001b[0;34m(self, vis, selectdata, spw, field, antenna, uvrange, timerange, correlation, scan, intent, feed, array, observation, verbose, listfile, listunfl, cachesize, overwrite)\u001b[0m\n\u001b[1;32m    157\u001b[0m         \u001b[0mtask_result\u001b[0m \u001b[0;34m=\u001b[0m \u001b[0;32mNone\u001b[0m\u001b[0;34m\u001b[0m\u001b[0;34m\u001b[0m\u001b[0m\n\u001b[1;32m    158\u001b[0m         \u001b[0;32mtry\u001b[0m\u001b[0;34m:\u001b[0m\u001b[0;34m\u001b[0m\u001b[0;34m\u001b[0m\u001b[0m\n\u001b[0;32m--> 159\u001b[0;31m             \u001b[0mtask_result\u001b[0m \u001b[0;34m=\u001b[0m \u001b[0m_listobs_t\u001b[0m\u001b[0;34m(\u001b[0m \u001b[0m_pc\u001b[0m\u001b[0;34m.\u001b[0m\u001b[0mdocument\u001b[0m\u001b[0;34m[\u001b[0m\u001b[0;34m'vis'\u001b[0m\u001b[0;34m]\u001b[0m\u001b[0;34m,\u001b[0m \u001b[0m_pc\u001b[0m\u001b[0;34m.\u001b[0m\u001b[0mdocument\u001b[0m\u001b[0;34m[\u001b[0m\u001b[0;34m'selectdata'\u001b[0m\u001b[0;34m]\u001b[0m\u001b[0;34m,\u001b[0m \u001b[0m_pc\u001b[0m\u001b[0;34m.\u001b[0m\u001b[0mdocument\u001b[0m\u001b[0;34m[\u001b[0m\u001b[0;34m'spw'\u001b[0m\u001b[0;34m]\u001b[0m\u001b[0;34m,\u001b[0m \u001b[0m_pc\u001b[0m\u001b[0;34m.\u001b[0m\u001b[0mdocument\u001b[0m\u001b[0;34m[\u001b[0m\u001b[0;34m'field'\u001b[0m\u001b[0;34m]\u001b[0m\u001b[0;34m,\u001b[0m \u001b[0m_pc\u001b[0m\u001b[0;34m.\u001b[0m\u001b[0mdocument\u001b[0m\u001b[0;34m[\u001b[0m\u001b[0;34m'antenna'\u001b[0m\u001b[0;34m]\u001b[0m\u001b[0;34m,\u001b[0m \u001b[0m_pc\u001b[0m\u001b[0;34m.\u001b[0m\u001b[0mdocument\u001b[0m\u001b[0;34m[\u001b[0m\u001b[0;34m'uvrange'\u001b[0m\u001b[0;34m]\u001b[0m\u001b[0;34m,\u001b[0m \u001b[0m_pc\u001b[0m\u001b[0;34m.\u001b[0m\u001b[0mdocument\u001b[0m\u001b[0;34m[\u001b[0m\u001b[0;34m'timerange'\u001b[0m\u001b[0;34m]\u001b[0m\u001b[0;34m,\u001b[0m \u001b[0m_pc\u001b[0m\u001b[0;34m.\u001b[0m\u001b[0mdocument\u001b[0m\u001b[0;34m[\u001b[0m\u001b[0;34m'correlation'\u001b[0m\u001b[0;34m]\u001b[0m\u001b[0;34m,\u001b[0m \u001b[0m_pc\u001b[0m\u001b[0;34m.\u001b[0m\u001b[0mdocument\u001b[0m\u001b[0;34m[\u001b[0m\u001b[0;34m'scan'\u001b[0m\u001b[0;34m]\u001b[0m\u001b[0;34m,\u001b[0m \u001b[0m_pc\u001b[0m\u001b[0;34m.\u001b[0m\u001b[0mdocument\u001b[0m\u001b[0;34m[\u001b[0m\u001b[0;34m'intent'\u001b[0m\u001b[0;34m]\u001b[0m\u001b[0;34m,\u001b[0m \u001b[0m_pc\u001b[0m\u001b[0;34m.\u001b[0m\u001b[0mdocument\u001b[0m\u001b[0;34m[\u001b[0m\u001b[0;34m'feed'\u001b[0m\u001b[0;34m]\u001b[0m\u001b[0;34m,\u001b[0m \u001b[0m_pc\u001b[0m\u001b[0;34m.\u001b[0m\u001b[0mdocument\u001b[0m\u001b[0;34m[\u001b[0m\u001b[0;34m'array'\u001b[0m\u001b[0;34m]\u001b[0m\u001b[0;34m,\u001b[0m \u001b[0m_pc\u001b[0m\u001b[0;34m.\u001b[0m\u001b[0mdocument\u001b[0m\u001b[0;34m[\u001b[0m\u001b[0;34m'observation'\u001b[0m\u001b[0;34m]\u001b[0m\u001b[0;34m,\u001b[0m \u001b[0m_pc\u001b[0m\u001b[0;34m.\u001b[0m\u001b[0mdocument\u001b[0m\u001b[0;34m[\u001b[0m\u001b[0;34m'verbose'\u001b[0m\u001b[0;34m]\u001b[0m\u001b[0;34m,\u001b[0m \u001b[0m_pc\u001b[0m\u001b[0;34m.\u001b[0m\u001b[0mdocument\u001b[0m\u001b[0;34m[\u001b[0m\u001b[0;34m'li...\n\u001b[0m\u001b[1;32m    160\u001b[0m         \u001b[0;32mexcept\u001b[0m \u001b[0mException\u001b[0m \u001b[0;32mas\u001b[0m \u001b[0mexc\u001b[0m\u001b[0;34m:\u001b[0m\u001b[0;34m\u001b[0m\u001b[0;34m\u001b[0m\u001b[0m\n\u001b[1;32m    161\u001b[0m             \u001b[0m_except_log\u001b[0m\u001b[0;34m(\u001b[0m\u001b[0;34m'listobs'\u001b[0m\u001b[0;34m,\u001b[0m \u001b[0mexc\u001b[0m\u001b[0;34m)\u001b[0m\u001b[0;34m\u001b[0m\u001b[0;34m\u001b[0m\u001b[0m\n",
            "\u001b[0;32m/usr/local/lib/python3.7/dist-packages/casatasks/private/task_listobs.py\u001b[0m in \u001b[0;36mlistobs\u001b[0;34m(vis, selectdata, spw, field, antenna, uvrange, timerange, correlation, scan, intent, feed, array, observation, verbose, listfile, listunfl, cachesize, overwrite)\u001b[0m\n\u001b[1;32m     59\u001b[0m         obs_dict = myms.summary(\n\u001b[1;32m     60\u001b[0m             \u001b[0mverbose\u001b[0m\u001b[0;34m=\u001b[0m\u001b[0mverbose\u001b[0m\u001b[0;34m,\u001b[0m \u001b[0mlistfile\u001b[0m\u001b[0;34m=\u001b[0m\u001b[0mlistfile\u001b[0m\u001b[0;34m,\u001b[0m \u001b[0mlistunfl\u001b[0m\u001b[0;34m=\u001b[0m\u001b[0mlistunfl\u001b[0m\u001b[0;34m,\u001b[0m\u001b[0;34m\u001b[0m\u001b[0;34m\u001b[0m\u001b[0m\n\u001b[0;32m---> 61\u001b[0;31m             \u001b[0mcachesize\u001b[0m\u001b[0;34m=\u001b[0m\u001b[0mcachesize\u001b[0m\u001b[0;34m,\u001b[0m \u001b[0moverwrite\u001b[0m\u001b[0;34m=\u001b[0m\u001b[0moverwrite\u001b[0m\u001b[0;34m,\u001b[0m \u001b[0mwantreturn\u001b[0m\u001b[0;34m=\u001b[0m\u001b[0;32mTrue\u001b[0m\u001b[0;34m\u001b[0m\u001b[0;34m\u001b[0m\u001b[0m\n\u001b[0m\u001b[1;32m     62\u001b[0m         )\n\u001b[1;32m     63\u001b[0m         \u001b[0;32mreturn\u001b[0m \u001b[0mobs_dict\u001b[0m\u001b[0;34m\u001b[0m\u001b[0;34m\u001b[0m\u001b[0m\n",
            "\u001b[0;32m/usr/local/lib/python3.7/dist-packages/casatools/ms.py\u001b[0m in \u001b[0;36msummary\u001b[0;34m(self, verbose, listfile, listunfl, cachesize, overwrite, wantreturn)\u001b[0m\n\u001b[1;32m    575\u001b[0m \u001b[0;34m\u001b[0m\u001b[0m\n\u001b[1;32m    576\u001b[0m         \"\"\"\n\u001b[0;32m--> 577\u001b[0;31m         \u001b[0;32mreturn\u001b[0m \u001b[0m_dict_dc\u001b[0m\u001b[0;34m(\u001b[0m\u001b[0mself\u001b[0m\u001b[0;34m.\u001b[0m\u001b[0m_swigobj\u001b[0m\u001b[0;34m.\u001b[0m\u001b[0msummary\u001b[0m\u001b[0;34m(\u001b[0m\u001b[0mverbose\u001b[0m\u001b[0;34m,\u001b[0m \u001b[0m_str_ec\u001b[0m\u001b[0;34m(\u001b[0m\u001b[0mlistfile\u001b[0m\u001b[0;34m)\u001b[0m\u001b[0;34m,\u001b[0m \u001b[0mlistunfl\u001b[0m\u001b[0;34m,\u001b[0m \u001b[0mcachesize\u001b[0m\u001b[0;34m,\u001b[0m \u001b[0moverwrite\u001b[0m\u001b[0;34m,\u001b[0m \u001b[0mwantreturn\u001b[0m\u001b[0;34m)\u001b[0m\u001b[0;34m)\u001b[0m\u001b[0;34m\u001b[0m\u001b[0;34m\u001b[0m\u001b[0m\n\u001b[0m\u001b[1;32m    578\u001b[0m \u001b[0;34m\u001b[0m\u001b[0m\n\u001b[1;32m    579\u001b[0m     \u001b[0;32mdef\u001b[0m \u001b[0mgetscansummary\u001b[0m\u001b[0;34m(\u001b[0m\u001b[0mself\u001b[0m\u001b[0;34m)\u001b[0m\u001b[0;34m:\u001b[0m\u001b[0;34m\u001b[0m\u001b[0;34m\u001b[0m\u001b[0m\n",
            "\u001b[0;32m/usr/local/lib/python3.7/dist-packages/casatools/__casac__/ms.py\u001b[0m in \u001b[0;36msummary\u001b[0;34m(self, *args, **kwargs)\u001b[0m\n\u001b[1;32m   1399\u001b[0m \u001b[0;34m\u001b[0m\u001b[0m\n\u001b[1;32m   1400\u001b[0m         \"\"\"\n\u001b[0;32m-> 1401\u001b[0;31m         \u001b[0;32mreturn\u001b[0m \u001b[0m_ms\u001b[0m\u001b[0;34m.\u001b[0m\u001b[0mms_summary\u001b[0m\u001b[0;34m(\u001b[0m\u001b[0mself\u001b[0m\u001b[0;34m,\u001b[0m \u001b[0;34m*\u001b[0m\u001b[0margs\u001b[0m\u001b[0;34m,\u001b[0m \u001b[0;34m**\u001b[0m\u001b[0mkwargs\u001b[0m\u001b[0;34m)\u001b[0m\u001b[0;34m\u001b[0m\u001b[0;34m\u001b[0m\u001b[0m\n\u001b[0m\u001b[1;32m   1402\u001b[0m \u001b[0;34m\u001b[0m\u001b[0m\n\u001b[1;32m   1403\u001b[0m \u001b[0;34m\u001b[0m\u001b[0m\n",
            "\u001b[0;31mRuntimeError\u001b[0m: Invalid Table data type when accessing column  in ScalarColumn ctor for column TIME"
          ]
        }
      ]
    },
    {
      "cell_type": "code",
      "source": [
        "import os\n",
        "print(os.popen(\"cat casa-*.log\").read())"
      ],
      "metadata": {
        "colab": {
          "base_uri": "https://localhost:8080/"
        },
        "id": "HM_n0e9wSv6J",
        "outputId": "9eb8f466-7987-45e8-8411-1c8c55030366"
      },
      "execution_count": 13,
      "outputs": [
        {
          "output_type": "stream",
          "name": "stdout",
          "text": [
            "2022-08-16 09:58:59\tINFO\t::casa\t\n",
            "2022-08-16 09:59:00\tINFO\t::casa\tPython version 3.7.13\n",
            "2022-08-16 09:59:00\tINFO\t::casa\tCASA Version MODULAR 6.5.1.23\n",
            "2022-08-16 09:59:00\tINFO\t::casa\tCan't import casatelemetry module.\n",
            "2022-08-16 10:55:10\tINFO\tlistobs::::casa\t##########################################\n",
            "2022-08-16 10:55:10\tINFO\tlistobs::::casa\t##### Begin Task: listobs            #####\n",
            "2022-08-16 10:55:10\tINFO\tlistobs::::casa\tlistobs( vis='tart_data.ms', selectdata=True, spw='', field='', antenna='', uvrange='', timerange='', correlation='', scan='', intent='', feed='', array='', observation='', verbose=True, listfile='', listunfl=False, cachesize=50.0, overwrite=False )\n",
            "2022-08-16 10:55:41\tWARN\tlistobs::ms::msselect\tInvalid Table data type when accessing column  in ScalarColumn ctor for column TIME\n",
            "2022-08-16 10:55:41\tSEVERE\tlistobs::ms::summary\t================================================================================\n",
            "2022-08-16 10:55:41\tSEVERE\tlistobs::ms::summary+\t           MeasurementSet Name:  /content/tart_data.ms      MS Version 2\n",
            "2022-08-16 10:55:41\tSEVERE\tlistobs::ms::summary+\t================================================================================\n",
            "2022-08-16 10:55:41\tSEVERE\tlistobs::ms::summary+\tException Reported: Invalid Table data type when accessing column  in ScalarColumn ctor for column TIME\n",
            "2022-08-16 10:55:41\tSEVERE\tlistobs::::casa\tTask listobs raised an exception of class RuntimeError with the following message: Invalid Table data type when accessing column  in ScalarColumn ctor for column TIME\n",
            "2022-08-16 10:55:41\tINFO\tlistobs::::casa\tTask listobs complete. Start time: 2022-08-16 10:55:10.362942 End time: 2022-08-16 10:55:41.173269\n",
            "2022-08-16 10:55:41\tINFO\tlistobs::::casa\t##### End Task: listobs              #####\n",
            "2022-08-16 10:55:41\tINFO\tlistobs::::casa\t##########################################\n",
            "\n"
          ]
        }
      ]
    },
    {
      "cell_type": "code",
      "source": [
        ""
      ],
      "metadata": {
        "id": "tt65QL0GS9dm"
      },
      "execution_count": null,
      "outputs": []
    }
  ]
}