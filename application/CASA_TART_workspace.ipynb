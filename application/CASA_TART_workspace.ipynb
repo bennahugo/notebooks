{
  "nbformat": 4,
  "nbformat_minor": 0,
  "metadata": {
    "colab": {
      "provenance": [],
      "toc_visible": true,
      "authorship_tag": "ABX9TyPe2QHxB5Qhln2+ncSvSIVI",
      "include_colab_link": true
    },
    "kernelspec": {
      "name": "python3",
      "display_name": "Python 3"
    },
    "language_info": {
      "name": "python"
    },
    "gpuClass": "standard"
  },
  "cells": [
    {
      "cell_type": "markdown",
      "metadata": {
        "id": "view-in-github",
        "colab_type": "text"
      },
      "source": [
        "<a href=\"https://colab.research.google.com/github/rubyvanrooyen/notebooks/blob/main/application/CASA_TART_workspace.ipynb\" target=\"_parent\"><img src=\"https://colab.research.google.com/assets/colab-badge.svg\" alt=\"Open In Colab\"/></a>"
      ]
    },
    {
      "cell_type": "markdown",
      "source": [
        "# CASA workspace\n",
        "\n",
        "Note: Google Colab upgrades it's default python for the runtime environment sporadically.\n",
        "Keep an eye on the current python version, check if a wheel exists for `casatools` and `casatasks`.\n",
        "Generally CASA provide good instructions for installing pre-release versions if not wheel is available.\n",
        "\n",
        "See if a wheel exist for casatools installation    \n",
        "https://casa.nrao.edu/casa_obtaining.shtml and        \n",
        "https://casa.nrao.edu/casadocs/latest/usingcasa/obtaining-and-installing\n",
        "\n",
        "All pip wheels for casatools and casatasks are available from the public PyPI server https://casa-pip.nrao.edu/\n",
        "\n",
        "If a wheel exists for this version of python, add the code block as per example\n",
        "```\n",
        "!pip install --index-url https://casa-pip.nrao.edu/repository/pypi-casa-release/simple casaplotms==1.6.2\n",
        "```"
      ],
      "metadata": {
        "id": "yNbAWXu39hGd"
      }
    },
    {
      "cell_type": "code",
      "source": [
        "# check current python version\n",
        "!python --version"
      ],
      "metadata": {
        "colab": {
          "base_uri": "https://localhost:8080/"
        },
        "id": "QrDgj4t2-nXS",
        "outputId": "507975d2-448e-44b2-b313-f903d9874fbe"
      },
      "execution_count": 1,
      "outputs": [
        {
          "output_type": "stream",
          "name": "stdout",
          "text": [
            "Python 3.7.14\n"
          ]
        }
      ]
    },
    {
      "cell_type": "code",
      "source": [
        "#installing pre-requisite packages...\n",
        "!apt-get install -y libgfortran3"
      ],
      "metadata": {
        "colab": {
          "base_uri": "https://localhost:8080/"
        },
        "id": "tJrmqukV-8zm",
        "outputId": "a2b15d48-cad5-449a-adff-f7bbbd47556c"
      },
      "execution_count": 2,
      "outputs": [
        {
          "output_type": "stream",
          "name": "stdout",
          "text": [
            "Reading package lists... Done\n",
            "Building dependency tree       \n",
            "Reading state information... Done\n",
            "The following package was automatically installed and is no longer required:\n",
            "  libnvidia-common-460\n",
            "Use 'apt autoremove' to remove it.\n",
            "The following additional packages will be installed:\n",
            "  gcc-6-base\n",
            "The following NEW packages will be installed:\n",
            "  gcc-6-base libgfortran3\n",
            "0 upgraded, 2 newly installed, 0 to remove and 12 not upgraded.\n",
            "Need to get 286 kB of archives.\n",
            "After this operation, 1,394 kB of additional disk space will be used.\n",
            "Get:1 http://archive.ubuntu.com/ubuntu bionic-updates/universe amd64 gcc-6-base amd64 6.5.0-2ubuntu1~18.04 [16.7 kB]\n",
            "Get:2 http://archive.ubuntu.com/ubuntu bionic-updates/universe amd64 libgfortran3 amd64 6.5.0-2ubuntu1~18.04 [270 kB]\n",
            "Fetched 286 kB in 1s (271 kB/s)\n",
            "Selecting previously unselected package gcc-6-base:amd64.\n",
            "(Reading database ... 123934 files and directories currently installed.)\n",
            "Preparing to unpack .../gcc-6-base_6.5.0-2ubuntu1~18.04_amd64.deb ...\n",
            "Unpacking gcc-6-base:amd64 (6.5.0-2ubuntu1~18.04) ...\n",
            "Selecting previously unselected package libgfortran3:amd64.\n",
            "Preparing to unpack .../libgfortran3_6.5.0-2ubuntu1~18.04_amd64.deb ...\n",
            "Unpacking libgfortran3:amd64 (6.5.0-2ubuntu1~18.04) ...\n",
            "Setting up gcc-6-base:amd64 (6.5.0-2ubuntu1~18.04) ...\n",
            "Setting up libgfortran3:amd64 (6.5.0-2ubuntu1~18.04) ...\n",
            "Processing triggers for libc-bin (2.27-3ubuntu1.6) ...\n"
          ]
        }
      ]
    },
    {
      "cell_type": "code",
      "source": [
        "!pip install --upgrade pip wheel"
      ],
      "metadata": {
        "colab": {
          "base_uri": "https://localhost:8080/"
        },
        "id": "d9X42Qa4_7ur",
        "outputId": "729770db-2d33-49a8-b0fe-8d70963e9530"
      },
      "execution_count": 3,
      "outputs": [
        {
          "output_type": "stream",
          "name": "stdout",
          "text": [
            "Looking in indexes: https://pypi.org/simple, https://us-python.pkg.dev/colab-wheels/public/simple/\n",
            "Requirement already satisfied: pip in /usr/local/lib/python3.7/dist-packages (21.1.3)\n",
            "Collecting pip\n",
            "  Downloading pip-22.3-py3-none-any.whl (2.1 MB)\n",
            "\u001b[K     |████████████████████████████████| 2.1 MB 10.5 MB/s \n",
            "\u001b[?25hRequirement already satisfied: wheel in /usr/local/lib/python3.7/dist-packages (0.37.1)\n",
            "Installing collected packages: pip\n",
            "  Attempting uninstall: pip\n",
            "    Found existing installation: pip 21.1.3\n",
            "    Uninstalling pip-21.1.3:\n",
            "      Successfully uninstalled pip-21.1.3\n",
            "Successfully installed pip-22.3\n"
          ]
        }
      ]
    },
    {
      "cell_type": "markdown",
      "source": [
        "## Installation"
      ],
      "metadata": {
        "id": "xR-BiRXuEh8c"
      }
    },
    {
      "cell_type": "code",
      "source": [
        "# usefull tip from CASA to check which wheel vesions are available\n",
        "!pip install casadata==999\n",
        "!pip install casatools==999\n",
        "!pip install casatasks==999\n",
        "!pip install casaplotms==999"
      ],
      "metadata": {
        "colab": {
          "base_uri": "https://localhost:8080/"
        },
        "id": "WS0C9PpmA8Q7",
        "outputId": "c3786906-b0b7-4ef3-801a-4c5d91398577"
      },
      "execution_count": 4,
      "outputs": [
        {
          "output_type": "stream",
          "name": "stdout",
          "text": [
            "Looking in indexes: https://pypi.org/simple, https://us-python.pkg.dev/colab-wheels/public/simple/\n",
            "\u001b[31mERROR: Could not find a version that satisfies the requirement casadata==999 (from versions: 0.0.0.1, 2021.5.17, 2021.8.16, 2021.8.23, 2021.10.11, 2022.1.17, 2022.5.23, 2022.7.18, 2022.9.5)\u001b[0m\u001b[31m\n",
            "\u001b[0m\u001b[31mERROR: No matching distribution found for casadata==999\u001b[0m\u001b[31m\n",
            "\u001b[0mLooking in indexes: https://pypi.org/simple, https://us-python.pkg.dev/colab-wheels/public/simple/\n",
            "\u001b[31mERROR: Could not find a version that satisfies the requirement casatools==999 (from versions: 6.2.0.124, 6.3.0.48, 6.4.0.16, 6.4.3.27, 6.4.4.31, 6.5.0.15, 6.5.1.23, 6.5.2.26)\u001b[0m\u001b[31m\n",
            "\u001b[0m\u001b[31mERROR: No matching distribution found for casatools==999\u001b[0m\u001b[31m\n",
            "\u001b[0mLooking in indexes: https://pypi.org/simple, https://us-python.pkg.dev/colab-wheels/public/simple/\n",
            "\u001b[31mERROR: Could not find a version that satisfies the requirement casatasks==999 (from versions: 6.0.0.27, 6.2.0.124, 6.2.1.7, 6.3.0.48, 6.4.0.16, 6.4.3.27, 6.4.4.31, 6.5.0.15, 6.5.1.23, 6.5.2.26)\u001b[0m\u001b[31m\n",
            "\u001b[0m\u001b[31mERROR: No matching distribution found for casatasks==999\u001b[0m\u001b[31m\n",
            "\u001b[0mLooking in indexes: https://pypi.org/simple, https://us-python.pkg.dev/colab-wheels/public/simple/\n",
            "\u001b[31mERROR: Could not find a version that satisfies the requirement casaplotms==999 (from versions: 0.0.0.1, 0.0.0.2, 1.2.3a13492.dev1, 1.2.8, 1.3.2, 1.5.5, 1.6.2, 1.7.3, 1.8.7)\u001b[0m\u001b[31m\n",
            "\u001b[0m\u001b[31mERROR: No matching distribution found for casaplotms==999\u001b[0m\u001b[31m\n",
            "\u001b[0m"
          ]
        }
      ]
    },
    {
      "cell_type": "code",
      "source": [
        "# CASA uses binary tables which are updated regularly. These tables contain information about the earth's orientation, the path of ephemera and other support data.\n",
        "# The casadata package can also be used to supply the runtime data for casatools.\n",
        "!pip install casadata==2022.9.5\n",
        "# CASA packages\n",
        "!pip install casatools==6.5.2.26\n",
        "!pip install casatasks==6.5.2.26\n",
        "!pip install casaplotms==1.8.7"
      ],
      "metadata": {
        "colab": {
          "base_uri": "https://localhost:8080/"
        },
        "id": "87VQeaTclZoz",
        "outputId": "a43c95f0-961c-4d26-c978-a78ddaae8052"
      },
      "execution_count": 5,
      "outputs": [
        {
          "output_type": "stream",
          "name": "stdout",
          "text": [
            "Looking in indexes: https://pypi.org/simple, https://us-python.pkg.dev/colab-wheels/public/simple/\n",
            "Collecting casadata==2022.9.5\n",
            "  Downloading casadata-2022.9.5-py3-none-any.whl (351.8 MB)\n",
            "\u001b[2K     \u001b[90m━━━━━━━━━━━━━━━━━━━━━━━━━━━━━━━━━━━━━━━\u001b[0m \u001b[32m351.8/351.8 MB\u001b[0m \u001b[31m4.0 MB/s\u001b[0m eta \u001b[36m0:00:00\u001b[0m\n",
            "\u001b[?25hInstalling collected packages: casadata\n",
            "Successfully installed casadata-2022.9.5\n",
            "\u001b[33mWARNING: Running pip as the 'root' user can result in broken permissions and conflicting behaviour with the system package manager. It is recommended to use a virtual environment instead: https://pip.pypa.io/warnings/venv\u001b[0m\u001b[33m\n",
            "\u001b[0mLooking in indexes: https://pypi.org/simple, https://us-python.pkg.dev/colab-wheels/public/simple/\n",
            "Collecting casatools==6.5.2.26\n",
            "  Downloading casatools-6.5.2.26-cp37-cp37m-manylinux_2_12_x86_64.manylinux2010_x86_64.whl (133.2 MB)\n",
            "\u001b[2K     \u001b[90m━━━━━━━━━━━━━━━━━━━━━━━━━━━━━━━━━━━━━━━\u001b[0m \u001b[32m133.2/133.2 MB\u001b[0m \u001b[31m8.1 MB/s\u001b[0m eta \u001b[36m0:00:00\u001b[0m\n",
            "\u001b[?25hRequirement already satisfied: numpy in /usr/local/lib/python3.7/dist-packages (from casatools==6.5.2.26) (1.21.6)\n",
            "Installing collected packages: casatools\n",
            "Successfully installed casatools-6.5.2.26\n",
            "\u001b[33mWARNING: Running pip as the 'root' user can result in broken permissions and conflicting behaviour with the system package manager. It is recommended to use a virtual environment instead: https://pip.pypa.io/warnings/venv\u001b[0m\u001b[33m\n",
            "\u001b[0mLooking in indexes: https://pypi.org/simple, https://us-python.pkg.dev/colab-wheels/public/simple/\n",
            "Collecting casatasks==6.5.2.26\n",
            "  Downloading casatasks-6.5.2.26-py3-none-any.whl (1.8 MB)\n",
            "\u001b[2K     \u001b[90m━━━━━━━━━━━━━━━━━━━━━━━━━━━━━━━━━━━━━━━━\u001b[0m \u001b[32m1.8/1.8 MB\u001b[0m \u001b[31m29.9 MB/s\u001b[0m eta \u001b[36m0:00:00\u001b[0m\n",
            "\u001b[?25hRequirement already satisfied: matplotlib in /usr/local/lib/python3.7/dist-packages (from casatasks==6.5.2.26) (3.2.2)\n",
            "Requirement already satisfied: scipy in /usr/local/lib/python3.7/dist-packages (from casatasks==6.5.2.26) (1.7.3)\n",
            "Requirement already satisfied: casatools==6.5.2.26 in /usr/local/lib/python3.7/dist-packages (from casatasks==6.5.2.26) (6.5.2.26)\n",
            "Requirement already satisfied: certifi in /usr/local/lib/python3.7/dist-packages (from casatasks==6.5.2.26) (2022.9.24)\n",
            "Requirement already satisfied: numpy in /usr/local/lib/python3.7/dist-packages (from casatools==6.5.2.26->casatasks==6.5.2.26) (1.21.6)\n",
            "Requirement already satisfied: pyparsing!=2.0.4,!=2.1.2,!=2.1.6,>=2.0.1 in /usr/local/lib/python3.7/dist-packages (from matplotlib->casatasks==6.5.2.26) (3.0.9)\n",
            "Requirement already satisfied: kiwisolver>=1.0.1 in /usr/local/lib/python3.7/dist-packages (from matplotlib->casatasks==6.5.2.26) (1.4.4)\n",
            "Requirement already satisfied: python-dateutil>=2.1 in /usr/local/lib/python3.7/dist-packages (from matplotlib->casatasks==6.5.2.26) (2.8.2)\n",
            "Requirement already satisfied: cycler>=0.10 in /usr/local/lib/python3.7/dist-packages (from matplotlib->casatasks==6.5.2.26) (0.11.0)\n",
            "Requirement already satisfied: typing-extensions in /usr/local/lib/python3.7/dist-packages (from kiwisolver>=1.0.1->matplotlib->casatasks==6.5.2.26) (4.1.1)\n",
            "Requirement already satisfied: six>=1.5 in /usr/local/lib/python3.7/dist-packages (from python-dateutil>=2.1->matplotlib->casatasks==6.5.2.26) (1.15.0)\n",
            "Installing collected packages: casatasks\n",
            "Successfully installed casatasks-6.5.2.26\n",
            "\u001b[33mWARNING: Running pip as the 'root' user can result in broken permissions and conflicting behaviour with the system package manager. It is recommended to use a virtual environment instead: https://pip.pypa.io/warnings/venv\u001b[0m\u001b[33m\n",
            "\u001b[0mLooking in indexes: https://pypi.org/simple, https://us-python.pkg.dev/colab-wheels/public/simple/\n",
            "Collecting casaplotms==1.8.7\n",
            "  Downloading casaplotms-1.8.7-py3-none-manylinux2010_x86_64.whl (291.5 MB)\n",
            "\u001b[2K     \u001b[90m━━━━━━━━━━━━━━━━━━━━━━━━━━━━━━━━━━━━━━━\u001b[0m \u001b[32m291.5/291.5 MB\u001b[0m \u001b[31m4.3 MB/s\u001b[0m eta \u001b[36m0:00:00\u001b[0m\n",
            "\u001b[?25hRequirement already satisfied: casatasks in /usr/local/lib/python3.7/dist-packages (from casaplotms==1.8.7) (6.5.2.26)\n",
            "Requirement already satisfied: protobuf in /usr/local/lib/python3.7/dist-packages (from casaplotms==1.8.7) (3.17.3)\n",
            "Requirement already satisfied: grpcio in /usr/local/lib/python3.7/dist-packages (from casaplotms==1.8.7) (1.49.1)\n",
            "Requirement already satisfied: scipy in /usr/local/lib/python3.7/dist-packages (from casatasks->casaplotms==1.8.7) (1.7.3)\n",
            "Requirement already satisfied: casatools==6.5.2.26 in /usr/local/lib/python3.7/dist-packages (from casatasks->casaplotms==1.8.7) (6.5.2.26)\n",
            "Requirement already satisfied: matplotlib in /usr/local/lib/python3.7/dist-packages (from casatasks->casaplotms==1.8.7) (3.2.2)\n",
            "Requirement already satisfied: certifi in /usr/local/lib/python3.7/dist-packages (from casatasks->casaplotms==1.8.7) (2022.9.24)\n",
            "Requirement already satisfied: numpy in /usr/local/lib/python3.7/dist-packages (from casatools==6.5.2.26->casatasks->casaplotms==1.8.7) (1.21.6)\n",
            "Requirement already satisfied: six>=1.5.2 in /usr/local/lib/python3.7/dist-packages (from grpcio->casaplotms==1.8.7) (1.15.0)\n",
            "Requirement already satisfied: kiwisolver>=1.0.1 in /usr/local/lib/python3.7/dist-packages (from matplotlib->casatasks->casaplotms==1.8.7) (1.4.4)\n",
            "Requirement already satisfied: pyparsing!=2.0.4,!=2.1.2,!=2.1.6,>=2.0.1 in /usr/local/lib/python3.7/dist-packages (from matplotlib->casatasks->casaplotms==1.8.7) (3.0.9)\n",
            "Requirement already satisfied: cycler>=0.10 in /usr/local/lib/python3.7/dist-packages (from matplotlib->casatasks->casaplotms==1.8.7) (0.11.0)\n",
            "Requirement already satisfied: python-dateutil>=2.1 in /usr/local/lib/python3.7/dist-packages (from matplotlib->casatasks->casaplotms==1.8.7) (2.8.2)\n",
            "Requirement already satisfied: typing-extensions in /usr/local/lib/python3.7/dist-packages (from kiwisolver>=1.0.1->matplotlib->casatasks->casaplotms==1.8.7) (4.1.1)\n",
            "Installing collected packages: casaplotms\n",
            "Successfully installed casaplotms-1.8.7\n",
            "\u001b[33mWARNING: Running pip as the 'root' user can result in broken permissions and conflicting behaviour with the system package manager. It is recommended to use a virtual environment instead: https://pip.pypa.io/warnings/venv\u001b[0m\u001b[33m\n",
            "\u001b[0m"
          ]
        }
      ]
    },
    {
      "cell_type": "code",
      "source": [
        "!pip install casadata==2022.7.18\n",
        "!pip install casatools==6.5.1.23\n",
        "!pip install casatasks==6.5.1.23\n",
        "!pip install casaplotms==1.7.3"
      ],
      "metadata": {
        "id": "mERef0XsC2j4"
      },
      "execution_count": null,
      "outputs": []
    },
    {
      "cell_type": "markdown",
      "source": [
        "## Getting started"
      ],
      "metadata": {
        "id": "HtS83F56D7zX"
      }
    },
    {
      "cell_type": "code",
      "source": [
        "from IPython.display import Image\n",
        "import casaplotms\n",
        "from casaplotms import plotms\n",
        "from casatasks import flagdata\n",
        "from casatasks import listobs"
      ],
      "metadata": {
        "id": "oscutfd4EhaK"
      },
      "execution_count": 6,
      "outputs": []
    },
    {
      "cell_type": "code",
      "source": [
        "import casatasks\n",
        "help(casatasks)"
      ],
      "metadata": {
        "colab": {
          "base_uri": "https://localhost:8080/"
        },
        "id": "AZx7n1KeD7ds",
        "outputId": "0b799fea-9891-4501-bed8-37e2e01e5268"
      },
      "execution_count": 7,
      "outputs": [
        {
          "output_type": "stream",
          "name": "stdout",
          "text": [
            "Help on package casatasks:\n",
            "\n",
            "NAME\n",
            "    casatasks\n",
            "\n",
            "DESCRIPTION\n",
            "    ###########################################################################\n",
            "    ########################## generated by setup.py ##########################\n",
            "    ###########################################################################\n",
            "\n",
            "PACKAGE CONTENTS\n",
            "    __main__\n",
            "    accor\n",
            "    apparentsens\n",
            "    applycal\n",
            "    asdmsummary\n",
            "    bandpass\n",
            "    blcal\n",
            "    calstat\n",
            "    clearcal\n",
            "    clearstat\n",
            "    concat\n",
            "    config\n",
            "    conjugatevis\n",
            "    cvel\n",
            "    cvel2\n",
            "    deconvolve\n",
            "    delmod\n",
            "    exportasdm\n",
            "    exportfits\n",
            "    exportuvfits\n",
            "    feather\n",
            "    fixplanets\n",
            "    fixvis\n",
            "    flagcmd\n",
            "    flagdata\n",
            "    flagmanager\n",
            "    fluxscale\n",
            "    fringefit\n",
            "    ft\n",
            "    gaincal\n",
            "    gencal\n",
            "    hanningsmooth\n",
            "    imbaseline\n",
            "    imcollapse\n",
            "    imcontsub\n",
            "    imdev\n",
            "    imfit\n",
            "    imhead\n",
            "    imhistory\n",
            "    immath\n",
            "    immoments\n",
            "    impbcor\n",
            "    importasap\n",
            "    importasdm\n",
            "    importatca\n",
            "    importfits\n",
            "    importfitsidi\n",
            "    importgmrt\n",
            "    importmiriad\n",
            "    importnro\n",
            "    importuvfits\n",
            "    importvla\n",
            "    impv\n",
            "    imrebin\n",
            "    imreframe\n",
            "    imregrid\n",
            "    imsmooth\n",
            "    imstat\n",
            "    imsubimage\n",
            "    imtrans\n",
            "    imval\n",
            "    initweights\n",
            "    listcal\n",
            "    listfits\n",
            "    listhistory\n",
            "    listobs\n",
            "    listpartition\n",
            "    listsdm\n",
            "    listvis\n",
            "    makemask\n",
            "    mstransform\n",
            "    nrobeamaverage\n",
            "    partition\n",
            "    phaseshift\n",
            "    plotants\n",
            "    plotbandpass\n",
            "    plotprofilemap\n",
            "    plotweather\n",
            "    polcal\n",
            "    polfromgain\n",
            "    predictcomp\n",
            "    rerefant\n",
            "    rmfit\n",
            "    rmtables\n",
            "    sdatmcor\n",
            "    sdbaseline\n",
            "    sdcal\n",
            "    sdfit\n",
            "    sdfixscan\n",
            "    sdgaincal\n",
            "    sdimaging\n",
            "    sdintimaging\n",
            "    sdpolaverage\n",
            "    sdsidebandsplit\n",
            "    sdsmooth\n",
            "    sdtimeaverage\n",
            "    setjy\n",
            "    simalma\n",
            "    simanalyze\n",
            "    simobserve\n",
            "    slsearch\n",
            "    smoothcal\n",
            "    specfit\n",
            "    specflux\n",
            "    specsmooth\n",
            "    splattotable\n",
            "    split\n",
            "    spxfit\n",
            "    statwt\n",
            "    tclean\n",
            "    testconcat\n",
            "    tsdimaging\n",
            "    uvcontsub\n",
            "    uvcontsub_old\n",
            "    uvmodelfit\n",
            "    uvsub\n",
            "    virtualconcat\n",
            "    vishead\n",
            "    visstat\n",
            "    widebandpbcor\n",
            "\n",
            "SUBMODULES\n",
            "    private\n",
            "\n",
            "FUNCTIONS\n",
            "    version()\n",
            "    \n",
            "    version_string()\n",
            "\n",
            "DATA\n",
            "    __all__ = ['casalog', 'version', 'version_string', 'imhead', 'immoment...\n",
            "    accor = <casatasks.accor._accor object>\n",
            "    apparentsens = <casatasks.apparentsens._apparentsens object>\n",
            "    applycal = <casatasks.applycal._applycal object>\n",
            "    asdmsummary = <casatasks.asdmsummary._asdmsummary object>\n",
            "    bandpass = <casatasks.bandpass._bandpass object>\n",
            "    blcal = <casatasks.blcal._blcal object>\n",
            "    calstat = <casatasks.calstat._calstat object>\n",
            "    casalog = <casatools.logsink.logsink object>\n",
            "    clearcal = <casatasks.clearcal._clearcal object>\n",
            "    clearstat = <casatasks.clearstat._clearstat object>\n",
            "    concat = <casatasks.concat._concat object>\n",
            "    conjugatevis = <casatasks.conjugatevis._conjugatevis object>\n",
            "    cvel = <casatasks.cvel._cvel object>\n",
            "    cvel2 = <casatasks.cvel2._cvel2 object>\n",
            "    deconvolve = <casatasks.deconvolve._deconvolve object>\n",
            "    delmod = <casatasks.delmod._delmod object>\n",
            "    exportasdm = <casatasks.exportasdm._exportasdm object>\n",
            "    exportfits = <casatasks.exportfits._exportfits object>\n",
            "    exportuvfits = <casatasks.exportuvfits._exportuvfits object>\n",
            "    feather = <casatasks.feather._feather object>\n",
            "    fixplanets = <casatasks.fixplanets._fixplanets object>\n",
            "    fixvis = <casatasks.fixvis._fixvis object>\n",
            "    flagcmd = <casatasks.flagcmd._flagcmd object>\n",
            "    flagdata = <casatasks.flagdata._flagdata object>\n",
            "    flagmanager = <casatasks.flagmanager._flagmanager object>\n",
            "    fluxscale = <casatasks.fluxscale._fluxscale object>\n",
            "    fringefit = <casatasks.fringefit._fringefit object>\n",
            "    ft = <casatasks.ft._ft object>\n",
            "    gaincal = <casatasks.gaincal._gaincal object>\n",
            "    gencal = <casatasks.gencal._gencal object>\n",
            "    hanningsmooth = <casatasks.hanningsmooth._hanningsmooth object>\n",
            "    imbaseline = <casatasks.imbaseline._imbaseline object>\n",
            "    imcollapse = <casatasks.imcollapse._imcollapse object>\n",
            "    imcontsub = <casatasks.imcontsub._imcontsub object>\n",
            "    imdev = <casatasks.imdev._imdev object>\n",
            "    imfit = <casatasks.imfit._imfit object>\n",
            "    imhead = <casatasks.imhead._imhead object>\n",
            "    imhistory = <casatasks.imhistory._imhistory object>\n",
            "    immath = <casatasks.immath._immath object>\n",
            "    immoments = <casatasks.immoments._immoments object>\n",
            "    impbcor = <casatasks.impbcor._impbcor object>\n",
            "    importasap = <casatasks.importasap._importasap object>\n",
            "    importasdm = <casatasks.importasdm._importasdm object>\n",
            "    importatca = <casatasks.importatca._importatca object>\n",
            "    importfits = <casatasks.importfits._importfits object>\n",
            "    importfitsidi = <casatasks.importfitsidi._importfitsidi object>\n",
            "    importgmrt = <casatasks.importgmrt._importgmrt object>\n",
            "    importmiriad = <casatasks.importmiriad._importmiriad object>\n",
            "    importnro = <casatasks.importnro._importnro object>\n",
            "    importuvfits = <casatasks.importuvfits._importuvfits object>\n",
            "    importvla = <casatasks.importvla._importvla object>\n",
            "    impv = <casatasks.impv._impv object>\n",
            "    imrebin = <casatasks.imrebin._imrebin object>\n",
            "    imreframe = <casatasks.imreframe._imreframe object>\n",
            "    imregrid = <casatasks.imregrid._imregrid object>\n",
            "    imsmooth = <casatasks.imsmooth._imsmooth object>\n",
            "    imstat = <casatasks.imstat._imstat object>\n",
            "    imsubimage = <casatasks.imsubimage._imsubimage object>\n",
            "    imtrans = <casatasks.imtrans._imtrans object>\n",
            "    imval = <casatasks.imval._imval object>\n",
            "    initweights = <casatasks.initweights._initweights object>\n",
            "    listcal = <casatasks.listcal._listcal object>\n",
            "    listfits = <casatasks.listfits._listfits object>\n",
            "    listhistory = <casatasks.listhistory._listhistory object>\n",
            "    listobs = <casatasks.listobs._listobs object>\n",
            "    listpartition = <casatasks.listpartition._listpartition object>\n",
            "    listsdm = <casatasks.listsdm._listsdm object>\n",
            "    listvis = <casatasks.listvis._listvis object>\n",
            "    makemask = <casatasks.makemask._makemask object>\n",
            "    mstransform = <casatasks.mstransform._mstransform object>\n",
            "    nrobeamaverage = <casatasks.nrobeamaverage._nrobeamaverage object>\n",
            "    partition = <casatasks.partition._partition object>\n",
            "    phaseshift = <casatasks.phaseshift._phaseshift object>\n",
            "    plotants = <casatasks.plotants._plotants object>\n",
            "    plotbandpass = <casatasks.plotbandpass._plotbandpass object>\n",
            "    plotprofilemap = <casatasks.plotprofilemap._plotprofilemap object>\n",
            "    plotweather = <casatasks.plotweather._plotweather object>\n",
            "    polcal = <casatasks.polcal._polcal object>\n",
            "    polfromgain = <casatasks.polfromgain._polfromgain object>\n",
            "    predictcomp = <casatasks.predictcomp._predictcomp object>\n",
            "    rerefant = <casatasks.rerefant._rerefant object>\n",
            "    rmfit = <casatasks.rmfit._rmfit object>\n",
            "    rmtables = <casatasks.rmtables._rmtables object>\n",
            "    sdatmcor = <casatasks.sdatmcor._sdatmcor object>\n",
            "    sdbaseline = <casatasks.sdbaseline._sdbaseline object>\n",
            "    sdcal = <casatasks.sdcal._sdcal object>\n",
            "    sdfit = <casatasks.sdfit._sdfit object>\n",
            "    sdfixscan = <casatasks.sdfixscan._sdfixscan object>\n",
            "    sdgaincal = <casatasks.sdgaincal._sdgaincal object>\n",
            "    sdimaging = <casatasks.sdimaging._sdimaging object>\n",
            "    sdintimaging = <casatasks.sdintimaging._sdintimaging object>\n",
            "    sdpolaverage = <casatasks.sdpolaverage._sdpolaverage object>\n",
            "    sdsidebandsplit = <casatasks.sdsidebandsplit._sdsidebandsplit object>\n",
            "    sdsmooth = <casatasks.sdsmooth._sdsmooth object>\n",
            "    sdtimeaverage = <casatasks.sdtimeaverage._sdtimeaverage object>\n",
            "    setjy = <casatasks.setjy._setjy object>\n",
            "    simalma = <casatasks.simalma._simalma object>\n",
            "    simanalyze = <casatasks.simanalyze._simanalyze object>\n",
            "    simobserve = <casatasks.simobserve._simobserve object>\n",
            "    slsearch = <casatasks.slsearch._slsearch object>\n",
            "    smoothcal = <casatasks.smoothcal._smoothcal object>\n",
            "    specfit = <casatasks.specfit._specfit object>\n",
            "    specflux = <casatasks.specflux._specflux object>\n",
            "    specsmooth = <casatasks.specsmooth._specsmooth object>\n",
            "    splattotable = <casatasks.splattotable._splattotable object>\n",
            "    split = <casatasks.split._split object>\n",
            "    spxfit = <casatasks.spxfit._spxfit object>\n",
            "    statwt = <casatasks.statwt._statwt object>\n",
            "    tclean = <casatasks.tclean._tclean object>\n",
            "    testconcat = <casatasks.testconcat._testconcat object>\n",
            "    tsdimaging = <casatasks.tsdimaging._tsdimaging object>\n",
            "    uvcontsub = <casatasks.uvcontsub._uvcontsub object>\n",
            "    uvcontsub_old = <casatasks.uvcontsub_old._uvcontsub_old object>\n",
            "    uvmodelfit = <casatasks.uvmodelfit._uvmodelfit object>\n",
            "    uvsub = <casatasks.uvsub._uvsub object>\n",
            "    virtualconcat = <casatasks.virtualconcat._virtualconcat object>\n",
            "    vishead = <casatasks.vishead._vishead object>\n",
            "    visstat = <casatasks.visstat._visstat object>\n",
            "    widebandpbcor = <casatasks.widebandpbcor._widebandpbcor object>\n",
            "\n",
            "FILE\n",
            "    /usr/local/lib/python3.7/dist-packages/casatasks/__init__.py\n",
            "\n",
            "\n"
          ]
        }
      ]
    },
    {
      "cell_type": "markdown",
      "source": [
        "# Tart workspace\n",
        "\n",
        "Create example MS from TART JSON data file"
      ],
      "metadata": {
        "id": "uYwsIUKJD6BB"
      }
    },
    {
      "cell_type": "markdown",
      "source": [
        "## Installation\n",
        "\n",
        "To obtain newest development install directly from github repository:    \n",
        "`!pip install -U git+https://github.com/tart-telescope/tart2ms.git`"
      ],
      "metadata": {
        "id": "joeNyLCBFXu9"
      }
    },
    {
      "cell_type": "code",
      "source": [
        "!pip install tart2ms==999"
      ],
      "metadata": {
        "colab": {
          "base_uri": "https://localhost:8080/"
        },
        "id": "0mGE89sSl2DC",
        "outputId": "38b7086e-44e3-4e47-8d7b-a3db9eb24dd0"
      },
      "execution_count": 8,
      "outputs": [
        {
          "output_type": "stream",
          "name": "stdout",
          "text": [
            "Looking in indexes: https://pypi.org/simple, https://us-python.pkg.dev/colab-wheels/public/simple/\n",
            "\u001b[31mERROR: Could not find a version that satisfies the requirement tart2ms==999 (from versions: 0.1.0b4, 0.1.0b5, 0.1.1b5, 0.1.1b6, 0.1.2b1, 0.1.3b1, 0.1.3b3, 0.1.4b1, 0.1.4b2, 0.1.4b3, 0.1.4b4, 0.2.0b2, 0.2.1b3, 0.2.1b4)\u001b[0m\u001b[31m\n",
            "\u001b[0m\u001b[31mERROR: No matching distribution found for tart2ms==999\u001b[0m\u001b[31m\n",
            "\u001b[0m"
          ]
        }
      ]
    },
    {
      "cell_type": "code",
      "source": [
        "!pip install tart2ms==0.2.1b4"
      ],
      "metadata": {
        "colab": {
          "base_uri": "https://localhost:8080/"
        },
        "id": "hdo8gXX3orqF",
        "outputId": "4064a85c-971f-40f2-aa9b-678ca859dd8d"
      },
      "execution_count": 9,
      "outputs": [
        {
          "output_type": "stream",
          "name": "stdout",
          "text": [
            "Looking in indexes: https://pypi.org/simple, https://us-python.pkg.dev/colab-wheels/public/simple/\n",
            "Collecting tart2ms==0.2.1b4\n",
            "  Downloading tart2ms-0.2.1b4-py3-none-any.whl (22 kB)\n",
            "Collecting dask-ms\n",
            "  Downloading dask_ms-0.2.9-py3-none-any.whl (120 kB)\n",
            "\u001b[2K     \u001b[90m━━━━━━━━━━━━━━━━━━━━━━━━━━━━━━━━━━━━━━━\u001b[0m \u001b[32m120.6/120.6 kB\u001b[0m \u001b[31m4.2 MB/s\u001b[0m eta \u001b[36m0:00:00\u001b[0m\n",
            "\u001b[?25hRequirement already satisfied: astropy in /usr/local/lib/python3.7/dist-packages (from tart2ms==0.2.1b4) (4.3.1)\n",
            "Requirement already satisfied: numpy in /usr/local/lib/python3.7/dist-packages (from tart2ms==0.2.1b4) (1.21.6)\n",
            "Requirement already satisfied: h5py in /usr/local/lib/python3.7/dist-packages (from tart2ms==0.2.1b4) (3.1.0)\n",
            "Collecting python-casacore\n",
            "  Downloading python_casacore-3.5.2-cp37-cp37m-manylinux_2_17_x86_64.manylinux2014_x86_64.whl (35.0 MB)\n",
            "\u001b[2K     \u001b[90m━━━━━━━━━━━━━━━━━━━━━━━━━━━━━━━━━━━━━━━━\u001b[0m \u001b[32m35.0/35.0 MB\u001b[0m \u001b[31m30.0 MB/s\u001b[0m eta \u001b[36m0:00:00\u001b[0m\n",
            "\u001b[?25hCollecting tart-tools\n",
            "  Downloading tart_tools-1.1.0b9-py3-none-any.whl (36 kB)\n",
            "Collecting tart\n",
            "  Downloading tart-1.1.0b9-py3-none-any.whl (105 kB)\n",
            "\u001b[2K     \u001b[90m━━━━━━━━━━━━━━━━━━━━━━━━━━━━━━━━━━━━━━\u001b[0m \u001b[32m105.8/105.8 kB\u001b[0m \u001b[31m11.8 MB/s\u001b[0m eta \u001b[36m0:00:00\u001b[0m\n",
            "\u001b[?25hRequirement already satisfied: importlib-metadata in /usr/local/lib/python3.7/dist-packages (from astropy->tart2ms==0.2.1b4) (5.0.0)\n",
            "Requirement already satisfied: pyerfa>=1.7.3 in /usr/local/lib/python3.7/dist-packages (from astropy->tart2ms==0.2.1b4) (2.0.0.1)\n",
            "Requirement already satisfied: dask[array]>=2.2.0 in /usr/local/lib/python3.7/dist-packages (from dask-ms->tart2ms==0.2.1b4) (2022.2.0)\n",
            "Requirement already satisfied: six in /usr/local/lib/python3.7/dist-packages (from python-casacore->tart2ms==0.2.1b4) (1.15.0)\n",
            "Requirement already satisfied: cached-property in /usr/local/lib/python3.7/dist-packages (from h5py->tart2ms==0.2.1b4) (1.5.2)\n",
            "Requirement already satisfied: matplotlib in /usr/local/lib/python3.7/dist-packages (from tart->tart2ms==0.2.1b4) (3.2.2)\n",
            "Collecting healpy\n",
            "  Downloading healpy-1.16.1-cp37-cp37m-manylinux_2_17_x86_64.manylinux2014_x86_64.whl (23.7 MB)\n",
            "\u001b[2K     \u001b[90m━━━━━━━━━━━━━━━━━━━━━━━━━━━━━━━━━━━━━━━━\u001b[0m \u001b[32m23.7/23.7 MB\u001b[0m \u001b[31m56.3 MB/s\u001b[0m eta \u001b[36m0:00:00\u001b[0m\n",
            "\u001b[?25hRequirement already satisfied: packaging>=20.0 in /usr/local/lib/python3.7/dist-packages (from dask[array]>=2.2.0->dask-ms->tart2ms==0.2.1b4) (21.3)\n",
            "Requirement already satisfied: fsspec>=0.6.0 in /usr/local/lib/python3.7/dist-packages (from dask[array]>=2.2.0->dask-ms->tart2ms==0.2.1b4) (2022.8.2)\n",
            "Requirement already satisfied: partd>=0.3.10 in /usr/local/lib/python3.7/dist-packages (from dask[array]>=2.2.0->dask-ms->tart2ms==0.2.1b4) (1.3.0)\n",
            "Requirement already satisfied: cloudpickle>=1.1.1 in /usr/local/lib/python3.7/dist-packages (from dask[array]>=2.2.0->dask-ms->tart2ms==0.2.1b4) (1.5.0)\n",
            "Requirement already satisfied: toolz>=0.8.2 in /usr/local/lib/python3.7/dist-packages (from dask[array]>=2.2.0->dask-ms->tart2ms==0.2.1b4) (0.12.0)\n",
            "Requirement already satisfied: pyyaml>=5.3.1 in /usr/local/lib/python3.7/dist-packages (from dask[array]>=2.2.0->dask-ms->tart2ms==0.2.1b4) (6.0)\n",
            "Requirement already satisfied: scipy in /usr/local/lib/python3.7/dist-packages (from healpy->tart->tart2ms==0.2.1b4) (1.7.3)\n",
            "Requirement already satisfied: typing-extensions>=3.6.4 in /usr/local/lib/python3.7/dist-packages (from importlib-metadata->astropy->tart2ms==0.2.1b4) (4.1.1)\n",
            "Requirement already satisfied: zipp>=0.5 in /usr/local/lib/python3.7/dist-packages (from importlib-metadata->astropy->tart2ms==0.2.1b4) (3.9.0)\n",
            "Requirement already satisfied: python-dateutil>=2.1 in /usr/local/lib/python3.7/dist-packages (from matplotlib->tart->tart2ms==0.2.1b4) (2.8.2)\n",
            "Requirement already satisfied: pyparsing!=2.0.4,!=2.1.2,!=2.1.6,>=2.0.1 in /usr/local/lib/python3.7/dist-packages (from matplotlib->tart->tart2ms==0.2.1b4) (3.0.9)\n",
            "Requirement already satisfied: kiwisolver>=1.0.1 in /usr/local/lib/python3.7/dist-packages (from matplotlib->tart->tart2ms==0.2.1b4) (1.4.4)\n",
            "Requirement already satisfied: cycler>=0.10 in /usr/local/lib/python3.7/dist-packages (from matplotlib->tart->tart2ms==0.2.1b4) (0.11.0)\n",
            "Requirement already satisfied: locket in /usr/local/lib/python3.7/dist-packages (from partd>=0.3.10->dask[array]>=2.2.0->dask-ms->tart2ms==0.2.1b4) (1.0.0)\n",
            "Installing collected packages: python-casacore, healpy, tart, dask-ms, tart-tools, tart2ms\n",
            "Successfully installed dask-ms-0.2.9 healpy-1.16.1 python-casacore-3.5.2 tart-1.1.0b9 tart-tools-1.1.0b9 tart2ms-0.2.1b4\n",
            "\u001b[33mWARNING: Running pip as the 'root' user can result in broken permissions and conflicting behaviour with the system package manager. It is recommended to use a virtual environment instead: https://pip.pypa.io/warnings/venv\u001b[0m\u001b[33m\n",
            "\u001b[0m"
          ]
        }
      ]
    },
    {
      "cell_type": "code",
      "source": [
        "!tart2ms -h"
      ],
      "metadata": {
        "colab": {
          "base_uri": "https://localhost:8080/"
        },
        "id": "wQpBydNul_jP",
        "outputId": "50c99a9b-fe31-4213-de20-4aa597323888"
      },
      "execution_count": 10,
      "outputs": [
        {
          "output_type": "stream",
          "name": "stdout",
          "text": [
            "usage: tart2ms [-h] [--json JSON] [--hdf HDF] [--ms MS] [--api API]\n",
            "               [--catalog CATALOG] [--vis VIS] [--pol2]\n",
            "\n",
            "Generate measurement set from a JSON file from the TART radio telescope.\n",
            "\n",
            "optional arguments:\n",
            "  -h, --help         show this help message and exit\n",
            "  --json JSON        Snapshot observation JSON file (visiblities, positions\n",
            "                     and more). (default: None)\n",
            "  --hdf HDF          Visibility hdf5 file (One minutes worth of visibility\n",
            "                     data). (default: None)\n",
            "  --ms MS            Output MS table name. (default: tart.ms)\n",
            "  --api API          Telescope API server URL. (default:\n",
            "                     https://tart.elec.ac.nz/signal)\n",
            "  --catalog CATALOG  Catalog API URL. (default:\n",
            "                     https://tart.elec.ac.nz/catalog)\n",
            "  --vis VIS          Use a local JSON file containing the visibilities for\n",
            "                     visibility data (default: None)\n",
            "  --pol2             Fake a second polarization. Some pipelines choke if there\n",
            "                     is only one. (default: False)\n"
          ]
        }
      ]
    },
    {
      "cell_type": "markdown",
      "source": [
        "## Example data\n",
        "Read data from drive for easy access"
      ],
      "metadata": {
        "id": "8o-3LYqFGoAB"
      }
    },
    {
      "cell_type": "code",
      "source": [
        "from google.colab import drive\n",
        "drive.mount('/content/drive')"
      ],
      "metadata": {
        "colab": {
          "base_uri": "https://localhost:8080/"
        },
        "id": "_MJjEtscD6nw",
        "outputId": "ac493297-a8d0-4c25-fc04-eb2eef8acf45"
      },
      "execution_count": 11,
      "outputs": [
        {
          "output_type": "stream",
          "name": "stdout",
          "text": [
            "Mounted at /content/drive\n"
          ]
        }
      ]
    },
    {
      "cell_type": "markdown",
      "source": [
        "Create symbolic link in the /content top layer folder for each processing. Use the appropriate path to the example dataset you copied to your drive\n",
        "\n",
        "NOTE: update the path below to the appropriate directory in drive where you copied the data"
      ],
      "metadata": {
        "id": "AWxsTaC-Sin1"
      }
    },
    {
      "cell_type": "code",
      "source": [
        "!ln -s \"/content/drive/MyDrive/RARG/TART/data/data_test.json\""
      ],
      "metadata": {
        "id": "dtmFi6_p9qKY"
      },
      "execution_count": 12,
      "outputs": []
    },
    {
      "cell_type": "markdown",
      "source": [
        "Convert example JSON file to a measurement set (MS)   "
      ],
      "metadata": {
        "id": "hGHu0wkRALuo"
      }
    },
    {
      "cell_type": "code",
      "source": [
        "!tart2ms --json data_test.json --ms data_test.ms"
      ],
      "metadata": {
        "colab": {
          "base_uri": "https://localhost:8080/"
        },
        "id": "Zw8H25ag-Olc",
        "outputId": "c0f5601a-6a5f-4e05-cd32-036bb2113627"
      },
      "execution_count": 13,
      "outputs": [
        {
          "output_type": "stream",
          "name": "stdout",
          "text": [
            "Getting Data from file: data_test.json\n",
            "Writing measurement set 'data_test.ms'...\n",
            "2022-10-17 06:44:57,549 - root - INFO - Time 5071671511.991\n",
            "/usr/local/lib/python3.7/dist-packages/astropy/time/utils.py:179: RuntimeWarning: overflow encountered in double_scalars\n",
            "  c = 134217729. * a  # 2**27+1.\n",
            "/usr/local/lib/python3.7/dist-packages/astropy/time/utils.py:181: RuntimeWarning: invalid value encountered in double_scalars\n",
            "  ah = c - abig\n",
            "\u001b[0;39mDownloading https://hpiers.obspm.fr/iers/bul/bulc/Leap_Second.dat\u001b[0m\n",
            "|\u001b[0;34m===========================================\u001b[0m| 1.3k/1.3k (100.00%)         0s\n",
            "\u001b[0;39mDownloading https://www.ietf.org/timezones/data/leap-seconds.list\u001b[0m\u001b[0;32m [Done]\u001b[0m\n",
            "\u001b[0;39mDownloading https://astroconda.org/aux/astropy_mirror/iers_a_1/finals2000A.all\u001b[0m\n",
            "|\u001b[0;34m===========================================\u001b[0m| 3.2M/3.2M (100.00%)         0s\n",
            "2022-10-17 06:45:00,052 - root - INFO - Pol Feeds ['RR']\n",
            "2022-10-17 06:45:00,052 - root - INFO - Correlation Types [[5]]\n",
            "2022-10-17 06:45:00,061 - root - INFO - Pol Types ['RR']\n",
            "2022-10-17 06:45:00,062 - root - INFO - Pol Responses [[0.7071067811865475, (-0-0.7071067811865475j)]]\n",
            "2022-10-17 06:45:00,528 - root - INFO - Corr Prod [[0 0]]\n",
            "2022-10-17 06:45:00,529 - root - INFO - Corr Type [5]\n",
            "2022-10-17 06:45:00,529 - root - INFO - NUM_CORR dask.array<full_like, shape=(1,), dtype=int32, chunksize=(1,), chunktype=numpy.ndarray>\n",
            "2022-10-17 06:45:00,530 - root - INFO - Dask Corr Prod (1, 1, 2)\n",
            "2022-10-17 06:45:00,530 - root - INFO - Dask Corr Type (1, 1)\n",
            "2022-10-17 06:45:00,533 - root - INFO - Data size 276 1 1\n",
            "Measurement set writing complete.\n"
          ]
        }
      ]
    },
    {
      "cell_type": "markdown",
      "source": [
        "# Reading example MS with CASA"
      ],
      "metadata": {
        "id": "IGZs4dlAFmNj"
      }
    },
    {
      "cell_type": "code",
      "source": [
        "msfile = \"data_test.ms\"\n",
        "listobs(vis=msfile)"
      ],
      "metadata": {
        "colab": {
          "base_uri": "https://localhost:8080/",
          "height": 336
        },
        "id": "htGnDmbJSlk5",
        "outputId": "1efe3fa0-50b6-4786-b63f-d1b7b7908f99"
      },
      "execution_count": 14,
      "outputs": [
        {
          "output_type": "error",
          "ename": "RuntimeError",
          "evalue": "ignored",
          "traceback": [
            "\u001b[0;31m---------------------------------------------------------------------------\u001b[0m",
            "\u001b[0;31mRuntimeError\u001b[0m                              Traceback (most recent call last)",
            "\u001b[0;32m<ipython-input-14-05d0ee21b7eb>\u001b[0m in \u001b[0;36m<module>\u001b[0;34m\u001b[0m\n\u001b[1;32m      1\u001b[0m \u001b[0mmsfile\u001b[0m \u001b[0;34m=\u001b[0m \u001b[0;34m\"data_test.ms\"\u001b[0m\u001b[0;34m\u001b[0m\u001b[0;34m\u001b[0m\u001b[0m\n\u001b[0;32m----> 2\u001b[0;31m \u001b[0mlistobs\u001b[0m\u001b[0;34m(\u001b[0m\u001b[0mvis\u001b[0m\u001b[0;34m=\u001b[0m\u001b[0mmsfile\u001b[0m\u001b[0;34m)\u001b[0m\u001b[0;34m\u001b[0m\u001b[0;34m\u001b[0m\u001b[0m\n\u001b[0m",
            "\u001b[0;32m/usr/local/lib/python3.7/dist-packages/casatasks/listobs.py\u001b[0m in \u001b[0;36m__call__\u001b[0;34m(self, vis, selectdata, spw, field, antenna, uvrange, timerange, correlation, scan, intent, feed, array, observation, verbose, listfile, listunfl, cachesize, overwrite)\u001b[0m\n\u001b[1;32m    157\u001b[0m         \u001b[0mtask_result\u001b[0m \u001b[0;34m=\u001b[0m \u001b[0;32mNone\u001b[0m\u001b[0;34m\u001b[0m\u001b[0;34m\u001b[0m\u001b[0m\n\u001b[1;32m    158\u001b[0m         \u001b[0;32mtry\u001b[0m\u001b[0;34m:\u001b[0m\u001b[0;34m\u001b[0m\u001b[0;34m\u001b[0m\u001b[0m\n\u001b[0;32m--> 159\u001b[0;31m             \u001b[0mtask_result\u001b[0m \u001b[0;34m=\u001b[0m \u001b[0m_listobs_t\u001b[0m\u001b[0;34m(\u001b[0m \u001b[0m_pc\u001b[0m\u001b[0;34m.\u001b[0m\u001b[0mdocument\u001b[0m\u001b[0;34m[\u001b[0m\u001b[0;34m'vis'\u001b[0m\u001b[0;34m]\u001b[0m\u001b[0;34m,\u001b[0m \u001b[0m_pc\u001b[0m\u001b[0;34m.\u001b[0m\u001b[0mdocument\u001b[0m\u001b[0;34m[\u001b[0m\u001b[0;34m'selectdata'\u001b[0m\u001b[0;34m]\u001b[0m\u001b[0;34m,\u001b[0m \u001b[0m_pc\u001b[0m\u001b[0;34m.\u001b[0m\u001b[0mdocument\u001b[0m\u001b[0;34m[\u001b[0m\u001b[0;34m'spw'\u001b[0m\u001b[0;34m]\u001b[0m\u001b[0;34m,\u001b[0m \u001b[0m_pc\u001b[0m\u001b[0;34m.\u001b[0m\u001b[0mdocument\u001b[0m\u001b[0;34m[\u001b[0m\u001b[0;34m'field'\u001b[0m\u001b[0;34m]\u001b[0m\u001b[0;34m,\u001b[0m \u001b[0m_pc\u001b[0m\u001b[0;34m.\u001b[0m\u001b[0mdocument\u001b[0m\u001b[0;34m[\u001b[0m\u001b[0;34m'antenna'\u001b[0m\u001b[0;34m]\u001b[0m\u001b[0;34m,\u001b[0m \u001b[0m_pc\u001b[0m\u001b[0;34m.\u001b[0m\u001b[0mdocument\u001b[0m\u001b[0;34m[\u001b[0m\u001b[0;34m'uvrange'\u001b[0m\u001b[0;34m]\u001b[0m\u001b[0;34m,\u001b[0m \u001b[0m_pc\u001b[0m\u001b[0;34m.\u001b[0m\u001b[0mdocument\u001b[0m\u001b[0;34m[\u001b[0m\u001b[0;34m'timerange'\u001b[0m\u001b[0;34m]\u001b[0m\u001b[0;34m,\u001b[0m \u001b[0m_pc\u001b[0m\u001b[0;34m.\u001b[0m\u001b[0mdocument\u001b[0m\u001b[0;34m[\u001b[0m\u001b[0;34m'correlation'\u001b[0m\u001b[0;34m]\u001b[0m\u001b[0;34m,\u001b[0m \u001b[0m_pc\u001b[0m\u001b[0;34m.\u001b[0m\u001b[0mdocument\u001b[0m\u001b[0;34m[\u001b[0m\u001b[0;34m'scan'\u001b[0m\u001b[0;34m]\u001b[0m\u001b[0;34m,\u001b[0m \u001b[0m_pc\u001b[0m\u001b[0;34m.\u001b[0m\u001b[0mdocument\u001b[0m\u001b[0;34m[\u001b[0m\u001b[0;34m'intent'\u001b[0m\u001b[0;34m]\u001b[0m\u001b[0;34m,\u001b[0m \u001b[0m_pc\u001b[0m\u001b[0;34m.\u001b[0m\u001b[0mdocument\u001b[0m\u001b[0;34m[\u001b[0m\u001b[0;34m'feed'\u001b[0m\u001b[0;34m]\u001b[0m\u001b[0;34m,\u001b[0m \u001b[0m_pc\u001b[0m\u001b[0;34m.\u001b[0m\u001b[0mdocument\u001b[0m\u001b[0;34m[\u001b[0m\u001b[0;34m'array'\u001b[0m\u001b[0;34m]\u001b[0m\u001b[0;34m,\u001b[0m \u001b[0m_pc\u001b[0m\u001b[0;34m.\u001b[0m\u001b[0mdocument\u001b[0m\u001b[0;34m[\u001b[0m\u001b[0;34m'observation'\u001b[0m\u001b[0;34m]\u001b[0m\u001b[0;34m,\u001b[0m \u001b[0m_pc\u001b[0m\u001b[0;34m.\u001b[0m\u001b[0mdocument\u001b[0m\u001b[0;34m[\u001b[0m\u001b[0;34m'verbose'\u001b[0m\u001b[0;34m]\u001b[0m\u001b[0;34m,\u001b[0m \u001b[0m_pc\u001b[0m\u001b[0;34m.\u001b[0m\u001b[0mdocument\u001b[0m\u001b[0;34m[\u001b[0m\u001b[0;34m'li...\n\u001b[0m\u001b[1;32m    160\u001b[0m         \u001b[0;32mexcept\u001b[0m \u001b[0mException\u001b[0m \u001b[0;32mas\u001b[0m \u001b[0mexc\u001b[0m\u001b[0;34m:\u001b[0m\u001b[0;34m\u001b[0m\u001b[0;34m\u001b[0m\u001b[0m\n\u001b[1;32m    161\u001b[0m             \u001b[0m_except_log\u001b[0m\u001b[0;34m(\u001b[0m\u001b[0;34m'listobs'\u001b[0m\u001b[0;34m,\u001b[0m \u001b[0mexc\u001b[0m\u001b[0;34m)\u001b[0m\u001b[0;34m\u001b[0m\u001b[0;34m\u001b[0m\u001b[0m\n",
            "\u001b[0;32m/usr/local/lib/python3.7/dist-packages/casatasks/private/task_listobs.py\u001b[0m in \u001b[0;36mlistobs\u001b[0;34m(vis, selectdata, spw, field, antenna, uvrange, timerange, correlation, scan, intent, feed, array, observation, verbose, listfile, listunfl, cachesize, overwrite)\u001b[0m\n\u001b[1;32m     59\u001b[0m         obs_dict = myms.summary(\n\u001b[1;32m     60\u001b[0m             \u001b[0mverbose\u001b[0m\u001b[0;34m=\u001b[0m\u001b[0mverbose\u001b[0m\u001b[0;34m,\u001b[0m \u001b[0mlistfile\u001b[0m\u001b[0;34m=\u001b[0m\u001b[0mlistfile\u001b[0m\u001b[0;34m,\u001b[0m \u001b[0mlistunfl\u001b[0m\u001b[0;34m=\u001b[0m\u001b[0mlistunfl\u001b[0m\u001b[0;34m,\u001b[0m\u001b[0;34m\u001b[0m\u001b[0;34m\u001b[0m\u001b[0m\n\u001b[0;32m---> 61\u001b[0;31m             \u001b[0mcachesize\u001b[0m\u001b[0;34m=\u001b[0m\u001b[0mcachesize\u001b[0m\u001b[0;34m,\u001b[0m \u001b[0moverwrite\u001b[0m\u001b[0;34m=\u001b[0m\u001b[0moverwrite\u001b[0m\u001b[0;34m,\u001b[0m \u001b[0mwantreturn\u001b[0m\u001b[0;34m=\u001b[0m\u001b[0;32mTrue\u001b[0m\u001b[0;34m\u001b[0m\u001b[0;34m\u001b[0m\u001b[0m\n\u001b[0m\u001b[1;32m     62\u001b[0m         )\n\u001b[1;32m     63\u001b[0m         \u001b[0;32mreturn\u001b[0m \u001b[0mobs_dict\u001b[0m\u001b[0;34m\u001b[0m\u001b[0;34m\u001b[0m\u001b[0m\n",
            "\u001b[0;32m/usr/local/lib/python3.7/dist-packages/casatools/ms.py\u001b[0m in \u001b[0;36msummary\u001b[0;34m(self, verbose, listfile, listunfl, cachesize, overwrite, wantreturn)\u001b[0m\n\u001b[1;32m    575\u001b[0m \u001b[0;34m\u001b[0m\u001b[0m\n\u001b[1;32m    576\u001b[0m         \"\"\"\n\u001b[0;32m--> 577\u001b[0;31m         \u001b[0;32mreturn\u001b[0m \u001b[0m_dict_dc\u001b[0m\u001b[0;34m(\u001b[0m\u001b[0mself\u001b[0m\u001b[0;34m.\u001b[0m\u001b[0m_swigobj\u001b[0m\u001b[0;34m.\u001b[0m\u001b[0msummary\u001b[0m\u001b[0;34m(\u001b[0m\u001b[0mverbose\u001b[0m\u001b[0;34m,\u001b[0m \u001b[0m_str_ec\u001b[0m\u001b[0;34m(\u001b[0m\u001b[0mlistfile\u001b[0m\u001b[0;34m)\u001b[0m\u001b[0;34m,\u001b[0m \u001b[0mlistunfl\u001b[0m\u001b[0;34m,\u001b[0m \u001b[0mcachesize\u001b[0m\u001b[0;34m,\u001b[0m \u001b[0moverwrite\u001b[0m\u001b[0;34m,\u001b[0m \u001b[0mwantreturn\u001b[0m\u001b[0;34m)\u001b[0m\u001b[0;34m)\u001b[0m\u001b[0;34m\u001b[0m\u001b[0;34m\u001b[0m\u001b[0m\n\u001b[0m\u001b[1;32m    578\u001b[0m \u001b[0;34m\u001b[0m\u001b[0m\n\u001b[1;32m    579\u001b[0m     \u001b[0;32mdef\u001b[0m \u001b[0mgetscansummary\u001b[0m\u001b[0;34m(\u001b[0m\u001b[0mself\u001b[0m\u001b[0;34m)\u001b[0m\u001b[0;34m:\u001b[0m\u001b[0;34m\u001b[0m\u001b[0;34m\u001b[0m\u001b[0m\n",
            "\u001b[0;32m/usr/local/lib/python3.7/dist-packages/casatools/__casac__/ms.py\u001b[0m in \u001b[0;36msummary\u001b[0;34m(self, *args, **kwargs)\u001b[0m\n\u001b[1;32m   1399\u001b[0m \u001b[0;34m\u001b[0m\u001b[0m\n\u001b[1;32m   1400\u001b[0m         \"\"\"\n\u001b[0;32m-> 1401\u001b[0;31m         \u001b[0;32mreturn\u001b[0m \u001b[0m_ms\u001b[0m\u001b[0;34m.\u001b[0m\u001b[0mms_summary\u001b[0m\u001b[0;34m(\u001b[0m\u001b[0mself\u001b[0m\u001b[0;34m,\u001b[0m \u001b[0;34m*\u001b[0m\u001b[0margs\u001b[0m\u001b[0;34m,\u001b[0m \u001b[0;34m**\u001b[0m\u001b[0mkwargs\u001b[0m\u001b[0;34m)\u001b[0m\u001b[0;34m\u001b[0m\u001b[0;34m\u001b[0m\u001b[0m\n\u001b[0m\u001b[1;32m   1402\u001b[0m \u001b[0;34m\u001b[0m\u001b[0m\n\u001b[1;32m   1403\u001b[0m \u001b[0;34m\u001b[0m\u001b[0m\n",
            "\u001b[0;31mRuntimeError\u001b[0m: Invalid Table data type when accessing column  in ScalarColumn ctor for column TIME_CENTROID"
          ]
        }
      ]
    },
    {
      "cell_type": "code",
      "source": [
        "import os\n",
        "print(os.popen(\"cat casa-*.log\").read())"
      ],
      "metadata": {
        "colab": {
          "base_uri": "https://localhost:8080/"
        },
        "id": "HM_n0e9wSv6J",
        "outputId": "3f427db0-af0d-469c-8fcd-a4da2980f0bb"
      },
      "execution_count": 15,
      "outputs": [
        {
          "output_type": "stream",
          "name": "stdout",
          "text": [
            "2022-10-17 06:43:45\tINFO\t::casa\t\n",
            "2022-10-17 06:43:46\tINFO\t::casa\tPython version 3.7.14\n",
            "2022-10-17 06:43:46\tINFO\t::casa\tCASA Version MODULAR 6.5.2.26\n",
            "2022-10-17 06:43:46\tINFO\t::casa\tCan't import casatelemetry module.\n",
            "2022-10-17 06:45:10\tINFO\tlistobs::::casa\t##########################################\n",
            "2022-10-17 06:45:10\tINFO\tlistobs::::casa\t##### Begin Task: listobs            #####\n",
            "2022-10-17 06:45:10\tINFO\tlistobs::::casa\tlistobs( vis='data_test.ms', selectdata=True, spw='', field='', antenna='', uvrange='', timerange='', correlation='', scan='', intent='', feed='', array='', observation='', verbose=True, listfile='', listunfl=False, cachesize=50.0, overwrite=False )\n",
            "2022-10-17 06:45:10\tWARN\tlistobs::ms::msselect\tInvalid Table data type when accessing column  in ScalarColumn ctor for column TIME_CENTROID\n",
            "2022-10-17 06:45:10\tSEVERE\tlistobs::ms::summary\t================================================================================\n",
            "2022-10-17 06:45:10\tSEVERE\tlistobs::ms::summary+\t           MeasurementSet Name:  /content/data_test.ms      MS Version 2\n",
            "2022-10-17 06:45:10\tSEVERE\tlistobs::ms::summary+\t================================================================================\n",
            "2022-10-17 06:45:10\tSEVERE\tlistobs::ms::summary+\tException Reported: Invalid Table data type when accessing column  in ScalarColumn ctor for column TIME_CENTROID\n",
            "2022-10-17 06:45:10\tSEVERE\tlistobs::::casa\tTask listobs raised an exception of class RuntimeError with the following message: Invalid Table data type when accessing column  in ScalarColumn ctor for column TIME_CENTROID\n",
            "2022-10-17 06:45:10\tINFO\tlistobs::::casa\tTask listobs complete. Start time: 2022-10-17 06:45:09.830891 End time: 2022-10-17 06:45:09.846064\n",
            "2022-10-17 06:45:10\tINFO\tlistobs::::casa\t##### End Task: listobs              #####\n",
            "2022-10-17 06:45:10\tINFO\tlistobs::::casa\t##########################################\n",
            "\n"
          ]
        }
      ]
    },
    {
      "cell_type": "code",
      "source": [],
      "metadata": {
        "id": "gpDmWnewIw7y"
      },
      "execution_count": null,
      "outputs": []
    }
  ]
}