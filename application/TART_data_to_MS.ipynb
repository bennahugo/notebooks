{
  "nbformat": 4,
  "nbformat_minor": 0,
  "metadata": {
    "colab": {
      "provenance": [],
      "authorship_tag": "ABX9TyO0X8p8n+z+TgCOpHZZP6rB",
      "include_colab_link": true
    },
    "kernelspec": {
      "name": "python3",
      "display_name": "Python 3"
    },
    "language_info": {
      "name": "python"
    }
  },
  "cells": [
    {
      "cell_type": "markdown",
      "metadata": {
        "id": "view-in-github",
        "colab_type": "text"
      },
      "source": [
        "<a href=\"https://colab.research.google.com/github/rubyvanrooyen/notebooks/blob/main/application/TART_data_to_MS.ipynb\" target=\"_parent\"><img src=\"https://colab.research.google.com/assets/colab-badge.svg\" alt=\"Open In Colab\"/></a>"
      ]
    },
    {
      "cell_type": "markdown",
      "source": [
        "# Create a Measurement Set from a TART JSON file\n",
        "\n",
        "Create a Measurement Set from a TART JSON file using example implementation presented in\n",
        "the README of the https://github.com/tart-telescope/tart2ms repo"
      ],
      "metadata": {
        "id": "WIjQ3O0xvpe4"
      }
    },
    {
      "cell_type": "markdown",
      "source": [
        "## Installations\n",
        "\n",
        "PyPI links for installation instructions and package information:\n",
        "* https://pypi.org/project/python-casacore/\n",
        "* https://pypi.org/project/dask-ms/\n",
        "* https://pypi.org/project/tart2ms/"
      ],
      "metadata": {
        "id": "IRJnTgFcwTbh"
      }
    },
    {
      "cell_type": "markdown",
      "source": [
        "### CASA core"
      ],
      "metadata": {
        "id": "Aj-VfN_5FPeP"
      }
    },
    {
      "cell_type": "code",
      "source": [
        "!pip install python-casacore"
      ],
      "metadata": {
        "colab": {
          "base_uri": "https://localhost:8080/"
        },
        "id": "nkhTVsfCorvn",
        "outputId": "a53d4495-5f21-4d17-bd07-65f28c95cbab"
      },
      "execution_count": 1,
      "outputs": [
        {
          "output_type": "stream",
          "name": "stdout",
          "text": [
            "Looking in indexes: https://pypi.org/simple, https://us-python.pkg.dev/colab-wheels/public/simple/\n",
            "Collecting python-casacore\n",
            "  Downloading python_casacore-3.5.2-cp37-cp37m-manylinux_2_17_x86_64.manylinux2014_x86_64.whl (35.0 MB)\n",
            "\u001b[K     |████████████████████████████████| 35.0 MB 260 kB/s \n",
            "\u001b[?25hRequirement already satisfied: numpy in /usr/local/lib/python3.7/dist-packages (from python-casacore) (1.21.6)\n",
            "Requirement already satisfied: six in /usr/local/lib/python3.7/dist-packages (from python-casacore) (1.15.0)\n",
            "Installing collected packages: python-casacore\n",
            "Successfully installed python-casacore-3.5.2\n"
          ]
        }
      ]
    },
    {
      "cell_type": "markdown",
      "source": [
        "### DaskMS"
      ],
      "metadata": {
        "id": "-3ZXaQe4FXJn"
      }
    },
    {
      "cell_type": "code",
      "source": [
        "!pip install fsspec\n",
        "!pip install dask-ms[xarray]"
      ],
      "metadata": {
        "colab": {
          "base_uri": "https://localhost:8080/"
        },
        "id": "borGgcvEors-",
        "outputId": "6a44dece-48cb-4737-8454-22ae71eb0143"
      },
      "execution_count": 2,
      "outputs": [
        {
          "output_type": "stream",
          "name": "stdout",
          "text": [
            "Looking in indexes: https://pypi.org/simple, https://us-python.pkg.dev/colab-wheels/public/simple/\n",
            "Requirement already satisfied: fsspec in /usr/local/lib/python3.7/dist-packages (2022.8.2)\n",
            "Looking in indexes: https://pypi.org/simple, https://us-python.pkg.dev/colab-wheels/public/simple/\n",
            "Collecting dask-ms[xarray]\n",
            "  Downloading dask_ms-0.2.9-py3-none-any.whl (120 kB)\n",
            "\u001b[K     |████████████████████████████████| 120 kB 13.0 MB/s \n",
            "\u001b[?25hRequirement already satisfied: python-casacore>=3.4.0 in /usr/local/lib/python3.7/dist-packages (from dask-ms[xarray]) (3.5.2)\n",
            "Requirement already satisfied: dask[array]>=2.2.0 in /usr/local/lib/python3.7/dist-packages (from dask-ms[xarray]) (2022.2.0)\n",
            "Requirement already satisfied: numpy>=1.14.0 in /usr/local/lib/python3.7/dist-packages (from dask-ms[xarray]) (1.21.6)\n",
            "Requirement already satisfied: xarray>0.12.0 in /usr/local/lib/python3.7/dist-packages (from dask-ms[xarray]) (0.20.2)\n",
            "Requirement already satisfied: pyyaml>=5.3.1 in /usr/local/lib/python3.7/dist-packages (from dask[array]>=2.2.0->dask-ms[xarray]) (6.0)\n",
            "Requirement already satisfied: partd>=0.3.10 in /usr/local/lib/python3.7/dist-packages (from dask[array]>=2.2.0->dask-ms[xarray]) (1.3.0)\n",
            "Requirement already satisfied: cloudpickle>=1.1.1 in /usr/local/lib/python3.7/dist-packages (from dask[array]>=2.2.0->dask-ms[xarray]) (1.5.0)\n",
            "Requirement already satisfied: packaging>=20.0 in /usr/local/lib/python3.7/dist-packages (from dask[array]>=2.2.0->dask-ms[xarray]) (21.3)\n",
            "Requirement already satisfied: fsspec>=0.6.0 in /usr/local/lib/python3.7/dist-packages (from dask[array]>=2.2.0->dask-ms[xarray]) (2022.8.2)\n",
            "Requirement already satisfied: toolz>=0.8.2 in /usr/local/lib/python3.7/dist-packages (from dask[array]>=2.2.0->dask-ms[xarray]) (0.12.0)\n",
            "Requirement already satisfied: pyparsing!=3.0.5,>=2.0.2 in /usr/local/lib/python3.7/dist-packages (from packaging>=20.0->dask[array]>=2.2.0->dask-ms[xarray]) (3.0.9)\n",
            "Requirement already satisfied: locket in /usr/local/lib/python3.7/dist-packages (from partd>=0.3.10->dask[array]>=2.2.0->dask-ms[xarray]) (1.0.0)\n",
            "Requirement already satisfied: six in /usr/local/lib/python3.7/dist-packages (from python-casacore>=3.4.0->dask-ms[xarray]) (1.15.0)\n",
            "Requirement already satisfied: importlib-metadata in /usr/local/lib/python3.7/dist-packages (from xarray>0.12.0->dask-ms[xarray]) (5.0.0)\n",
            "Requirement already satisfied: typing-extensions>=3.7 in /usr/local/lib/python3.7/dist-packages (from xarray>0.12.0->dask-ms[xarray]) (4.1.1)\n",
            "Requirement already satisfied: pandas>=1.1 in /usr/local/lib/python3.7/dist-packages (from xarray>0.12.0->dask-ms[xarray]) (1.3.5)\n",
            "Requirement already satisfied: pytz>=2017.3 in /usr/local/lib/python3.7/dist-packages (from pandas>=1.1->xarray>0.12.0->dask-ms[xarray]) (2022.4)\n",
            "Requirement already satisfied: python-dateutil>=2.7.3 in /usr/local/lib/python3.7/dist-packages (from pandas>=1.1->xarray>0.12.0->dask-ms[xarray]) (2.8.2)\n",
            "Requirement already satisfied: zipp>=0.5 in /usr/local/lib/python3.7/dist-packages (from importlib-metadata->xarray>0.12.0->dask-ms[xarray]) (3.9.0)\n",
            "Installing collected packages: dask-ms\n",
            "Successfully installed dask-ms-0.2.9\n"
          ]
        }
      ]
    },
    {
      "cell_type": "markdown",
      "source": [
        "### TART tools"
      ],
      "metadata": {
        "id": "CHTsRu1JFbvW"
      }
    },
    {
      "cell_type": "code",
      "source": [
        "!pip install tart2ms tart tart-tools"
      ],
      "metadata": {
        "colab": {
          "base_uri": "https://localhost:8080/"
        },
        "id": "hdo8gXX3orqF",
        "outputId": "b1d3d545-ae37-45c7-e23f-77177bcb4eab"
      },
      "execution_count": 3,
      "outputs": [
        {
          "output_type": "stream",
          "name": "stdout",
          "text": [
            "Looking in indexes: https://pypi.org/simple, https://us-python.pkg.dev/colab-wheels/public/simple/\n",
            "Collecting tart2ms\n",
            "  Downloading tart2ms-0.2.1b4-py3-none-any.whl (22 kB)\n",
            "Collecting tart\n",
            "  Downloading tart-1.1.0b9-py3-none-any.whl (105 kB)\n",
            "\u001b[K     |████████████████████████████████| 105 kB 20.1 MB/s \n",
            "\u001b[?25hCollecting tart-tools\n",
            "  Downloading tart_tools-1.1.0b9-py3-none-any.whl (36 kB)\n",
            "Requirement already satisfied: astropy in /usr/local/lib/python3.7/dist-packages (from tart2ms) (4.3.1)\n",
            "Requirement already satisfied: dask-ms in /usr/local/lib/python3.7/dist-packages (from tart2ms) (0.2.9)\n",
            "Requirement already satisfied: python-casacore in /usr/local/lib/python3.7/dist-packages (from tart2ms) (3.5.2)\n",
            "Requirement already satisfied: h5py in /usr/local/lib/python3.7/dist-packages (from tart2ms) (3.1.0)\n",
            "Requirement already satisfied: numpy in /usr/local/lib/python3.7/dist-packages (from tart2ms) (1.21.6)\n",
            "Collecting healpy\n",
            "  Downloading healpy-1.16.1-cp37-cp37m-manylinux_2_17_x86_64.manylinux2014_x86_64.whl (23.7 MB)\n",
            "\u001b[K     |████████████████████████████████| 23.7 MB 9.0 MB/s \n",
            "\u001b[?25hRequirement already satisfied: matplotlib in /usr/local/lib/python3.7/dist-packages (from tart) (3.2.2)\n",
            "Requirement already satisfied: importlib-metadata in /usr/local/lib/python3.7/dist-packages (from astropy->tart2ms) (5.0.0)\n",
            "Requirement already satisfied: pyerfa>=1.7.3 in /usr/local/lib/python3.7/dist-packages (from astropy->tart2ms) (2.0.0.1)\n",
            "Requirement already satisfied: dask[array]>=2.2.0 in /usr/local/lib/python3.7/dist-packages (from dask-ms->tart2ms) (2022.2.0)\n",
            "Requirement already satisfied: fsspec>=0.6.0 in /usr/local/lib/python3.7/dist-packages (from dask[array]>=2.2.0->dask-ms->tart2ms) (2022.8.2)\n",
            "Requirement already satisfied: packaging>=20.0 in /usr/local/lib/python3.7/dist-packages (from dask[array]>=2.2.0->dask-ms->tart2ms) (21.3)\n",
            "Requirement already satisfied: pyyaml>=5.3.1 in /usr/local/lib/python3.7/dist-packages (from dask[array]>=2.2.0->dask-ms->tart2ms) (6.0)\n",
            "Requirement already satisfied: partd>=0.3.10 in /usr/local/lib/python3.7/dist-packages (from dask[array]>=2.2.0->dask-ms->tart2ms) (1.3.0)\n",
            "Requirement already satisfied: cloudpickle>=1.1.1 in /usr/local/lib/python3.7/dist-packages (from dask[array]>=2.2.0->dask-ms->tart2ms) (1.5.0)\n",
            "Requirement already satisfied: toolz>=0.8.2 in /usr/local/lib/python3.7/dist-packages (from dask[array]>=2.2.0->dask-ms->tart2ms) (0.12.0)\n",
            "Requirement already satisfied: pyparsing!=3.0.5,>=2.0.2 in /usr/local/lib/python3.7/dist-packages (from packaging>=20.0->dask[array]>=2.2.0->dask-ms->tart2ms) (3.0.9)\n",
            "Requirement already satisfied: locket in /usr/local/lib/python3.7/dist-packages (from partd>=0.3.10->dask[array]>=2.2.0->dask-ms->tart2ms) (1.0.0)\n",
            "Requirement already satisfied: six in /usr/local/lib/python3.7/dist-packages (from python-casacore->tart2ms) (1.15.0)\n",
            "Requirement already satisfied: cached-property in /usr/local/lib/python3.7/dist-packages (from h5py->tart2ms) (1.5.2)\n",
            "Requirement already satisfied: scipy in /usr/local/lib/python3.7/dist-packages (from healpy->tart) (1.7.3)\n",
            "Requirement already satisfied: zipp>=0.5 in /usr/local/lib/python3.7/dist-packages (from importlib-metadata->astropy->tart2ms) (3.9.0)\n",
            "Requirement already satisfied: typing-extensions>=3.6.4 in /usr/local/lib/python3.7/dist-packages (from importlib-metadata->astropy->tart2ms) (4.1.1)\n",
            "Requirement already satisfied: python-dateutil>=2.1 in /usr/local/lib/python3.7/dist-packages (from matplotlib->tart) (2.8.2)\n",
            "Requirement already satisfied: kiwisolver>=1.0.1 in /usr/local/lib/python3.7/dist-packages (from matplotlib->tart) (1.4.4)\n",
            "Requirement already satisfied: cycler>=0.10 in /usr/local/lib/python3.7/dist-packages (from matplotlib->tart) (0.11.0)\n",
            "Installing collected packages: healpy, tart, tart-tools, tart2ms\n",
            "Successfully installed healpy-1.16.1 tart-1.1.0b9 tart-tools-1.1.0b9 tart2ms-0.2.1b4\n"
          ]
        }
      ]
    },
    {
      "cell_type": "code",
      "source": [
        "import daskms"
      ],
      "metadata": {
        "id": "i6_lOs73FIB7"
      },
      "execution_count": 4,
      "outputs": []
    },
    {
      "cell_type": "markdown",
      "source": [
        "### Convert JSON to MS"
      ],
      "metadata": {
        "id": "U-gdPGbxl_PN"
      }
    },
    {
      "cell_type": "markdown",
      "source": [
        "## Obtain example JSON data file\n",
        "\n",
        "Depending on your work environment, you will either have the files on your local system or you will store all notebooks and data files in a Google Drive folder\n",
        "\n",
        "When working from your local system, you will need you upload and download the notebooks and files as needed.\n",
        "```\n",
        "from google.colab import files\n",
        "files.upload()\n",
        "```\n",
        "\n",
        "Working from a Google Drive folder is a little easier, but COLAB needs permissions to be set to access the folder.\n",
        "It should be noted by the user that for each user the mounted drive will be associated to their login and thus only visible/accessible to the user and only for the duration of the COLAB session.\n",
        "Mounted Google Drives are not publically available and to share files the Google Drive folder needs to be shared as per normal for each user to access as a shared item.\n",
        "```\n",
        "# Permission to access drive\n",
        "from google.colab import drive\n",
        "drive.mount('/content/drive')\n",
        "\n",
        "# Link to example file on drive\n",
        "!ln -s \"/content/drive/MyDrive/TART/data_2019_08_04_21_38_31_UTC.json\"\n",
        "\n",
        "\n",
        "# Save generated MS file to drive\n",
        "import os\n",
        "import shutil  \n",
        "print(os.getcwd())\n",
        "\n",
        "source = os.path.join('data_2019_08_04_21_38_31_UTC.ms')\n",
        "destination = os.path.join('drive/MyDrive/TART', 'data_2019_08_04_21_38_31_UTC.ms')\n",
        "shutil.move(source, destination)\n",
        "```"
      ],
      "metadata": {
        "id": "dOpgCpKa63lt"
      }
    },
    {
      "cell_type": "code",
      "source": [
        "from google.colab import files\n",
        "files.upload()"
      ],
      "metadata": {
        "colab": {
          "base_uri": "https://localhost:8080/",
          "height": 1000
        },
        "id": "yy0l5yC09_Nm",
        "outputId": "0cd96e52-b167-4449-ae72-d40e9c8fcafa"
      },
      "execution_count": 5,
      "outputs": [
        {
          "output_type": "display_data",
          "data": {
            "text/plain": [
              "<IPython.core.display.HTML object>"
            ],
            "text/html": [
              "\n",
              "     <input type=\"file\" id=\"files-a87c1a85-b6b0-4757-b4b1-4655bc8bc965\" name=\"files[]\" multiple disabled\n",
              "        style=\"border:none\" />\n",
              "     <output id=\"result-a87c1a85-b6b0-4757-b4b1-4655bc8bc965\">\n",
              "      Upload widget is only available when the cell has been executed in the\n",
              "      current browser session. Please rerun this cell to enable.\n",
              "      </output>\n",
              "      <script>// Copyright 2017 Google LLC\n",
              "//\n",
              "// Licensed under the Apache License, Version 2.0 (the \"License\");\n",
              "// you may not use this file except in compliance with the License.\n",
              "// You may obtain a copy of the License at\n",
              "//\n",
              "//      http://www.apache.org/licenses/LICENSE-2.0\n",
              "//\n",
              "// Unless required by applicable law or agreed to in writing, software\n",
              "// distributed under the License is distributed on an \"AS IS\" BASIS,\n",
              "// WITHOUT WARRANTIES OR CONDITIONS OF ANY KIND, either express or implied.\n",
              "// See the License for the specific language governing permissions and\n",
              "// limitations under the License.\n",
              "\n",
              "/**\n",
              " * @fileoverview Helpers for google.colab Python module.\n",
              " */\n",
              "(function(scope) {\n",
              "function span(text, styleAttributes = {}) {\n",
              "  const element = document.createElement('span');\n",
              "  element.textContent = text;\n",
              "  for (const key of Object.keys(styleAttributes)) {\n",
              "    element.style[key] = styleAttributes[key];\n",
              "  }\n",
              "  return element;\n",
              "}\n",
              "\n",
              "// Max number of bytes which will be uploaded at a time.\n",
              "const MAX_PAYLOAD_SIZE = 100 * 1024;\n",
              "\n",
              "function _uploadFiles(inputId, outputId) {\n",
              "  const steps = uploadFilesStep(inputId, outputId);\n",
              "  const outputElement = document.getElementById(outputId);\n",
              "  // Cache steps on the outputElement to make it available for the next call\n",
              "  // to uploadFilesContinue from Python.\n",
              "  outputElement.steps = steps;\n",
              "\n",
              "  return _uploadFilesContinue(outputId);\n",
              "}\n",
              "\n",
              "// This is roughly an async generator (not supported in the browser yet),\n",
              "// where there are multiple asynchronous steps and the Python side is going\n",
              "// to poll for completion of each step.\n",
              "// This uses a Promise to block the python side on completion of each step,\n",
              "// then passes the result of the previous step as the input to the next step.\n",
              "function _uploadFilesContinue(outputId) {\n",
              "  const outputElement = document.getElementById(outputId);\n",
              "  const steps = outputElement.steps;\n",
              "\n",
              "  const next = steps.next(outputElement.lastPromiseValue);\n",
              "  return Promise.resolve(next.value.promise).then((value) => {\n",
              "    // Cache the last promise value to make it available to the next\n",
              "    // step of the generator.\n",
              "    outputElement.lastPromiseValue = value;\n",
              "    return next.value.response;\n",
              "  });\n",
              "}\n",
              "\n",
              "/**\n",
              " * Generator function which is called between each async step of the upload\n",
              " * process.\n",
              " * @param {string} inputId Element ID of the input file picker element.\n",
              " * @param {string} outputId Element ID of the output display.\n",
              " * @return {!Iterable<!Object>} Iterable of next steps.\n",
              " */\n",
              "function* uploadFilesStep(inputId, outputId) {\n",
              "  const inputElement = document.getElementById(inputId);\n",
              "  inputElement.disabled = false;\n",
              "\n",
              "  const outputElement = document.getElementById(outputId);\n",
              "  outputElement.innerHTML = '';\n",
              "\n",
              "  const pickedPromise = new Promise((resolve) => {\n",
              "    inputElement.addEventListener('change', (e) => {\n",
              "      resolve(e.target.files);\n",
              "    });\n",
              "  });\n",
              "\n",
              "  const cancel = document.createElement('button');\n",
              "  inputElement.parentElement.appendChild(cancel);\n",
              "  cancel.textContent = 'Cancel upload';\n",
              "  const cancelPromise = new Promise((resolve) => {\n",
              "    cancel.onclick = () => {\n",
              "      resolve(null);\n",
              "    };\n",
              "  });\n",
              "\n",
              "  // Wait for the user to pick the files.\n",
              "  const files = yield {\n",
              "    promise: Promise.race([pickedPromise, cancelPromise]),\n",
              "    response: {\n",
              "      action: 'starting',\n",
              "    }\n",
              "  };\n",
              "\n",
              "  cancel.remove();\n",
              "\n",
              "  // Disable the input element since further picks are not allowed.\n",
              "  inputElement.disabled = true;\n",
              "\n",
              "  if (!files) {\n",
              "    return {\n",
              "      response: {\n",
              "        action: 'complete',\n",
              "      }\n",
              "    };\n",
              "  }\n",
              "\n",
              "  for (const file of files) {\n",
              "    const li = document.createElement('li');\n",
              "    li.append(span(file.name, {fontWeight: 'bold'}));\n",
              "    li.append(span(\n",
              "        `(${file.type || 'n/a'}) - ${file.size} bytes, ` +\n",
              "        `last modified: ${\n",
              "            file.lastModifiedDate ? file.lastModifiedDate.toLocaleDateString() :\n",
              "                                    'n/a'} - `));\n",
              "    const percent = span('0% done');\n",
              "    li.appendChild(percent);\n",
              "\n",
              "    outputElement.appendChild(li);\n",
              "\n",
              "    const fileDataPromise = new Promise((resolve) => {\n",
              "      const reader = new FileReader();\n",
              "      reader.onload = (e) => {\n",
              "        resolve(e.target.result);\n",
              "      };\n",
              "      reader.readAsArrayBuffer(file);\n",
              "    });\n",
              "    // Wait for the data to be ready.\n",
              "    let fileData = yield {\n",
              "      promise: fileDataPromise,\n",
              "      response: {\n",
              "        action: 'continue',\n",
              "      }\n",
              "    };\n",
              "\n",
              "    // Use a chunked sending to avoid message size limits. See b/62115660.\n",
              "    let position = 0;\n",
              "    do {\n",
              "      const length = Math.min(fileData.byteLength - position, MAX_PAYLOAD_SIZE);\n",
              "      const chunk = new Uint8Array(fileData, position, length);\n",
              "      position += length;\n",
              "\n",
              "      const base64 = btoa(String.fromCharCode.apply(null, chunk));\n",
              "      yield {\n",
              "        response: {\n",
              "          action: 'append',\n",
              "          file: file.name,\n",
              "          data: base64,\n",
              "        },\n",
              "      };\n",
              "\n",
              "      let percentDone = fileData.byteLength === 0 ?\n",
              "          100 :\n",
              "          Math.round((position / fileData.byteLength) * 100);\n",
              "      percent.textContent = `${percentDone}% done`;\n",
              "\n",
              "    } while (position < fileData.byteLength);\n",
              "  }\n",
              "\n",
              "  // All done.\n",
              "  yield {\n",
              "    response: {\n",
              "      action: 'complete',\n",
              "    }\n",
              "  };\n",
              "}\n",
              "\n",
              "scope.google = scope.google || {};\n",
              "scope.google.colab = scope.google.colab || {};\n",
              "scope.google.colab._files = {\n",
              "  _uploadFiles,\n",
              "  _uploadFilesContinue,\n",
              "};\n",
              "})(self);\n",
              "</script> "
            ]
          },
          "metadata": {}
        },
        {
          "output_type": "stream",
          "name": "stdout",
          "text": [
            "Saving data_2019_08_04_21_38_31_UTC.json to data_2019_08_04_21_38_31_UTC.json\n"
          ]
        },
        {
          "output_type": "execute_result",
          "data": {
            "text/plain": [
              "{'data_2019_08_04_21_38_31_UTC.json': b'{\\n    \"info\": {\\n        \"info\": {\\n            \"L0_frequency\": 1571328000.0,\\n            \"bandwidth\": 2500000.0,\\n            \"baseband_frequency\": 4092000.0,\\n            \"location\": {\\n                \"alt\": 270.0,\\n                \"lat\": -45.85177,\\n                \"lon\": 170.5456\\n            },\\n            \"name\": \"Signal Hill - Dunedin\",\\n            \"num_antenna\": 24,\\n            \"operating_frequency\": 1575420000.0,\\n            \"sampling_frequency\": 16368000.0\\n        }\\n    },\\n    \"ant_pos\": [\\n        [\\n            -0.19568417271384997,\\n            0.8329980219360029,\\n            0.0\\n        ],\\n        [\\n            0.1246522161401079,\\n            0.8161873712643164,\\n            0.0\\n        ],\\n        [\\n            -0.32122688656212495,\\n            0.694401387779145,\\n            0.0\\n        ],\\n        [\\n            0.5281135426817064,\\n            1.2680047657781734,\\n            0.0\\n        ],\\n        [\\n            -0.1864411731967535,\\n            1.409113085929235,\\n            0.0\\n        ],\\n        [\\n            0.27317526035067735,\\n            1.3834667604002404,\\n            0.0\\n        ],\\n        [\\n            1.0321642212135536,\\n            -0.43337053481589544,\\n            0.0\\n        ],\\n        [\\n            1.1906313086133997,\\n            -0.15356134588349007,\\n            0.0\\n        ],\\n        [\\n            1.1020201017717648,\\n            -0.6138287182031775,\\n            0.0\\n        ],\\n        [\\n            0.9825536467937541,\\n            0.40960265034821974,\\n            0.0\\n        ],\\n        [\\n            0.5264436315731778,\\n            -0.14972342093353547,\\n            0.0\\n        ],\\n        [\\n            0.7683888819477875,\\n            0.24347181787432168,\\n            0.0\\n        ],\\n        [\\n            -0.4268909457585781,\\n            -1.0259985966995002,\\n            0.0\\n        ],\\n        [\\n            -0.15588631164464314,\\n            -1.1823491268833546,\\n            0.0\\n        ],\\n        [\\n            -0.6043705211614151,\\n            -1.0905509035121057,\\n            0.0\\n        ],\\n        [\\n            0.4116150032916287,\\n            -0.9652057237010305,\\n            0.0\\n        ],\\n        [\\n            -0.1670713440262619,\\n            -0.524431278629773,\\n            0.0\\n        ],\\n        [\\n            0.23257777070214675,\\n            -0.7485062328232243,\\n            0.0\\n        ],\\n        [\\n            -0.8562043939790214,\\n            0.373012112043311,\\n            0.0\\n        ],\\n        [\\n            -1.1207145397030234,\\n            0.21762104792099493,\\n            0.0\\n        ],\\n        [\\n            -0.8212406026217624,\\n            0.5581432366386271,\\n            0.0\\n        ],\\n        [\\n            -1.2020409398944938,\\n            -0.36967361119987185,\\n            0.0\\n        ],\\n        [\\n            -0.5527882669714062,\\n            -0.108692832784636,\\n            0.0\\n        ],\\n        [\\n            -0.9450591845812161,\\n            -0.32639108081974294,\\n            0.0\\n        ]\\n    ],\\n    \"gains\": {\\n        \"gain\": [\\n            1.0,\\n            1.1692,\\n            1.6373,\\n            1.5925,\\n            1.4651,\\n            1.7994,\\n            1.5637,\\n            1.5158,\\n            1.5954,\\n            1.0414,\\n            2.3228,\\n            1.9132,\\n            1.7373,\\n            1.4282,\\n            1.4067,\\n            2.0715,\\n            1.6244,\\n            1.9806,\\n            1.5085,\\n            1.6533,\\n            1.6742,\\n            2.1249,\\n            2.3251,\\n            2.0378\\n        ],\\n        \"phase_offset\": [\\n            0.0,\\n            -2.5124,\\n            1.7115,\\n            1.7995,\\n            -3.1412,\\n            0.0571,\\n            -1.8158,\\n            0.4945,\\n            0.7929,\\n            -2.9793,\\n            -1.0369,\\n            1.6116,\\n            -0.1882,\\n            0.9949,\\n            2.4075,\\n            -2.0308,\\n            1.1024,\\n            1.4708,\\n            0.6105,\\n            -0.9093,\\n            1.2328,\\n            -2.3936,\\n            -2.4492,\\n            1.0764\\n        ]\\n    },\\n    \"data\": [\\n        [\\n            {\\n                \"data\": [\\n                    {\\n                        \"i\": 0,\\n                        \"im\": 0.03126048220269715,\\n                        \"j\": 1,\\n                        \"re\": -0.08416294910485804\\n                    },\\n                    {\\n                        \"i\": 0,\\n                        \"im\": -2.6082959492714358e-05,\\n                        \"j\": 2,\\n                        \"re\": 0.07736323870305936\\n                    },\\n                    {\\n                        \"i\": 0,\\n                        \"im\": -0.02952172903008608,\\n                        \"j\": 3,\\n                        \"re\": -0.11092673013494747\\n                    },\\n                    {\\n                        \"i\": 0,\\n                        \"im\": -0.020917781084438005,\\n                        \"j\": 4,\\n                        \"re\": 0.0698938580139992\\n                    },\\n                    {\\n                        \"i\": 0,\\n                        \"im\": 0.05160531914724774,\\n                        \"j\": 5,\\n                        \"re\": 0.013622622695178426\\n                    },\\n                    {\\n                        \"i\": 0,\\n                        \"im\": -0.013727132110476215,\\n                        \"j\": 6,\\n                        \"re\": -0.02311381784341307\\n                    },\\n                    {\\n                        \"i\": 0,\\n                        \"im\": -0.02687214351615199,\\n                        \"j\": 7,\\n                        \"re\": 0.08031631804141788\\n                    },\\n                    {\\n                        \"i\": 0,\\n                        \"im\": 0.13341227406490616,\\n                        \"j\": 8,\\n                        \"re\": 0.13184178398266436\\n                    },\\n                    {\\n                        \"i\": 0,\\n                        \"im\": -0.02593495680981954,\\n                        \"j\": 9,\\n                        \"re\": -0.04281920322149666\\n                    },\\n                    {\\n                        \"i\": 0,\\n                        \"im\": -0.09343630640023769,\\n                        \"j\": 10,\\n                        \"re\": 0.0505583894410387\\n                    },\\n                    {\\n                        \"i\": 0,\\n                        \"im\": 0.08313977676400243,\\n                        \"j\": 11,\\n                        \"re\": 0.07508012600447396\\n                    },\\n                    {\\n                        \"i\": 0,\\n                        \"im\": 0.1457258516108734,\\n                        \"j\": 12,\\n                        \"re\": 0.02473766102799089\\n                    },\\n                    {\\n                        \"i\": 0,\\n                        \"im\": 0.008521813611514497,\\n                        \"j\": 13,\\n                        \"re\": -0.017857614976103473\\n                    },\\n                    {\\n                        \"i\": 0,\\n                        \"im\": 0.08379046295374078,\\n                        \"j\": 14,\\n                        \"re\": 0.10070267380548283\\n                    },\\n                    {\\n                        \"i\": 0,\\n                        \"im\": -0.11934711686958949,\\n                        \"j\": 15,\\n                        \"re\": 0.012469010976984593\\n                    },\\n                    {\\n                        \"i\": 0,\\n                        \"im\": -0.07296085314976218,\\n                        \"j\": 16,\\n                        \"re\": -0.0828456463231508\\n                    },\\n                    {\\n                        \"i\": 0,\\n                        \"im\": -0.16506594353009263,\\n                        \"j\": 17,\\n                        \"re\": -0.014864672129965744\\n                    },\\n                    {\\n                        \"i\": 0,\\n                        \"im\": 0.10855088973948944,\\n                        \"j\": 18,\\n                        \"re\": 0.1389113165709937\\n                    },\\n                    {\\n                        \"i\": 0,\\n                        \"im\": 0.026502151452766125,\\n                        \"j\": 19,\\n                        \"re\": -0.02807056428303512\\n                    },\\n                    {\\n                        \"i\": 0,\\n                        \"im\": 0.033748326968291595,\\n                        \"j\": 20,\\n                        \"re\": -0.11299396502821647\\n                    },\\n                    {\\n                        \"i\": 0,\\n                        \"im\": -0.06227219271344798,\\n                        \"j\": 21,\\n                        \"re\": 0.05894633087092386\\n                    },\\n                    {\\n                        \"i\": 0,\\n                        \"im\": -0.007213873595349401,\\n                        \"j\": 22,\\n                        \"re\": 0.07799306307116682\\n                    },\\n                    {\\n                        \"i\": 0,\\n                        \"im\": -0.15160451972971997,\\n                        \"j\": 23,\\n                        \"re\": 0.06784833213287716\\n                    },\\n                    {\\n                        \"i\": 1,\\n                        \"im\": 0.03070235057502464,\\n                        \"j\": 2,\\n                        \"re\": -0.03351101437399079\\n                    },\\n                    {\\n                        \"i\": 1,\\n                        \"im\": 0.030806884851999575,\\n                        \"j\": 3,\\n                        \"re\": -0.06725946329145437\\n                    },\\n                    {\\n                        \"i\": 1,\\n                        \"im\": 0.204237502739537,\\n                        \"j\": 4,\\n                        \"re\": -0.10338619829832078\\n                    },\\n                    {\\n                        \"i\": 1,\\n                        \"im\": -0.19399065708167562,\\n                        \"j\": 5,\\n                        \"re\": 0.06716106345448083\\n                    },\\n                    {\\n                        \"i\": 1,\\n                        \"im\": 0.04794436826351526,\\n                        \"j\": 6,\\n                        \"re\": -0.07342806611051719\\n                    },\\n                    {\\n                        \"i\": 1,\\n                        \"im\": 0.14940134959625892,\\n                        \"j\": 7,\\n                        \"re\": 0.025061559495766356\\n                    },\\n                    {\\n                        \"i\": 1,\\n                        \"im\": -0.11113924240242226,\\n                        \"j\": 8,\\n                        \"re\": -0.000493868590596207\\n                    },\\n                    {\\n                        \"i\": 1,\\n                        \"im\": -0.0624523661671618,\\n                        \"j\": 9,\\n                        \"re\": 0.018829458235750995\\n                    },\\n                    {\\n                        \"i\": 1,\\n                        \"im\": -0.0030279264850738004,\\n                        \"j\": 10,\\n                        \"re\": -0.0736296961715475\\n                    },\\n                    {\\n                        \"i\": 1,\\n                        \"im\": -0.013817599599741203,\\n                        \"j\": 11,\\n                        \"re\": 0.10811669668958458\\n                    },\\n                    {\\n                        \"i\": 1,\\n                        \"im\": 0.0739900036625022,\\n                        \"j\": 12,\\n                        \"re\": -0.0689115992222087\\n                    },\\n                    {\\n                        \"i\": 1,\\n                        \"im\": -0.028197882973339878,\\n                        \"j\": 13,\\n                        \"re\": -0.0566337876280787\\n                    },\\n                    {\\n                        \"i\": 1,\\n                        \"im\": 0.07398305633987715,\\n                        \"j\": 14,\\n                        \"re\": -0.1493249948230054\\n                    },\\n                    {\\n                        \"i\": 1,\\n                        \"im\": 0.05713799872625482,\\n                        \"j\": 15,\\n                        \"re\": 0.08757523227782756\\n                    },\\n                    {\\n                        \"i\": 1,\\n                        \"im\": 0.07560809039974878,\\n                        \"j\": 16,\\n                        \"re\": 0.06076681910415484\\n                    },\\n                    {\\n                        \"i\": 1,\\n                        \"im\": 0.02735274819916821,\\n                        \"j\": 17,\\n                        \"re\": 0.00042720552955432997\\n                    },\\n                    {\\n                        \"i\": 1,\\n                        \"im\": -0.031241598942572116,\\n                        \"j\": 18,\\n                        \"re\": 0.05891539384780238\\n                    },\\n                    {\\n                        \"i\": 1,\\n                        \"im\": 0.0047843570866945104,\\n                        \"j\": 19,\\n                        \"re\": -0.09410137404137933\\n                    },\\n                    {\\n                        \"i\": 1,\\n                        \"im\": 0.032581844069126634,\\n                        \"j\": 20,\\n                        \"re\": 0.19328054878527148\\n                    },\\n                    {\\n                        \"i\": 1,\\n                        \"im\": 0.041949021271797185,\\n                        \"j\": 21,\\n                        \"re\": 0.04079040303665848\\n                    },\\n                    {\\n                        \"i\": 1,\\n                        \"im\": 0.038592938718319876,\\n                        \"j\": 22,\\n                        \"re\": -0.0032544864307684006\\n                    },\\n                    {\\n                        \"i\": 1,\\n                        \"im\": -0.003911502050362876,\\n                        \"j\": 23,\\n                        \"re\": -0.0071384444711455565\\n                    },\\n                    {\\n                        \"i\": 2,\\n                        \"im\": 0.04384387620822074,\\n                        \"j\": 3,\\n                        \"re\": -0.03472515250481177\\n                    },\\n                    {\\n                        \"i\": 2,\\n                        \"im\": 0.11587736890115398,\\n                        \"j\": 4,\\n                        \"re\": 0.0646903083854571\\n                    },\\n                    {\\n                        \"i\": 2,\\n                        \"im\": 0.06375859541896223,\\n                        \"j\": 5,\\n                        \"re\": 0.15125261265558465\\n                    },\\n                    {\\n                        \"i\": 2,\\n                        \"im\": 0.1042132428909567,\\n                        \"j\": 6,\\n                        \"re\": 0.06991862735627327\\n                    },\\n                    {\\n                        \"i\": 2,\\n                        \"im\": -0.03725092880959858,\\n                        \"j\": 7,\\n                        \"re\": 0.07469417579023205\\n                    },\\n                    {\\n                        \"i\": 2,\\n                        \"im\": -0.07819681871629086,\\n                        \"j\": 8,\\n                        \"re\": 0.06250946431201178\\n                    },\\n                    {\\n                        \"i\": 2,\\n                        \"im\": 0.10121659911530412,\\n                        \"j\": 9,\\n                        \"re\": 0.09883730412737601\\n                    },\\n                    {\\n                        \"i\": 2,\\n                        \"im\": -0.15655049208640404,\\n                        \"j\": 10,\\n                        \"re\": -0.07734205895752543\\n                    },\\n                    {\\n                        \"i\": 2,\\n                        \"im\": 0.0308353230477218,\\n                        \"j\": 11,\\n                        \"re\": -0.15688051406779255\\n                    },\\n                    {\\n                        \"i\": 2,\\n                        \"im\": 0.010930374906320808,\\n                        \"j\": 12,\\n                        \"re\": 0.13613522289027435\\n                    },\\n                    {\\n                        \"i\": 2,\\n                        \"im\": -0.11804817535097194,\\n                        \"j\": 13,\\n                        \"re\": -0.044913472421491955\\n                    },\\n                    {\\n                        \"i\": 2,\\n                        \"im\": 0.06876114582267093,\\n                        \"j\": 14,\\n                        \"re\": 0.16609467871340755\\n                    },\\n                    {\\n                        \"i\": 2,\\n                        \"im\": -0.013249814657937134,\\n                        \"j\": 15,\\n                        \"re\": -0.12287178732547534\\n                    },\\n                    {\\n                        \"i\": 2,\\n                        \"im\": -0.029348692217807927,\\n                        \"j\": 16,\\n                        \"re\": -0.12434306436720587\\n                    },\\n                    {\\n                        \"i\": 2,\\n                        \"im\": 0.03086611908410956,\\n                        \"j\": 17,\\n                        \"re\": -0.11974320400782429\\n                    },\\n                    {\\n                        \"i\": 2,\\n                        \"im\": -0.11674745629795556,\\n                        \"j\": 18,\\n                        \"re\": 0.06450199779157581\\n                    },\\n                    {\\n                        \"i\": 2,\\n                        \"im\": -0.010118104353914577,\\n                        \"j\": 19,\\n                        \"re\": -0.10766499770647435\\n                    },\\n                    {\\n                        \"i\": 2,\\n                        \"im\": -0.09353205325646165,\\n                        \"j\": 20,\\n                        \"re\": -0.013310258383206427\\n                    },\\n                    {\\n                        \"i\": 2,\\n                        \"im\": -0.13448599829794386,\\n                        \"j\": 21,\\n                        \"re\": -0.10236050608637064\\n                    },\\n                    {\\n                        \"i\": 2,\\n                        \"im\": 0.020428282370106743,\\n                        \"j\": 22,\\n                        \"re\": 0.144529462918384\\n                    },\\n                    {\\n                        \"i\": 2,\\n                        \"im\": -0.08563703568139755,\\n                        \"j\": 23,\\n                        \"re\": 0.11203846306007612\\n                    },\\n                    {\\n                        \"i\": 3,\\n                        \"im\": 0.026028880425612074,\\n                        \"j\": 4,\\n                        \"re\": -0.0030947580329623962\\n                    },\\n                    {\\n                        \"i\": 3,\\n                        \"im\": -0.11504753505258676,\\n                        \"j\": 5,\\n                        \"re\": 0.03705441905378877\\n                    },\\n                    {\\n                        \"i\": 3,\\n                        \"im\": 0.016299825182467385,\\n                        \"j\": 6,\\n                        \"re\": -0.11192379999977417\\n                    },\\n                    {\\n                        \"i\": 3,\\n                        \"im\": 0.0994279763167033,\\n                        \"j\": 7,\\n                        \"re\": 0.019615541742542028\\n                    },\\n                    {\\n                        \"i\": 3,\\n                        \"im\": -0.01242827767648837,\\n                        \"j\": 8,\\n                        \"re\": -0.09383751485751424\\n                    },\\n                    {\\n                        \"i\": 3,\\n                        \"im\": 0.08182126037924525,\\n                        \"j\": 9,\\n                        \"re\": 0.02531425264723968\\n                    },\\n                    {\\n                        \"i\": 3,\\n                        \"im\": 0.047862514441533666,\\n                        \"j\": 10,\\n                        \"re\": -0.09237723320943066\\n                    },\\n                    {\\n                        \"i\": 3,\\n                        \"im\": -0.05101968080744056,\\n                        \"j\": 11,\\n                        \"re\": 0.11127414380466209\\n                    },\\n                    {\\n                        \"i\": 3,\\n                        \"im\": -0.06871084491023538,\\n                        \"j\": 12,\\n                        \"re\": 0.030150279722265874\\n                    },\\n                    {\\n                        \"i\": 3,\\n                        \"im\": 0.06116048330945368,\\n                        \"j\": 13,\\n                        \"re\": -0.0018971733806320565\\n                    },\\n                    {\\n                        \"i\": 3,\\n                        \"im\": -0.058601103704841465,\\n                        \"j\": 14,\\n                        \"re\": 0.02467956995122641\\n                    },\\n                    {\\n                        \"i\": 3,\\n                        \"im\": 0.0869085662174334,\\n                        \"j\": 15,\\n                        \"re\": 0.00513395576363373\\n                    },\\n                    {\\n                        \"i\": 3,\\n                        \"im\": 0.2499705458111111,\\n                        \"j\": 16,\\n                        \"re\": -0.05296410934260337\\n                    },\\n                    {\\n                        \"i\": 3,\\n                        \"im\": -0.004316443288019546,\\n                        \"j\": 17,\\n                        \"re\": 0.06785314110280137\\n                    },\\n                    {\\n                        \"i\": 3,\\n                        \"im\": -0.14554802322947638,\\n                        \"j\": 18,\\n                        \"re\": -0.19867547789196005\\n                    },\\n                    {\\n                        \"i\": 3,\\n                        \"im\": 0.09983003745969687,\\n                        \"j\": 19,\\n                        \"re\": 0.10384185997448092\\n                    },\\n                    {\\n                        \"i\": 3,\\n                        \"im\": -0.10326801997804946,\\n                        \"j\": 20,\\n                        \"re\": -0.07297224944200942\\n                    },\\n                    {\\n                        \"i\": 3,\\n                        \"im\": -0.009861236892228044,\\n                        \"j\": 21,\\n                        \"re\": 0.11040745190094332\\n                    },\\n                    {\\n                        \"i\": 3,\\n                        \"im\": -0.04973055866061568,\\n                        \"j\": 22,\\n                        \"re\": -0.0009641000110737753\\n                    },\\n                    {\\n                        \"i\": 3,\\n                        \"im\": 0.11475888012560688,\\n                        \"j\": 23,\\n                        \"re\": -0.044858601855300884\\n                    },\\n                    {\\n                        \"i\": 4,\\n                        \"im\": -0.05093862824764104,\\n                        \"j\": 5,\\n                        \"re\": -0.03743463781609297\\n                    },\\n                    {\\n                        \"i\": 4,\\n                        \"im\": -0.0525656892866116,\\n                        \"j\": 6,\\n                        \"re\": 0.07657640391652737\\n                    },\\n                    {\\n                        \"i\": 4,\\n                        \"im\": -0.08899491860928171,\\n                        \"j\": 7,\\n                        \"re\": 0.1544472795241805\\n                    },\\n                    {\\n                        \"i\": 4,\\n                        \"im\": -0.036178806037686126,\\n                        \"j\": 8,\\n                        \"re\": -0.04304624075491978\\n                    },\\n                    {\\n                        \"i\": 4,\\n                        \"im\": 0.04267969033874313,\\n                        \"j\": 9,\\n                        \"re\": 0.0625791119553132\\n                    },\\n                    {\\n                        \"i\": 4,\\n                        \"im\": 0.013238692437090544,\\n                        \"j\": 10,\\n                        \"re\": -0.18044586208929284\\n                    },\\n                    {\\n                        \"i\": 4,\\n                        \"im\": -0.09564161030822876,\\n                        \"j\": 11,\\n                        \"re\": -0.041864213997303404\\n                    },\\n                    {\\n                        \"i\": 4,\\n                        \"im\": -0.0752604910042354,\\n                        \"j\": 12,\\n                        \"re\": 0.11890860173812909\\n                    },\\n                    {\\n                        \"i\": 4,\\n                        \"im\": 0.180185036640864,\\n                        \"j\": 13,\\n                        \"re\": -0.06288002434429814\\n                    },\\n                    {\\n                        \"i\": 4,\\n                        \"im\": 0.05349408260621123,\\n                        \"j\": 14,\\n                        \"re\": 0.12837986498039786\\n                    },\\n                    {\\n                        \"i\": 4,\\n                        \"im\": 0.03948188839985064,\\n                        \"j\": 15,\\n                        \"re\": 0.01912264876851512\\n                    },\\n                    {\\n                        \"i\": 4,\\n                        \"im\": 0.006821304324983018,\\n                        \"j\": 16,\\n                        \"re\": 0.03507092124999126\\n                    },\\n                    {\\n                        \"i\": 4,\\n                        \"im\": -0.03045084902294501,\\n                        \"j\": 17,\\n                        \"re\": -0.04783690988528108\\n                    },\\n                    {\\n                        \"i\": 4,\\n                        \"im\": -0.0005479265543175695,\\n                        \"j\": 18,\\n                        \"re\": -0.12176518606996162\\n                    },\\n                    {\\n                        \"i\": 4,\\n                        \"im\": 0.14885619378035378,\\n                        \"j\": 19,\\n                        \"re\": 0.018962561311538114\\n                    },\\n                    {\\n                        \"i\": 4,\\n                        \"im\": -0.08257749050372776,\\n                        \"j\": 20,\\n                        \"re\": -0.04630345162520282\\n                    },\\n                    {\\n                        \"i\": 4,\\n                        \"im\": 0.11922967054102533,\\n                        \"j\": 21,\\n                        \"re\": -0.017080236313530783\\n                    },\\n                    {\\n                        \"i\": 4,\\n                        \"im\": -0.012074279246032465,\\n                        \"j\": 22,\\n                        \"re\": 0.015824038309579336\\n                    },\\n                    {\\n                        \"i\": 4,\\n                        \"im\": -0.11218091003310347,\\n                        \"j\": 23,\\n                        \"re\": -0.07606925812734368\\n                    },\\n                    {\\n                        \"i\": 5,\\n                        \"im\": -0.03605134727139491,\\n                        \"j\": 6,\\n                        \"re\": 0.0354871392153145\\n                    },\\n                    {\\n                        \"i\": 5,\\n                        \"im\": 0.05811663605170792,\\n                        \"j\": 7,\\n                        \"re\": -0.10094064240287683\\n                    },\\n                    {\\n                        \"i\": 5,\\n                        \"im\": -0.10833304506615832,\\n                        \"j\": 8,\\n                        \"re\": 0.13098116472344576\\n                    },\\n                    {\\n                        \"i\": 5,\\n                        \"im\": 0.06214445512849799,\\n                        \"j\": 9,\\n                        \"re\": 0.024668081316257678\\n                    },\\n                    {\\n                        \"i\": 5,\\n                        \"im\": -0.23793568488862868,\\n                        \"j\": 10,\\n                        \"re\": -0.11977844274853966\\n                    },\\n                    {\\n                        \"i\": 5,\\n                        \"im\": 0.07156520463617061,\\n                        \"j\": 11,\\n                        \"re\": 0.0637787665386089\\n                    },\\n                    {\\n                        \"i\": 5,\\n                        \"im\": -0.01155721264428035,\\n                        \"j\": 12,\\n                        \"re\": -0.015214326971493226\\n                    },\\n                    {\\n                        \"i\": 5,\\n                        \"im\": -0.10965929523555738,\\n                        \"j\": 13,\\n                        \"re\": 0.03927877299008712\\n                    },\\n                    {\\n                        \"i\": 5,\\n                        \"im\": -0.03155861403437304,\\n                        \"j\": 14,\\n                        \"re\": 0.031457734502443054\\n                    },\\n                    {\\n                        \"i\": 5,\\n                        \"im\": 0.08632328385073226,\\n                        \"j\": 15,\\n                        \"re\": -0.06887033780910436\\n                    },\\n                    {\\n                        \"i\": 5,\\n                        \"im\": 0.047511727488875936,\\n                        \"j\": 16,\\n                        \"re\": -0.12232871468635952\\n                    },\\n                    {\\n                        \"i\": 5,\\n                        \"im\": 0.02598687687993945,\\n                        \"j\": 17,\\n                        \"re\": 0.09366084901232512\\n                    },\\n                    {\\n                        \"i\": 5,\\n                        \"im\": -0.131701307343405,\\n                        \"j\": 18,\\n                        \"re\": 0.062360591493502295\\n                    },\\n                    {\\n                        \"i\": 5,\\n                        \"im\": 0.01862233888117193,\\n                        \"j\": 19,\\n                        \"re\": -0.09999835406190749\\n                    },\\n                    {\\n                        \"i\": 5,\\n                        \"im\": 0.01203194810650123,\\n                        \"j\": 20,\\n                        \"re\": 0.1908774248086755\\n                    },\\n                    {\\n                        \"i\": 5,\\n                        \"im\": 0.023572642811265455,\\n                        \"j\": 21,\\n                        \"re\": -0.07841196213244858\\n                    },\\n                    {\\n                        \"i\": 5,\\n                        \"im\": -0.021678016016932766,\\n                        \"j\": 22,\\n                        \"re\": 0.07872080243942702\\n                    },\\n                    {\\n                        \"i\": 5,\\n                        \"im\": -0.0746819473008032,\\n                        \"j\": 23,\\n                        \"re\": -0.024028176962746145\\n                    },\\n                    {\\n                        \"i\": 6,\\n                        \"im\": -0.03723036765259138,\\n                        \"j\": 7,\\n                        \"re\": 0.14699373066817628\\n                    },\\n                    {\\n                        \"i\": 6,\\n                        \"im\": 0.025885221106298203,\\n                        \"j\": 8,\\n                        \"re\": -0.1405297020232048\\n                    },\\n                    {\\n                        \"i\": 6,\\n                        \"im\": 0.08030967751966608,\\n                        \"j\": 9,\\n                        \"re\": 0.06875885270382724\\n                    },\\n                    {\\n                        \"i\": 6,\\n                        \"im\": -0.04991978377292132,\\n                        \"j\": 10,\\n                        \"re\": -0.010750550856993063\\n                    },\\n                    {\\n                        \"i\": 6,\\n                        \"im\": -0.02631530096607482,\\n                        \"j\": 11,\\n                        \"re\": -0.0033727589464288936\\n                    },\\n                    {\\n                        \"i\": 6,\\n                        \"im\": 0.027521693672047414,\\n                        \"j\": 12,\\n                        \"re\": 0.07708834405273883\\n                    },\\n                    {\\n                        \"i\": 6,\\n                        \"im\": -0.09767958288169985,\\n                        \"j\": 13,\\n                        \"re\": -0.19731542269492225\\n                    },\\n                    {\\n                        \"i\": 6,\\n                        \"im\": 0.010083992408943462,\\n                        \"j\": 14,\\n                        \"re\": 0.028814701610304392\\n                    },\\n                    {\\n                        \"i\": 6,\\n                        \"im\": 0.13690395160789845,\\n                        \"j\": 15,\\n                        \"re\": -0.14719664657645215\\n                    },\\n                    {\\n                        \"i\": 6,\\n                        \"im\": -0.005284322531759377,\\n                        \"j\": 16,\\n                        \"re\": -0.02620270253248546\\n                    },\\n                    {\\n                        \"i\": 6,\\n                        \"im\": -0.03593184540606544,\\n                        \"j\": 17,\\n                        \"re\": 0.0068659855073045055\\n                    },\\n                    {\\n                        \"i\": 6,\\n                        \"im\": -0.06169139145619999,\\n                        \"j\": 18,\\n                        \"re\": 0.0617315742283322\\n                    },\\n                    {\\n                        \"i\": 6,\\n                        \"im\": -0.04753974670449197,\\n                        \"j\": 19,\\n                        \"re\": -0.065601355626453\\n                    },\\n                    {\\n                        \"i\": 6,\\n                        \"im\": -0.051479052900258095,\\n                        \"j\": 20,\\n                        \"re\": 0.02168954428676281\\n                    },\\n                    {\\n                        \"i\": 6,\\n                        \"im\": 0.10964030767584508,\\n                        \"j\": 21,\\n                        \"re\": -0.20596618465477948\\n                    },\\n                    {\\n                        \"i\": 6,\\n                        \"im\": -0.052630108434943555,\\n                        \"j\": 22,\\n                        \"re\": 0.08617869898802571\\n                    },\\n                    {\\n                        \"i\": 6,\\n                        \"im\": -0.028568567169975998,\\n                        \"j\": 23,\\n                        \"re\": -0.0381148292008223\\n                    },\\n                    {\\n                        \"i\": 7,\\n                        \"im\": 0.010529043423260779,\\n                        \"j\": 8,\\n                        \"re\": -0.09441299316858998\\n                    },\\n                    {\\n                        \"i\": 7,\\n                        \"im\": -0.0392067573838024,\\n                        \"j\": 9,\\n                        \"re\": 0.08170539081681226\\n                    },\\n                    {\\n                        \"i\": 7,\\n                        \"im\": -0.04950615400149178,\\n                        \"j\": 10,\\n                        \"re\": -0.015215729641425558\\n                    },\\n                    {\\n                        \"i\": 7,\\n                        \"im\": -0.12351678884782877,\\n                        \"j\": 11,\\n                        \"re\": -0.09363261045199259\\n                    },\\n                    {\\n                        \"i\": 7,\\n                        \"im\": 0.14393041979701524,\\n                        \"j\": 12,\\n                        \"re\": 0.061637296556378465\\n                    },\\n                    {\\n                        \"i\": 7,\\n                        \"im\": 0.05804036788475358,\\n                        \"j\": 13,\\n                        \"re\": -0.219515479488713\\n                    },\\n                    {\\n                        \"i\": 7,\\n                        \"im\": 0.05118089746222217,\\n                        \"j\": 14,\\n                        \"re\": 0.03839128437359374\\n                    },\\n                    {\\n                        \"i\": 7,\\n                        \"im\": 0.05823229060560354,\\n                        \"j\": 15,\\n                        \"re\": -0.017866977000457033\\n                    },\\n                    {\\n                        \"i\": 7,\\n                        \"im\": 0.0041819015855004546,\\n                        \"j\": 16,\\n                        \"re\": 0.08784393182723158\\n                    },\\n                    {\\n                        \"i\": 7,\\n                        \"im\": 0.06974212437159123,\\n                        \"j\": 17,\\n                        \"re\": -0.055856202522621426\\n                    },\\n                    {\\n                        \"i\": 7,\\n                        \"im\": -0.03286015278829982,\\n                        \"j\": 18,\\n                        \"re\": 0.03513902003810367\\n                    },\\n                    {\\n                        \"i\": 7,\\n                        \"im\": 0.10067724673027749,\\n                        \"j\": 19,\\n                        \"re\": 0.038351433032892505\\n                    },\\n                    {\\n                        \"i\": 7,\\n                        \"im\": -0.015331489609359929,\\n                        \"j\": 20,\\n                        \"re\": -0.05489351551111056\\n                    },\\n                    {\\n                        \"i\": 7,\\n                        \"im\": 0.03086217725919923,\\n                        \"j\": 21,\\n                        \"re\": 0.006221810300109768\\n                    },\\n                    {\\n                        \"i\": 7,\\n                        \"im\": 0.004076999287747604,\\n                        \"j\": 22,\\n                        \"re\": 0.1572854495592356\\n                    },\\n                    {\\n                        \"i\": 7,\\n                        \"im\": -0.07752507095189624,\\n                        \"j\": 23,\\n                        \"re\": 0.04585805240066342\\n                    },\\n                    {\\n                        \"i\": 8,\\n                        \"im\": 0.10805418489289108,\\n                        \"j\": 9,\\n                        \"re\": -0.05027011889716395\\n                    },\\n                    {\\n                        \"i\": 8,\\n                        \"im\": -0.17937573622393443,\\n                        \"j\": 10,\\n                        \"re\": 0.05776357344589501\\n                    },\\n                    {\\n                        \"i\": 8,\\n                        \"im\": -0.04106097304173,\\n                        \"j\": 11,\\n                        \"re\": 0.07355611979202371\\n                    },\\n                    {\\n                        \"i\": 8,\\n                        \"im\": 0.026943635651396465,\\n                        \"j\": 12,\\n                        \"re\": -0.06095327706716481\\n                    },\\n                    {\\n                        \"i\": 8,\\n                        \"im\": -0.0340357923245455,\\n                        \"j\": 13,\\n                        \"re\": 0.14666958676071318\\n                    },\\n                    {\\n                        \"i\": 8,\\n                        \"im\": -0.005080448503754971,\\n                        \"j\": 14,\\n                        \"re\": 0.04365149317983162\\n                    },\\n                    {\\n                        \"i\": 8,\\n                        \"im\": -0.06008101854631527,\\n                        \"j\": 15,\\n                        \"re\": -0.015531073815111367\\n                    },\\n                    {\\n                        \"i\": 8,\\n                        \"im\": 0.027875143179582763,\\n                        \"j\": 16,\\n                        \"re\": -0.11429572239070192\\n                    },\\n                    {\\n                        \"i\": 8,\\n                        \"im\": -0.04744662893055957,\\n                        \"j\": 17,\\n                        \"re\": -0.09860376897938651\\n                    },\\n                    {\\n                        \"i\": 8,\\n                        \"im\": -0.028355809117832587,\\n                        \"j\": 18,\\n                        \"re\": 0.14627875605058827\\n                    },\\n                    {\\n                        \"i\": 8,\\n                        \"im\": -0.010162164805979772,\\n                        \"j\": 19,\\n                        \"re\": -0.14657868147947153\\n                    },\\n                    {\\n                        \"i\": 8,\\n                        \"im\": 0.14597567379512164,\\n                        \"j\": 20,\\n                        \"re\": 0.08012178197871662\\n                    },\\n                    {\\n                        \"i\": 8,\\n                        \"im\": -0.05516601312001278,\\n                        \"j\": 21,\\n                        \"re\": -0.04658049119035973\\n                    },\\n                    {\\n                        \"i\": 8,\\n                        \"im\": -0.054234038847765495,\\n                        \"j\": 22,\\n                        \"re\": -0.06340489970477522\\n                    },\\n                    {\\n                        \"i\": 8,\\n                        \"im\": -0.05043040850962698,\\n                        \"j\": 23,\\n                        \"re\": 0.04531022593436395\\n                    },\\n                    {\\n                        \"i\": 9,\\n                        \"im\": 0.029860296065813266,\\n                        \"j\": 10,\\n                        \"re\": -0.006109529206276427\\n                    },\\n                    {\\n                        \"i\": 9,\\n                        \"im\": -0.06443876093865786,\\n                        \"j\": 11,\\n                        \"re\": -0.10373846892950483\\n                    },\\n                    {\\n                        \"i\": 9,\\n                        \"im\": -0.11788429138492802,\\n                        \"j\": 12,\\n                        \"re\": -0.01557491055262759\\n                    },\\n                    {\\n                        \"i\": 9,\\n                        \"im\": -0.09573755259075233,\\n                        \"j\": 13,\\n                        \"re\": -0.03843261901432187\\n                    },\\n                    {\\n                        \"i\": 9,\\n                        \"im\": 0.031898734093767,\\n                        \"j\": 14,\\n                        \"re\": 0.0032450179703829075\\n                    },\\n                    {\\n                        \"i\": 9,\\n                        \"im\": 0.1336058180806021,\\n                        \"j\": 15,\\n                        \"re\": -0.06277631116936083\\n                    },\\n                    {\\n                        \"i\": 9,\\n                        \"im\": 0.10044190322935861,\\n                        \"j\": 16,\\n                        \"re\": 0.01895241852446654\\n                    },\\n                    {\\n                        \"i\": 9,\\n                        \"im\": 0.08658836691000098,\\n                        \"j\": 17,\\n                        \"re\": -0.17494105284806818\\n                    },\\n                    {\\n                        \"i\": 9,\\n                        \"im\": 0.052769073658634785,\\n                        \"j\": 18,\\n                        \"re\": -5.0458736251776075e-05\\n                    },\\n                    {\\n                        \"i\": 9,\\n                        \"im\": 0.027591746514906753,\\n                        \"j\": 19,\\n                        \"re\": -0.12692903393474939\\n                    },\\n                    {\\n                        \"i\": 9,\\n                        \"im\": -0.011688130816609256,\\n                        \"j\": 20,\\n                        \"re\": -0.04881571354331775\\n                    },\\n                    {\\n                        \"i\": 9,\\n                        \"im\": 0.056855028692965756,\\n                        \"j\": 21,\\n                        \"re\": 0.021062631278956474\\n                    },\\n                    {\\n                        \"i\": 9,\\n                        \"im\": 0.0689153042599922,\\n                        \"j\": 22,\\n                        \"re\": 0.06451025126632462\\n                    },\\n                    {\\n                        \"i\": 9,\\n                        \"im\": 0.1360037329584778,\\n                        \"j\": 23,\\n                        \"re\": -0.011447863227759893\\n                    },\\n                    {\\n                        \"i\": 10,\\n                        \"im\": 0.0826909712877184,\\n                        \"j\": 11,\\n                        \"re\": -0.06572965399206271\\n                    },\\n                    {\\n                        \"i\": 10,\\n                        \"im\": 0.05936831761173544,\\n                        \"j\": 12,\\n                        \"re\": -0.061056148669348234\\n                    },\\n                    {\\n                        \"i\": 10,\\n                        \"im\": -0.07549953724598597,\\n                        \"j\": 13,\\n                        \"re\": 0.03698859795570852\\n                    },\\n                    {\\n                        \"i\": 10,\\n                        \"im\": 0.071208662361952,\\n                        \"j\": 14,\\n                        \"re\": -0.04506013367395035\\n                    },\\n                    {\\n                        \"i\": 10,\\n                        \"im\": -0.08627112706782981,\\n                        \"j\": 15,\\n                        \"re\": -0.021950761158835094\\n                    },\\n                    {\\n                        \"i\": 10,\\n                        \"im\": -0.024426207823081456,\\n                        \"j\": 16,\\n                        \"re\": 0.08603117879619743\\n                    },\\n                    {\\n                        \"i\": 10,\\n                        \"im\": 0.012883712914829768,\\n                        \"j\": 17,\\n                        \"re\": 0.03668512483850904\\n                    },\\n                    {\\n                        \"i\": 10,\\n                        \"im\": 0.1716463684981218,\\n                        \"j\": 18,\\n                        \"re\": 0.1818337390129806\\n                    },\\n                    {\\n                        \"i\": 10,\\n                        \"im\": -0.14601657162775553,\\n                        \"j\": 19,\\n                        \"re\": -0.02811447058321869\\n                    },\\n                    {\\n                        \"i\": 10,\\n                        \"im\": 0.0899448998285093,\\n                        \"j\": 20,\\n                        \"re\": -0.0034534368955913912\\n                    },\\n                    {\\n                        \"i\": 10,\\n                        \"im\": -0.08544681963645744,\\n                        \"j\": 21,\\n                        \"re\": 0.026149845642689275\\n                    },\\n                    {\\n                        \"i\": 10,\\n                        \"im\": 0.16298193337740496,\\n                        \"j\": 22,\\n                        \"re\": -0.03707711699444749\\n                    },\\n                    {\\n                        \"i\": 10,\\n                        \"im\": 0.010649169972546432,\\n                        \"j\": 23,\\n                        \"re\": 0.1887335554628673\\n                    },\\n                    {\\n                        \"i\": 11,\\n                        \"im\": -0.021056420926042572,\\n                        \"j\": 12,\\n                        \"re\": -0.026818781413132032\\n                    },\\n                    {\\n                        \"i\": 11,\\n                        \"im\": 0.009512871013956575,\\n                        \"j\": 13,\\n                        \"re\": 0.00039625420750800743\\n                    },\\n                    {\\n                        \"i\": 11,\\n                        \"im\": 0.04091839931965926,\\n                        \"j\": 14,\\n                        \"re\": -0.06514590890593493\\n                    },\\n                    {\\n                        \"i\": 11,\\n                        \"im\": -0.008084257729851222,\\n                        \"j\": 15,\\n                        \"re\": -0.059901484827909766\\n                    },\\n                    {\\n                        \"i\": 11,\\n                        \"im\": 0.04864004807105115,\\n                        \"j\": 16,\\n                        \"re\": -0.04761920286777077\\n                    },\\n                    {\\n                        \"i\": 11,\\n                        \"im\": -0.16009816918632158,\\n                        \"j\": 17,\\n                        \"re\": 0.07109388132531241\\n                    },\\n                    {\\n                        \"i\": 11,\\n                        \"im\": -0.06690066466256202,\\n                        \"j\": 18,\\n                        \"re\": -0.03860970439646803\\n                    },\\n                    {\\n                        \"i\": 11,\\n                        \"im\": 0.007106222245835796,\\n                        \"j\": 19,\\n                        \"re\": -0.014565010773733154\\n                    },\\n                    {\\n                        \"i\": 11,\\n                        \"im\": -0.04211892753133803,\\n                        \"j\": 20,\\n                        \"re\": 0.03120139411309972\\n                    },\\n                    {\\n                        \"i\": 11,\\n                        \"im\": -0.02371111361732623,\\n                        \"j\": 21,\\n                        \"re\": -0.06304245177105985\\n                    },\\n                    {\\n                        \"i\": 11,\\n                        \"im\": -0.07850684988457977,\\n                        \"j\": 22,\\n                        \"re\": 0.019262553767494757\\n                    },\\n                    {\\n                        \"i\": 11,\\n                        \"im\": 0.003456357697948293,\\n                        \"j\": 23,\\n                        \"re\": -0.139815621234207\\n                    },\\n                    {\\n                        \"i\": 12,\\n                        \"im\": 0.13366294345515728,\\n                        \"j\": 13,\\n                        \"re\": -0.06326460036372018\\n                    },\\n                    {\\n                        \"i\": 12,\\n                        \"im\": -0.026044546121192814,\\n                        \"j\": 14,\\n                        \"re\": 0.103904446595622\\n                    },\\n                    {\\n                        \"i\": 12,\\n                        \"im\": 0.06802368757336182,\\n                        \"j\": 15,\\n                        \"re\": -0.04724094605197884\\n                    },\\n                    {\\n                        \"i\": 12,\\n                        \"im\": 0.03578925220679023,\\n                        \"j\": 16,\\n                        \"re\": -0.06509197122739738\\n                    },\\n                    {\\n                        \"i\": 12,\\n                        \"im\": 0.02055839773098181,\\n                        \"j\": 17,\\n                        \"re\": -0.027599507484010664\\n                    },\\n                    {\\n                        \"i\": 12,\\n                        \"im\": -0.1850953844249034,\\n                        \"j\": 18,\\n                        \"re\": 0.027043019778326242\\n                    },\\n                    {\\n                        \"i\": 12,\\n                        \"im\": -0.04303699393713372,\\n                        \"j\": 19,\\n                        \"re\": -0.001604990677444721\\n                    },\\n                    {\\n                        \"i\": 12,\\n                        \"im\": -0.08532009573034531,\\n                        \"j\": 20,\\n                        \"re\": -0.003038536558955261\\n                    },\\n                    {\\n                        \"i\": 12,\\n                        \"im\": -0.00913365630425453,\\n                        \"j\": 21,\\n                        \"re\": 0.008431482722765773\\n                    },\\n                    {\\n                        \"i\": 12,\\n                        \"im\": -0.05611805534933137,\\n                        \"j\": 22,\\n                        \"re\": 0.06905480185049666\\n                    },\\n                    {\\n                        \"i\": 12,\\n                        \"im\": -0.10696186575591318,\\n                        \"j\": 23,\\n                        \"re\": -0.13398951516730404\\n                    },\\n                    {\\n                        \"i\": 13,\\n                        \"im\": -0.01765136999750052,\\n                        \"j\": 14,\\n                        \"re\": 0.0035668825838008696\\n                    },\\n                    {\\n                        \"i\": 13,\\n                        \"im\": -0.22169918648682316,\\n                        \"j\": 15,\\n                        \"re\": 0.029662920065918374\\n                    },\\n                    {\\n                        \"i\": 13,\\n                        \"im\": -0.12293865752368108,\\n                        \"j\": 16,\\n                        \"re\": -0.015718335598322617\\n                    },\\n                    {\\n                        \"i\": 13,\\n                        \"im\": -0.05310972114611835,\\n                        \"j\": 17,\\n                        \"re\": 0.09899491824723052\\n                    },\\n                    {\\n                        \"i\": 13,\\n                        \"im\": 0.14926104766449952,\\n                        \"j\": 18,\\n                        \"re\": 0.03795809534229441\\n                    },\\n                    {\\n                        \"i\": 13,\\n                        \"im\": -0.14378473625531188,\\n                        \"j\": 19,\\n                        \"re\": 0.0171742488882992\\n                    },\\n                    {\\n                        \"i\": 13,\\n                        \"im\": 0.1635678781638781,\\n                        \"j\": 20,\\n                        \"re\": 0.05727831539208326\\n                    },\\n                    {\\n                        \"i\": 13,\\n                        \"im\": -0.23539196417489652,\\n                        \"j\": 21,\\n                        \"re\": 0.08048517308929289\\n                    },\\n                    {\\n                        \"i\": 13,\\n                        \"im\": 0.051965385844029294,\\n                        \"j\": 22,\\n                        \"re\": -0.12068911732418879\\n                    },\\n                    {\\n                        \"i\": 13,\\n                        \"im\": 0.123197562731418,\\n                        \"j\": 23,\\n                        \"re\": -0.08425271187612182\\n                    },\\n                    {\\n                        \"i\": 14,\\n                        \"im\": -0.10446729919547924,\\n                        \"j\": 15,\\n                        \"re\": -0.1147636578070127\\n                    },\\n                    {\\n                        \"i\": 14,\\n                        \"im\": 0.03982986668092214,\\n                        \"j\": 16,\\n                        \"re\": -0.07102044431775649\\n                    },\\n                    {\\n                        \"i\": 14,\\n                        \"im\": 0.049230412708781465,\\n                        \"j\": 17,\\n                        \"re\": -0.08072117152672133\\n                    },\\n                    {\\n                        \"i\": 14,\\n                        \"im\": -0.2060509933699562,\\n                        \"j\": 18,\\n                        \"re\": 0.08848263525113174\\n                    },\\n                    {\\n                        \"i\": 14,\\n                        \"im\": 0.02270669504632692,\\n                        \"j\": 19,\\n                        \"re\": -0.09126102370185635\\n                    },\\n                    {\\n                        \"i\": 14,\\n                        \"im\": -0.05331095424067423,\\n                        \"j\": 20,\\n                        \"re\": -0.13246005152736307\\n                    },\\n                    {\\n                        \"i\": 14,\\n                        \"im\": -0.06951875496879634,\\n                        \"j\": 21,\\n                        \"re\": -0.011484673947065876\\n                    },\\n                    {\\n                        \"i\": 14,\\n                        \"im\": -0.07875061312494769,\\n                        \"j\": 22,\\n                        \"re\": 0.12862383647936662\\n                    },\\n                    {\\n                        \"i\": 14,\\n                        \"im\": -0.03076421388367727,\\n                        \"j\": 23,\\n                        \"re\": -0.04384694477424098\\n                    },\\n                    {\\n                        \"i\": 15,\\n                        \"im\": 0.05515078959008385,\\n                        \"j\": 16,\\n                        \"re\": 0.15911913900724406\\n                    },\\n                    {\\n                        \"i\": 15,\\n                        \"im\": 0.026665971786902935,\\n                        \"j\": 17,\\n                        \"re\": 0.07950518547780812\\n                    },\\n                    {\\n                        \"i\": 15,\\n                        \"im\": 0.09621759313034742,\\n                        \"j\": 18,\\n                        \"re\": -0.07078010773621884\\n                    },\\n                    {\\n                        \"i\": 15,\\n                        \"im\": 0.08051233630898359,\\n                        \"j\": 19,\\n                        \"re\": 0.11585975590484388\\n                    },\\n                    {\\n                        \"i\": 15,\\n                        \"im\": -0.053526161660470715,\\n                        \"j\": 20,\\n                        \"re\": -0.07244771831571685\\n                    },\\n                    {\\n                        \"i\": 15,\\n                        \"im\": 0.03514888884045337,\\n                        \"j\": 21,\\n                        \"re\": 0.23203229411655132\\n                    },\\n                    {\\n                        \"i\": 15,\\n                        \"im\": -0.10499836305203171,\\n                        \"j\": 22,\\n                        \"re\": -0.028365317648329773\\n                    },\\n                    {\\n                        \"i\": 15,\\n                        \"im\": 0.02379845239643789,\\n                        \"j\": 23,\\n                        \"re\": 0.01621035970043098\\n                    },\\n                    {\\n                        \"i\": 16,\\n                        \"im\": 0.013919786155064425,\\n                        \"j\": 17,\\n                        \"re\": 0.09353253878485915\\n                    },\\n                    {\\n                        \"i\": 16,\\n                        \"im\": 0.09886004301083369,\\n                        \"j\": 18,\\n                        \"re\": -0.13437444227968404\\n                    },\\n                    {\\n                        \"i\": 16,\\n                        \"im\": -0.03711206043046867,\\n                        \"j\": 19,\\n                        \"re\": 0.08679203343039305\\n                    },\\n                    {\\n                        \"i\": 16,\\n                        \"im\": 0.03887879851283253,\\n                        \"j\": 20,\\n                        \"re\": -0.05113308196950296\\n                    },\\n                    {\\n                        \"i\": 16,\\n                        \"im\": -0.009101201681019752,\\n                        \"j\": 21,\\n                        \"re\": 0.0571837833012032\\n                    },\\n                    {\\n                        \"i\": 16,\\n                        \"im\": 0.0899178081649436,\\n                        \"j\": 22,\\n                        \"re\": -0.11776421247723265\\n                    },\\n                    {\\n                        \"i\": 16,\\n                        \"im\": -0.040733119585430536,\\n                        \"j\": 23,\\n                        \"re\": 0.10714421290086439\\n                    },\\n                    {\\n                        \"i\": 17,\\n                        \"im\": 0.024515027126688654,\\n                        \"j\": 18,\\n                        \"re\": -0.09734942586654936\\n                    },\\n                    {\\n                        \"i\": 17,\\n                        \"im\": 0.030067805038054722,\\n                        \"j\": 19,\\n                        \"re\": -0.011055956093112336\\n                    },\\n                    {\\n                        \"i\": 17,\\n                        \"im\": -0.016251740455225018,\\n                        \"j\": 20,\\n                        \"re\": 0.13056892848681104\\n                    },\\n                    {\\n                        \"i\": 17,\\n                        \"im\": -0.030582207007481547,\\n                        \"j\": 21,\\n                        \"re\": -0.010732178273934126\\n                    },\\n                    {\\n                        \"i\": 17,\\n                        \"im\": -0.02869179486287878,\\n                        \"j\": 22,\\n                        \"re\": -0.053878873566837536\\n                    },\\n                    {\\n                        \"i\": 17,\\n                        \"im\": -0.01017296321910829,\\n                        \"j\": 23,\\n                        \"re\": 0.0034071008740771897\\n                    },\\n                    {\\n                        \"i\": 18,\\n                        \"im\": -0.06054353244885405,\\n                        \"j\": 19,\\n                        \"re\": -0.09838560150507042\\n                    },\\n                    {\\n                        \"i\": 18,\\n                        \"im\": 0.10296794983503606,\\n                        \"j\": 20,\\n                        \"re\": 0.1451164688608468\\n                    },\\n                    {\\n                        \"i\": 18,\\n                        \"im\": -0.06322382542022702,\\n                        \"j\": 21,\\n                        \"re\": -0.0178729704059978\\n                    },\\n                    {\\n                        \"i\": 18,\\n                        \"im\": 0.11503653415585124,\\n                        \"j\": 22,\\n                        \"re\": 0.2155034442134002\\n                    },\\n                    {\\n                        \"i\": 18,\\n                        \"im\": -0.0519011796691418,\\n                        \"j\": 23,\\n                        \"re\": -0.01739567693896261\\n                    },\\n                    {\\n                        \"i\": 19,\\n                        \"im\": -0.04448610462342324,\\n                        \"j\": 20,\\n                        \"re\": -0.16717790894827927\\n                    },\\n                    {\\n                        \"i\": 19,\\n                        \"im\": -0.05463340874315801,\\n                        \"j\": 21,\\n                        \"re\": 0.033654534850597315\\n                    },\\n                    {\\n                        \"i\": 19,\\n                        \"im\": -0.10674170855171965,\\n                        \"j\": 22,\\n                        \"re\": -0.034992493184453806\\n                    },\\n                    {\\n                        \"i\": 19,\\n                        \"im\": -0.005611379400164261,\\n                        \"j\": 23,\\n                        \"re\": 0.02193609586580524\\n                    },\\n                    {\\n                        \"i\": 20,\\n                        \"im\": 0.04646237420631521,\\n                        \"j\": 21,\\n                        \"re\": -0.044156658319144004\\n                    },\\n                    {\\n                        \"i\": 20,\\n                        \"im\": 0.11018733321019483,\\n                        \"j\": 22,\\n                        \"re\": -0.001759361711515486\\n                    },\\n                    {\\n                        \"i\": 20,\\n                        \"im\": -0.016863882559317908,\\n                        \"j\": 23,\\n                        \"re\": -0.04300329229257475\\n                    },\\n                    {\\n                        \"i\": 21,\\n                        \"im\": -0.006666343021561353,\\n                        \"j\": 22,\\n                        \"re\": -0.04361549951010201\\n                    },\\n                    {\\n                        \"i\": 21,\\n                        \"im\": 0.047609976019379135,\\n                        \"j\": 23,\\n                        \"re\": -0.03470969039932855\\n                    },\\n                    {\\n                        \"i\": 22,\\n                        \"im\": -0.054967910526655575,\\n                        \"j\": 23,\\n                        \"re\": -0.058249457766495594\\n                    }\\n                ],\\n                \"timestamp\": \"2019-08-04T21:38:31.991Z\"\\n            },\\n            [\\n                {\\n                    \"az\": 326.291387,\\n                    \"el\": 31.523908,\\n                    \"jy\": 1500000.0,\\n                    \"name\": \"MTSAT-2 (MSAS/PRN 137)\",\\n                    \"r\": 38466420.8\\n                },\\n                {\\n                    \"az\": 268.041017,\\n                    \"el\": 60.488247,\\n                    \"jy\": 1500000.0,\\n                    \"name\": \"QZS-1 (QZSS/PRN 183)\",\\n                    \"r\": 33312476.0\\n                },\\n                {\\n                    \"az\": 355.087273,\\n                    \"el\": 39.039469,\\n                    \"jy\": 1500000.0,\\n                    \"name\": \"LUCH 5A (SDCM/PRN 140)\",\\n                    \"r\": 37837823.0\\n                },\\n                {\\n                    \"az\": 280.95849,\\n                    \"el\": 0.406478,\\n                    \"jy\": 1500000.0,\\n                    \"name\": \"LUCH 5V (SDCM/PRN 141)\",\\n                    \"r\": 41637403.7\\n                },\\n                {\\n                    \"az\": 279.399449,\\n                    \"el\": 0.219168,\\n                    \"jy\": 1500000.0,\\n                    \"name\": \"GSAT-15 (GAGAN/PRN 139)\",\\n                    \"r\": 41650595.0\\n                },\\n                {\\n                    \"az\": 77.258939,\\n                    \"el\": 3.446831,\\n                    \"jy\": 1500000.0,\\n                    \"name\": \"E 117 W B (WAAS/PRN 131)\",\\n                    \"r\": 41293777.8\\n                },\\n                {\\n                    \"az\": 67.760239,\\n                    \"el\": 11.656164,\\n                    \"jy\": 1500000.0,\\n                    \"name\": \"SES-15 (WAAS/PRN 133)\",\\n                    \"r\": 40404267.7\\n                },\\n                {\\n                    \"az\": 336.12136,\\n                    \"el\": 1.560273,\\n                    \"jy\": 1500000.0,\\n                    \"name\": \"QZS-2 (QZSS/PRN 184)\",\\n                    \"r\": 43695053.1\\n                },\\n                {\\n                    \"az\": 277.999986,\\n                    \"el\": 40.785413,\\n                    \"jy\": 1500000.0,\\n                    \"name\": \"GPS BIIA-23 (PRN 18)\",\\n                    \"r\": 22156267.5\\n                },\\n                {\\n                    \"az\": 264.693891,\\n                    \"el\": 21.235455,\\n                    \"jy\": 1500000.0,\\n                    \"name\": \"GPS BIIR-3  (PRN 11)\",\\n                    \"r\": 23956976.3\\n                },\\n                {\\n                    \"az\": 45.335875,\\n                    \"el\": 8.51047,\\n                    \"jy\": 1500000.0,\\n                    \"name\": \"GPS BIIR-4  (PRN 20)\",\\n                    \"r\": 24917552.5\\n                },\\n                {\\n                    \"az\": 200.658221,\\n                    \"el\": 79.377151,\\n                    \"jy\": 1500000.0,\\n                    \"name\": \"GPS BIIR-6  (PRN 14)\",\\n                    \"r\": 19995751.2\\n                },\\n                {\\n                    \"az\": 235.01946,\\n                    \"el\": 31.080188,\\n                    \"jy\": 1500000.0,\\n                    \"name\": \"GPS BIIR-10 (PRN 22)\",\\n                    \"r\": 22547807.5\\n                },\\n                {\\n                    \"az\": 197.017579,\\n                    \"el\": 0.284214,\\n                    \"jy\": 1500000.0,\\n                    \"name\": \"GPS BIIRM-1 (PRN 17)\",\\n                    \"r\": 25437123.5\\n                },\\n                {\\n                    \"az\": 355.039791,\\n                    \"el\": 56.828601,\\n                    \"jy\": 1500000.0,\\n                    \"name\": \"GPS BIIRM-2 (PRN 31)\",\\n                    \"r\": 21217958.0\\n                },\\n                {\\n                    \"az\": 130.353809,\\n                    \"el\": 17.089083,\\n                    \"jy\": 1500000.0,\\n                    \"name\": \"GPS BIIRM-3 (PRN 12)\",\\n                    \"r\": 24199244.6\\n                },\\n                {\\n                    \"az\": 89.661251,\\n                    \"el\": 25.930819,\\n                    \"jy\": 1500000.0,\\n                    \"name\": \"GPS BIIF-1  (PRN 25)\",\\n                    \"r\": 23366338.0\\n                },\\n                {\\n                    \"az\": 245.780821,\\n                    \"el\": 36.168818,\\n                    \"jy\": 1500000.0,\\n                    \"name\": \"GPS BIIF-2  (PRN 01)\",\\n                    \"r\": 22360520.0\\n                },\\n                {\\n                    \"az\": 232.639697,\\n                    \"el\": 11.799668,\\n                    \"jy\": 1500000.0,\\n                    \"name\": \"GPS BIIF-8  (PRN 03)\",\\n                    \"r\": 24591629.6\\n                },\\n                {\\n                    \"az\": 49.80105,\\n                    \"el\": 33.120443,\\n                    \"jy\": 1500000.0,\\n                    \"name\": \"GPS BIIF-11  (PRN 10)\",\\n                    \"r\": 22631567.6\\n                },\\n                {\\n                    \"az\": 123.424114,\\n                    \"el\": 64.450497,\\n                    \"jy\": 1500000.0,\\n                    \"name\": \"GPS BIIF-12  (PRN 32)\",\\n                    \"r\": 20636730.0\\n                },\\n                {\\n                    \"az\": 254.586913,\\n                    \"el\": 28.687169,\\n                    \"jy\": 1500000.0,\\n                    \"name\": \"GSAT0203 (PRN E26)\",\\n                    \"r\": 26020570.2\\n                },\\n                {\\n                    \"az\": 14.842511,\\n                    \"el\": 17.531264,\\n                    \"jy\": 1500000.0,\\n                    \"name\": \"GSAT0206 (PRN E30)\",\\n                    \"r\": 27033122.1\\n                },\\n                {\\n                    \"az\": 131.661373,\\n                    \"el\": 75.108483,\\n                    \"jy\": 1500000.0,\\n                    \"name\": \"GSAT0208 (PRN E08)\",\\n                    \"r\": 23396290.8\\n                },\\n                {\\n                    \"az\": 67.746312,\\n                    \"el\": 42.303534,\\n                    \"jy\": 1500000.0,\\n                    \"name\": \"GSAT0211 (PRN E02)\",\\n                    \"r\": 24931540.1\\n                },\\n                {\\n                    \"az\": 252.532611,\\n                    \"el\": 43.191924,\\n                    \"jy\": 1500000.0,\\n                    \"name\": \"GSAT0207 (PRN E07)\",\\n                    \"r\": 24875379.4\\n                },\\n                {\\n                    \"az\": 90.052246,\\n                    \"el\": 25.260552,\\n                    \"jy\": 1500000.0,\\n                    \"name\": \"GSAT0212 (PRN E03)\",\\n                    \"r\": 26307358.1\\n                },\\n                {\\n                    \"az\": 131.114681,\\n                    \"el\": 26.786186,\\n                    \"jy\": 1500000.0,\\n                    \"name\": \"GSAT0216 (PRN E25)\",\\n                    \"r\": 26182665.9\\n                },\\n                {\\n                    \"az\": 206.639313,\\n                    \"el\": 8.227337,\\n                    \"jy\": 1500000.0,\\n                    \"name\": \"GSAT0222 (PRN E33)\",\\n                    \"r\": 28028614.4\\n                },\\n                {\\n                    \"az\": 310.973871,\\n                    \"el\": 21.870363,\\n                    \"jy\": 1500000.0,\\n                    \"name\": \"GSAT0220 (PRN E13)\",\\n                    \"r\": 26619827.4\\n                },\\n                {\\n                    \"az\": 321.146359,\\n                    \"el\": 28.188217,\\n                    \"jy\": 1500000.0,\\n                    \"name\": \"BEIDOU 3 (C01)\",\\n                    \"r\": 38769349.7\\n                },\\n                {\\n                    \"az\": 271.099044,\\n                    \"el\": 24.351827,\\n                    \"jy\": 1500000.0,\\n                    \"name\": \"BEIDOU 5 (C06)\",\\n                    \"r\": 38835076.2\\n                },\\n                {\\n                    \"az\": 345.430161,\\n                    \"el\": 35.795142,\\n                    \"jy\": 1500000.0,\\n                    \"name\": \"BEIDOU 6 (C04)\",\\n                    \"r\": 38111658.7\\n                },\\n                {\\n                    \"az\": 290.150099,\\n                    \"el\": 45.894634,\\n                    \"jy\": 1500000.0,\\n                    \"name\": \"BEIDOU 8 (C08)\",\\n                    \"r\": 37465029.8\\n                },\\n                {\\n                    \"az\": 276.616836,\\n                    \"el\": 2.315176,\\n                    \"jy\": 1500000.0,\\n                    \"name\": \"BEIDOU 9 (C09)\",\\n                    \"r\": 41213297.4\\n                },\\n                {\\n                    \"az\": 229.509982,\\n                    \"el\": 10.945433,\\n                    \"jy\": 1500000.0,\\n                    \"name\": \"BEIDOU 13 (C12)\",\\n                    \"r\": 25983762.8\\n                },\\n                {\\n                    \"az\": 255.079766,\\n                    \"el\": 11.769875,\\n                    \"jy\": 1500000.0,\\n                    \"name\": \"BEIDOU 19 (C58)\",\\n                    \"r\": 25901339.9\\n                },\\n                {\\n                    \"az\": 257.301989,\\n                    \"el\": 41.782398,\\n                    \"jy\": 1500000.0,\\n                    \"name\": \"BEIDOU IGSO-6 (C13)\",\\n                    \"r\": 37711384.9\\n                },\\n                {\\n                    \"az\": 292.205298,\\n                    \"el\": 12.064568,\\n                    \"jy\": 1500000.0,\\n                    \"name\": \"BEIDOU-2 G7 (C03)\",\\n                    \"r\": 40344513.1\\n                },\\n                {\\n                    \"az\": 231.917221,\\n                    \"el\": 64.673985,\\n                    \"jy\": 1500000.0,\\n                    \"name\": \"BEIDOU-3 M1 (C19)\",\\n                    \"r\": 21997085.9\\n                },\\n                {\\n                    \"az\": 74.075101,\\n                    \"el\": 57.456081,\\n                    \"jy\": 1500000.0,\\n                    \"name\": \"BEIDOU-3 M2 (C20)\",\\n                    \"r\": 22299659.8\\n                },\\n                {\\n                    \"az\": 242.506306,\\n                    \"el\": 12.759463,\\n                    \"jy\": 1500000.0,\\n                    \"name\": \"BEIDOU-3 M5 (C21)\",\\n                    \"r\": 25816197.1\\n                },\\n                {\\n                    \"az\": 270.432289,\\n                    \"el\": 21.785548,\\n                    \"jy\": 1500000.0,\\n                    \"name\": \"BEIDOU IGSO-7 (C16)\",\\n                    \"r\": 39289721.7\\n                },\\n                {\\n                    \"az\": 143.720693,\\n                    \"el\": 7.839515,\\n                    \"jy\": 1500000.0,\\n                    \"name\": \"BEIDOU-3 M9 (C23)\",\\n                    \"r\": 26326459.9\\n                },\\n                {\\n                    \"az\": 65.934493,\\n                    \"el\": 6.121706,\\n                    \"jy\": 1500000.0,\\n                    \"name\": \"BEIDOU-3 M13 (C32)\",\\n                    \"r\": 26484728.8\\n                },\\n                {\\n                    \"az\": 277.945401,\\n                    \"el\": 8.845598,\\n                    \"jy\": 1500000.0,\\n                    \"name\": \"BEIDOU-3 M15 (C34)\",\\n                    \"r\": 26190045.7\\n                },\\n                {\\n                    \"az\": 326.145822,\\n                    \"el\": 30.247223,\\n                    \"jy\": 1500000.0,\\n                    \"name\": \"BEIDOU-3 G1 (C59)\",\\n                    \"r\": 38585273.6\\n                },\\n                {\\n                    \"az\": 342.849711,\\n                    \"el\": 6.695078,\\n                    \"jy\": 1500000.0,\\n                    \"name\": \"BEIDOU-3 M17 (C36)\",\\n                    \"r\": 26420737.7\\n                },\\n                {\\n                    \"az\": 108.448092,\\n                    \"el\": 49.130941,\\n                    \"jy\": 1500000.0,\\n                    \"name\": \"BEIDOU-3 M18 (C37)\",\\n                    \"r\": 22763886.5\\n                },\\n                {\\n                    \"az\": 285.008319,\\n                    \"el\": 43.750292,\\n                    \"jy\": 1500000.0,\\n                    \"name\": \"BEIDOU-3 IGSO-1 (C38)\",\\n                    \"r\": 37573165.7\\n                },\\n                {\\n                    \"az\": 267.914182,\\n                    \"el\": 17.368493,\\n                    \"jy\": 1500000.0,\\n                    \"name\": \"BEIDOU-3 IGSO-2\",\\n                    \"r\": 39774444.9\\n                },\\n                {\\n                    \"az\": 307.014988,\\n                    \"el\": 22.324255,\\n                    \"jy\": 1500000.0,\\n                    \"name\": \"QZS-3 (MICHIBIKI-3)\",\\n                    \"r\": 39323220.6\\n                },\\n                {\\n                    \"az\": 329.550526,\\n                    \"el\": 1.546697,\\n                    \"jy\": 1500000.0,\\n                    \"name\": \"QZS-4 (MICHIBIKI-4)\",\\n                    \"r\": 43688756.5\\n                },\\n                {\\n                    \"az\": 45.546596,\\n                    \"el\": 14.36456,\\n                    \"jy\": 10000.0,\\n                    \"name\": \"sun\",\\n                    \"r\": 10000000000.0\\n                }\\n            ]\\n        ]\\n    ]\\n}'}"
            ]
          },
          "metadata": {},
          "execution_count": 5
        }
      ]
    },
    {
      "cell_type": "markdown",
      "source": [
        "## Convert example JSON file"
      ],
      "metadata": {
        "id": "zY-UojWlpL0Y"
      }
    },
    {
      "cell_type": "code",
      "source": [
        "filename='data_2019_08_04_21_38_31_UTC.json'\n",
        "print(f'Input file: {filename}')\n",
        "import os\n",
        "msfile=f\"{os.path.splitext(os.path.basename(filename))[0]}.ms\"\n",
        "print(f'Output file: {msfile}')"
      ],
      "metadata": {
        "colab": {
          "base_uri": "https://localhost:8080/"
        },
        "id": "8O4PjSfQIaaN",
        "outputId": "f474fcfb-04a5-4f14-bb31-c319ccf0ec95"
      },
      "execution_count": 6,
      "outputs": [
        {
          "output_type": "stream",
          "name": "stdout",
          "text": [
            "Input file: data_2019_08_04_21_38_31_UTC.json\n",
            "Output file: data_2019_08_04_21_38_31_UTC.ms\n"
          ]
        }
      ]
    },
    {
      "cell_type": "code",
      "source": [
        "!tart2ms --json {filename} --ms {msfile}"
      ],
      "metadata": {
        "colab": {
          "base_uri": "https://localhost:8080/"
        },
        "id": "ntetZ0oUplbA",
        "outputId": "56c0d561-3538-4424-e323-093046a689e8"
      },
      "execution_count": 7,
      "outputs": [
        {
          "output_type": "stream",
          "name": "stdout",
          "text": [
            "Getting Data from file: data_2019_08_04_21_38_31_UTC.json\n",
            "Writing measurement set 'data_2019_08_04_21_38_31_UTC.ms'...\n",
            "2022-10-14 11:40:29,048 - root - INFO - Time 5071671511.991\n",
            "/usr/local/lib/python3.7/dist-packages/astropy/time/utils.py:179: RuntimeWarning: overflow encountered in double_scalars\n",
            "  c = 134217729. * a  # 2**27+1.\n",
            "/usr/local/lib/python3.7/dist-packages/astropy/time/utils.py:181: RuntimeWarning: invalid value encountered in double_scalars\n",
            "  ah = c - abig\n",
            "\u001b[0;39mDownloading https://hpiers.obspm.fr/iers/bul/bulc/Leap_Second.dat\u001b[0m\n",
            "|\u001b[0;34m===========================================\u001b[0m| 1.3k/1.3k (100.00%)         0s\n",
            "\u001b[0;39mDownloading https://www.ietf.org/timezones/data/leap-seconds.list\u001b[0m\u001b[0;32m [Done]\u001b[0m\n",
            "\u001b[0;39mDownloading https://astroconda.org/aux/astropy_mirror/iers_a_1/finals2000A.all\u001b[0m\n",
            "|\u001b[0;34m===========================================\u001b[0m| 3.2M/3.2M (100.00%)         0s\n",
            "2022-10-14 11:40:31,276 - root - INFO - Pol Feeds ['RR']\n",
            "2022-10-14 11:40:31,276 - root - INFO - Correlation Types [[5]]\n",
            "2022-10-14 11:40:31,321 - root - INFO - Pol Types ['RR']\n",
            "2022-10-14 11:40:31,322 - root - INFO - Pol Responses [[0.7071067811865475, (-0-0.7071067811865475j)]]\n",
            "2022-10-14 11:40:31,780 - root - INFO - Corr Prod [[0 0]]\n",
            "2022-10-14 11:40:31,780 - root - INFO - Corr Type [5]\n",
            "2022-10-14 11:40:31,780 - root - INFO - NUM_CORR dask.array<full_like, shape=(1,), dtype=int32, chunksize=(1,), chunktype=numpy.ndarray>\n",
            "2022-10-14 11:40:31,781 - root - INFO - Dask Corr Prod (1, 1, 2)\n",
            "2022-10-14 11:40:31,781 - root - INFO - Dask Corr Type (1, 1)\n",
            "2022-10-14 11:40:31,783 - root - INFO - Data size 276 1 1\n",
            "Measurement set writing complete.\n"
          ]
        }
      ]
    },
    {
      "cell_type": "markdown",
      "source": [
        "## Save MS to Google drive"
      ],
      "metadata": {
        "id": "oM__ctsXGVa9"
      }
    },
    {
      "cell_type": "code",
      "source": [
        "from google.colab import drive\n",
        "drive.mount('/content/drive')"
      ],
      "metadata": {
        "colab": {
          "base_uri": "https://localhost:8080/"
        },
        "id": "mk1f55z6plSr",
        "outputId": "d84c4a17-1702-4142-ae6b-b6ad30ca6c63"
      },
      "execution_count": 8,
      "outputs": [
        {
          "output_type": "stream",
          "name": "stdout",
          "text": [
            "Mounted at /content/drive\n"
          ]
        }
      ]
    },
    {
      "cell_type": "code",
      "source": [
        "import os\n",
        "import shutil  \n",
        "print(os.getcwd())"
      ],
      "metadata": {
        "colab": {
          "base_uri": "https://localhost:8080/"
        },
        "id": "_P7dDqnCEib0",
        "outputId": "5bd551c3-ddf6-4867-f754-4367a7d219ae"
      },
      "execution_count": 9,
      "outputs": [
        {
          "output_type": "stream",
          "name": "stdout",
          "text": [
            "/content\n"
          ]
        }
      ]
    },
    {
      "cell_type": "code",
      "source": [
        "source = msfile\n",
        "destination = os.path.join('drive/MyDrive/RARG/TART/output', msfile)\n",
        "shutil.move(source, destination)"
      ],
      "metadata": {
        "colab": {
          "base_uri": "https://localhost:8080/",
          "height": 35
        },
        "id": "kLJILKHfo6M-",
        "outputId": "10dc730e-a0a6-46ed-f2ba-81758a461874"
      },
      "execution_count": 11,
      "outputs": [
        {
          "output_type": "execute_result",
          "data": {
            "text/plain": [
              "'drive/MyDrive/RARG/TART/output/data_2019_08_04_21_38_31_UTC.ms'"
            ],
            "application/vnd.google.colaboratory.intrinsic+json": {
              "type": "string"
            }
          },
          "metadata": {},
          "execution_count": 11
        }
      ]
    },
    {
      "cell_type": "code",
      "source": [],
      "metadata": {
        "id": "eBm5pQ1yo58M"
      },
      "execution_count": 11,
      "outputs": []
    }
  ]
}